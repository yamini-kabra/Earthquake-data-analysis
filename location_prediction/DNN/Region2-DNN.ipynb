{
 "cells": [
  {
   "cell_type": "code",
   "execution_count": 13,
   "id": "6fd65e6d",
   "metadata": {},
   "outputs": [
    {
     "data": {
      "text/plain": [
       "0       0\n",
       "1       0\n",
       "2       0\n",
       "3       0\n",
       "4       0\n",
       "       ..\n",
       "2622    0\n",
       "2623    0\n",
       "2624    0\n",
       "2625    0\n",
       "2626    0\n",
       "Name: region2, Length: 2627, dtype: int64"
      ]
     },
     "execution_count": 13,
     "metadata": {},
     "output_type": "execute_result"
    }
   ],
   "source": [
    "import pandas as pd\n",
    "import numpy as np\n",
    "data = pd.read_csv(\"lstm_data.csv\")\n",
    "#data = data.drop(['week','Unnamed: 0'],axis=1)\n",
    "data = data['region2']\n",
    "data"
   ]
  },
  {
   "cell_type": "code",
   "execution_count": 14,
   "id": "f1d284f5",
   "metadata": {},
   "outputs": [
    {
     "data": {
      "text/plain": [
       "array([0, 0, 0, ..., 0, 0, 0], dtype=int64)"
      ]
     },
     "execution_count": 14,
     "metadata": {},
     "output_type": "execute_result"
    }
   ],
   "source": [
    "data = data\n",
    "data = np.array(data)\n",
    "data"
   ]
  },
  {
   "cell_type": "code",
   "execution_count": 15,
   "id": "223f70d5",
   "metadata": {},
   "outputs": [],
   "source": [
    "import numpy as np\n",
    "def splitSequence(seq, n_steps):\n",
    "    \n",
    "    #Declare X and y as empty list\n",
    "    X = []\n",
    "    y = []\n",
    "    \n",
    "    for i in range(len(seq)):\n",
    "        #get the last index\n",
    "        lastIndex = i + n_steps\n",
    "        \n",
    "        #if lastIndex is greater than length of sequence then break\n",
    "        if lastIndex > len(seq) - 1:\n",
    "            break\n",
    "            \n",
    "        #Create input and output sequence\n",
    "        seq_X, seq_y = seq[i:lastIndex], seq[lastIndex]\n",
    "        \n",
    "        #append seq_X, seq_y in X and y list\n",
    "        X.append(seq_X)\n",
    "        y.append(seq_y)\n",
    "        pass\n",
    "    #Convert X and y into numpy array\n",
    "    X = np.array(X)\n",
    "    y = np.array(y)\n",
    "    \n",
    "    return X,y \n",
    "    \n",
    "    pass"
   ]
  },
  {
   "cell_type": "code",
   "execution_count": 16,
   "id": "1cf2f209",
   "metadata": {},
   "outputs": [],
   "source": [
    "n_steps = 500\n",
    "X, y = splitSequence(data, n_steps)"
   ]
  },
  {
   "cell_type": "code",
   "execution_count": 17,
   "id": "2ec4362f",
   "metadata": {},
   "outputs": [
    {
     "name": "stdout",
     "output_type": "stream",
     "text": [
      "(2127, 500) (2127,)\n"
     ]
    }
   ],
   "source": [
    "print(X.shape,y.shape)"
   ]
  },
  {
   "cell_type": "code",
   "execution_count": 18,
   "id": "6e3c70a4",
   "metadata": {},
   "outputs": [
    {
     "name": "stdout",
     "output_type": "stream",
     "text": [
      "[0 0 0 0 0 0 0 0 0 0 0 0 0 0 0 1 0 0 0 0 0 0 1 0 0 0 0 0 0 0 1 0 0 0 0 0 0\n",
      " 0 0 0 0 0 0 1 0 0 0 1 0 0 0 0 0 0 0 0 1 0 0 0 0 0 0 0 0 0 0 0 0 0 0 0 0 0\n",
      " 0 0 0 0 0 1 0 0 0 0 0 0 0 0 1 0 0 0 1 0 0 0 0 0 0 0 0 0 0 0 0 0 1 0 0 0 0\n",
      " 0 0 0 0 0 0 0 0 0 0 0 0 0 0 0 0 0 0 0 1 0 1 1 0 0 0 0 0 0 0 0 1 0 0 0 1 0\n",
      " 0 0 0 0 0 0 0 0 0 0 0 0 0 0 0 0 1 0 0 1 1 0 0 0 0 0 0 0 0 0 0 0 1 0 0 0 0\n",
      " 0 0 0 0 0 0 0 0 0 0 0 0 0 0 0 1 0 0 0 0 0 0 0 0 0 0 0 0 1 0 0 0 0 0 0 0 0\n",
      " 0 0 0 0 0 0 0 1 0 0 0 1 0 0 0 0 0 0 0 0 0 0 0 0 0 0 0 0 0 0 0 0 0 0 0 0 0\n",
      " 0 0 0 1 1 1 0 0 0 0 0 1 0 0 0 0 0 0 0 1 0 0 0 0 0 0 0 0 0 0 0 0 0 0 0 0 0\n",
      " 0 0 0 0 0 0 0 0 0 1 0 0 1 0 0 0 0 0 0 1 0 0 0 0 0 0 0 0 0 0 0 0 0 1 1 0 0\n",
      " 0 1 0 0 1 0 0 0 0 0 1 0 0 0 0 0 0 0 0 0 0 1 0 0 0 0 0 0 0 0 0 0 0 0 0 0 0\n",
      " 0 0 0 0 0 0 0 1 0 0 0 0 1 0 0 0 0 0 0 0 0 1 1 0 0 0 0 0 0 0 0 0 0 0 0 1 0\n",
      " 0 1 0 0 0 1 1 0 0 0 0 0 0 0 0 1 0 0 0 0 0 0 0 0 0 0 0 0 0 0 0 0 0 0 0 0 0\n",
      " 0 1 0 0 0 0 0 0 1 0 1 0 0 1 0 1 0 0 0 1 0 0 0 1 0 0 0 1 0 0 0 0 0 0 0 0 0\n",
      " 0 0 0 0 1 0 0 0 0 0 0 0 1 0 0 0 0 1 0] [0 0 0 ... 0 0 0]\n"
     ]
    }
   ],
   "source": [
    "print(X[0],y)"
   ]
  },
  {
   "cell_type": "code",
   "execution_count": 19,
   "id": "e892195b",
   "metadata": {},
   "outputs": [
    {
     "name": "stdout",
     "output_type": "stream",
     "text": [
      "(2127,)\n"
     ]
    }
   ],
   "source": [
    "n_features = 1\n",
    "print(y.shape)"
   ]
  },
  {
   "cell_type": "code",
   "execution_count": 20,
   "id": "33eb7e1f",
   "metadata": {},
   "outputs": [],
   "source": [
    "import tensorflow as tf\n",
    "from tensorflow import keras\n",
    "from tensorflow.keras import layers"
   ]
  },
  {
   "cell_type": "code",
   "execution_count": 21,
   "id": "620eb7e3",
   "metadata": {},
   "outputs": [],
   "source": [
    "mod1 = tf.keras.Sequential()\n",
    "mod1.add(layers.Dense(50, activation='sigmoid'))\n",
    "mod1.add(layers.Dropout(0.2))\n",
    "mod1.add(layers.Dense(100,activation='softmax'))\n",
    "mod1.add(layers.Dense(1))"
   ]
  },
  {
   "cell_type": "code",
   "execution_count": 22,
   "id": "3156efb4",
   "metadata": {},
   "outputs": [
    {
     "data": {
      "text/plain": [
       "[<keras.layers.core.Dense at 0x2e764cd8130>,\n",
       " <keras.layers.core.Dropout at 0x2e7638d0ca0>,\n",
       " <keras.layers.core.Dense at 0x2e764cd87c0>,\n",
       " <keras.layers.core.Dense at 0x2e764cd8820>]"
      ]
     },
     "execution_count": 22,
     "metadata": {},
     "output_type": "execute_result"
    }
   ],
   "source": [
    "mod1.layers\n"
   ]
  },
  {
   "cell_type": "code",
   "execution_count": 23,
   "id": "4f4022bd",
   "metadata": {},
   "outputs": [],
   "source": [
    "mod1.compile(optimizer=tf.keras.optimizers.Adam(0.001), loss=tf.keras.losses.MeanSquaredError(), metrics=['accuracy'])\n"
   ]
  },
  {
   "cell_type": "code",
   "execution_count": 24,
   "id": "f7b73940",
   "metadata": {},
   "outputs": [
    {
     "name": "stdout",
     "output_type": "stream",
     "text": [
      "Epoch 1/50\n",
      "67/67 [==============================] - 1s 4ms/step - loss: 0.0915 - accuracy: 0.8999\n",
      "Epoch 2/50\n",
      "67/67 [==============================] - 0s 4ms/step - loss: 0.0897 - accuracy: 0.8999\n",
      "Epoch 3/50\n",
      "67/67 [==============================] - 0s 4ms/step - loss: 0.0891 - accuracy: 0.8999\n",
      "Epoch 4/50\n",
      "67/67 [==============================] - 0s 6ms/step - loss: 0.0880 - accuracy: 0.8999\n",
      "Epoch 5/50\n",
      "67/67 [==============================] - 0s 7ms/step - loss: 0.0860 - accuracy: 0.8999\n",
      "Epoch 6/50\n",
      "67/67 [==============================] - 0s 3ms/step - loss: 0.0828 - accuracy: 0.8999\n",
      "Epoch 7/50\n",
      "67/67 [==============================] - 0s 3ms/step - loss: 0.0802 - accuracy: 0.8999\n",
      "Epoch 8/50\n",
      "67/67 [==============================] - 0s 3ms/step - loss: 0.0790 - accuracy: 0.8999\n",
      "Epoch 9/50\n",
      "67/67 [==============================] - 0s 4ms/step - loss: 0.0752 - accuracy: 0.8999\n",
      "Epoch 10/50\n",
      "67/67 [==============================] - 0s 5ms/step - loss: 0.0740 - accuracy: 0.8999\n",
      "Epoch 11/50\n",
      "67/67 [==============================] - 0s 4ms/step - loss: 0.0723 - accuracy: 0.8999\n",
      "Epoch 12/50\n",
      "67/67 [==============================] - 0s 4ms/step - loss: 0.0719 - accuracy: 0.9003\n",
      "Epoch 13/50\n",
      "67/67 [==============================] - 0s 4ms/step - loss: 0.0697 - accuracy: 0.9017\n",
      "Epoch 14/50\n",
      "67/67 [==============================] - 0s 4ms/step - loss: 0.0692 - accuracy: 0.9017\n",
      "Epoch 15/50\n",
      "67/67 [==============================] - 0s 3ms/step - loss: 0.0684 - accuracy: 0.9013\n",
      "Epoch 16/50\n",
      "67/67 [==============================] - 0s 4ms/step - loss: 0.0651 - accuracy: 0.9064\n",
      "Epoch 17/50\n",
      "67/67 [==============================] - 0s 4ms/step - loss: 0.0657 - accuracy: 0.9050\n",
      "Epoch 18/50\n",
      "67/67 [==============================] - 0s 4ms/step - loss: 0.0635 - accuracy: 0.9097\n",
      "Epoch 19/50\n",
      "67/67 [==============================] - 0s 4ms/step - loss: 0.0622 - accuracy: 0.9177\n",
      "Epoch 20/50\n",
      "67/67 [==============================] - 0s 7ms/step - loss: 0.0618 - accuracy: 0.9154\n",
      "Epoch 21/50\n",
      "67/67 [==============================] - 0s 6ms/step - loss: 0.0607 - accuracy: 0.9187\n",
      "Epoch 22/50\n",
      "67/67 [==============================] - 0s 5ms/step - loss: 0.0577 - accuracy: 0.9215\n",
      "Epoch 23/50\n",
      "67/67 [==============================] - 0s 6ms/step - loss: 0.0567 - accuracy: 0.9267\n",
      "Epoch 24/50\n",
      "67/67 [==============================] - 0s 6ms/step - loss: 0.0574 - accuracy: 0.9205\n",
      "Epoch 25/50\n",
      "67/67 [==============================] - 0s 5ms/step - loss: 0.0565 - accuracy: 0.9281\n",
      "Epoch 26/50\n",
      "67/67 [==============================] - 0s 5ms/step - loss: 0.0543 - accuracy: 0.9299\n",
      "Epoch 27/50\n",
      "67/67 [==============================] - 0s 5ms/step - loss: 0.0523 - accuracy: 0.9318\n",
      "Epoch 28/50\n",
      "67/67 [==============================] - 0s 5ms/step - loss: 0.0522 - accuracy: 0.9356\n",
      "Epoch 29/50\n",
      "67/67 [==============================] - 0s 5ms/step - loss: 0.0496 - accuracy: 0.9408\n",
      "Epoch 30/50\n",
      "67/67 [==============================] - 0s 5ms/step - loss: 0.0481 - accuracy: 0.9417\n",
      "Epoch 31/50\n",
      "67/67 [==============================] - 0s 6ms/step - loss: 0.0457 - accuracy: 0.9431\n",
      "Epoch 32/50\n",
      "67/67 [==============================] - 0s 5ms/step - loss: 0.0427 - accuracy: 0.9488\n",
      "Epoch 33/50\n",
      "67/67 [==============================] - ETA: 0s - loss: 0.0407 - accuracy: 0.94 - 0s 6ms/step - loss: 0.0426 - accuracy: 0.9445\n",
      "Epoch 34/50\n",
      "67/67 [==============================] - 0s 6ms/step - loss: 0.0412 - accuracy: 0.9497\n",
      "Epoch 35/50\n",
      "67/67 [==============================] - 0s 6ms/step - loss: 0.0380 - accuracy: 0.9535\n",
      "Epoch 36/50\n",
      "67/67 [==============================] - 0s 5ms/step - loss: 0.0367 - accuracy: 0.9567\n",
      "Epoch 37/50\n",
      "67/67 [==============================] - 0s 5ms/step - loss: 0.0357 - accuracy: 0.9525\n",
      "Epoch 38/50\n",
      "67/67 [==============================] - 0s 5ms/step - loss: 0.0343 - accuracy: 0.9582\n",
      "Epoch 39/50\n",
      "67/67 [==============================] - 0s 5ms/step - loss: 0.0326 - accuracy: 0.9619\n",
      "Epoch 40/50\n",
      "67/67 [==============================] - 0s 5ms/step - loss: 0.0324 - accuracy: 0.9605\n",
      "Epoch 41/50\n",
      "67/67 [==============================] - 0s 5ms/step - loss: 0.0290 - accuracy: 0.9676\n",
      "Epoch 42/50\n",
      "67/67 [==============================] - 0s 5ms/step - loss: 0.0276 - accuracy: 0.9657\n",
      "Epoch 43/50\n",
      "67/67 [==============================] - 0s 5ms/step - loss: 0.0254 - accuracy: 0.9680\n",
      "Epoch 44/50\n",
      "67/67 [==============================] - 0s 5ms/step - loss: 0.0255 - accuracy: 0.9694\n",
      "Epoch 45/50\n",
      "67/67 [==============================] - 0s 5ms/step - loss: 0.0236 - accuracy: 0.9713\n",
      "Epoch 46/50\n",
      "67/67 [==============================] - 0s 5ms/step - loss: 0.0200 - accuracy: 0.9803\n",
      "Epoch 47/50\n",
      "67/67 [==============================] - 0s 5ms/step - loss: 0.0243 - accuracy: 0.9718\n",
      "Epoch 48/50\n",
      "67/67 [==============================] - 0s 5ms/step - loss: 0.0208 - accuracy: 0.9779\n",
      "Epoch 49/50\n",
      "67/67 [==============================] - 0s 5ms/step - loss: 0.0189 - accuracy: 0.9788\n",
      "Epoch 50/50\n",
      "67/67 [==============================] - 0s 5ms/step - loss: 0.0176 - accuracy: 0.9854\n"
     ]
    },
    {
     "data": {
      "text/plain": [
       "<keras.callbacks.History at 0x2e764cda7c0>"
      ]
     },
     "execution_count": 24,
     "metadata": {},
     "output_type": "execute_result"
    }
   ],
   "source": [
    "mod1.fit(X, y, epochs=50, verbose=1)\n"
   ]
  },
  {
   "cell_type": "code",
   "execution_count": 26,
   "id": "3b21c605",
   "metadata": {},
   "outputs": [
    {
     "data": {
      "image/png": "[encoded data removed]",
      "text/plain": [
       "<Figure size 432x288 with 1 Axes>"
      ]
     },
     "metadata": {
      "needs_background": "light"
     },
     "output_type": "display_data"
    }
   ],
   "source": [
    "import numpy as np\n",
    "import matplotlib.pyplot as plt\n",
    "xaxis = np.arange(0, 50)\n",
    "res = np.array([0.8999, 0.8999,0.8999,0.8999,0.8999,0.8999,0.8999,0.8999,0.8999,0.8999,0.8999,0.9003,0.9017,0.9017,0.9013,0.9064\n",
    ",0.9050,0.9097,0.9177,0.9154,0.9187,0.9215,0.9267,0.9205,0.9281,0.9299,0.9318,0.9356,0.9408,0.9417,0.9431,0.9488,0.94,0.9497,0.9535\n",
    ",0.9567,0.9525,0.9582,0.9619,0.9605,0.9676,0.9657,0.9680,0.9694,0.9713,0.9803,0.9718,0.9779, 0.9788,0.9854])\n",
    "plt.title(\"Region2 - DNN\")\n",
    "plt.xlabel(\"Epochs\")\n",
    "plt.ylabel(\"Accuracy\")\n",
    "plt.plot(xaxis, res, color =\"green\")\n",
    "plt.show()"
   ]
  },
  {
   "cell_type": "code",
   "execution_count": null,
   "id": "93664fae",
   "metadata": {},
   "outputs": [],
   "source": []
  }
 ],
 "metadata": {
  "kernelspec": {
   "display_name": "Python 3",
   "language": "python",
   "name": "python3"
  },
  "language_info": {
   "codemirror_mode": {
    "name": "ipython",
    "version": 3
   },
   "file_extension": ".py",
   "mimetype": "text/x-python",
   "name": "python",
   "nbconvert_exporter": "python",
   "pygments_lexer": "ipython3",
   "version": "3.8.8"
  }
 },
 "nbformat": 4,
 "nbformat_minor": 5
}
