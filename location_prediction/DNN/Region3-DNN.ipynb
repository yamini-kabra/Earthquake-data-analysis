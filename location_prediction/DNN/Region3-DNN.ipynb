{
 "cells": [
  {
   "cell_type": "code",
   "execution_count": 1,
   "id": "72338735",
   "metadata": {},
   "outputs": [
    {
     "data": {
      "text/plain": [
       "0       0\n",
       "1       0\n",
       "2       0\n",
       "3       0\n",
       "4       0\n",
       "       ..\n",
       "2622    0\n",
       "2623    0\n",
       "2624    0\n",
       "2625    0\n",
       "2626    0\n",
       "Name: region2, Length: 2627, dtype: int64"
      ]
     },
     "execution_count": 1,
     "metadata": {},
     "output_type": "execute_result"
    }
   ],
   "source": [
    "import pandas as pd\n",
    "import numpy as np\n",
    "data = pd.read_csv(\"lstm_data.csv\")\n",
    "#data = data.drop(['week','Unnamed: 0'],axis=1)\n",
    "data = data['region2']\n",
    "data"
   ]
  },
  {
   "cell_type": "code",
   "execution_count": 2,
   "id": "cdcbecb6",
   "metadata": {},
   "outputs": [
    {
     "data": {
      "text/plain": [
       "array([0, 0, 0, ..., 0, 0, 0], dtype=int64)"
      ]
     },
     "execution_count": 2,
     "metadata": {},
     "output_type": "execute_result"
    }
   ],
   "source": [
    "data = data\n",
    "data = np.array(data)\n",
    "data"
   ]
  },
  {
   "cell_type": "code",
   "execution_count": 3,
   "id": "d532f69e",
   "metadata": {},
   "outputs": [],
   "source": [
    "import numpy as np\n",
    "def splitSequence(seq, n_steps):\n",
    "    \n",
    "    #Declare X and y as empty list\n",
    "    X = []\n",
    "    y = []\n",
    "    \n",
    "    for i in range(len(seq)):\n",
    "        #get the last index\n",
    "        lastIndex = i + n_steps\n",
    "        \n",
    "        #if lastIndex is greater than length of sequence then break\n",
    "        if lastIndex > len(seq) - 1:\n",
    "            break\n",
    "            \n",
    "        #Create input and output sequence\n",
    "        seq_X, seq_y = seq[i:lastIndex], seq[lastIndex]\n",
    "        \n",
    "        #append seq_X, seq_y in X and y list\n",
    "        X.append(seq_X)\n",
    "        y.append(seq_y)\n",
    "        pass\n",
    "    #Convert X and y into numpy array\n",
    "    X = np.array(X)\n",
    "    y = np.array(y)\n",
    "    \n",
    "    return X,y \n",
    "    \n",
    "    pass"
   ]
  },
  {
   "cell_type": "code",
   "execution_count": 4,
   "id": "223daecc",
   "metadata": {},
   "outputs": [],
   "source": [
    "n_steps = 500\n",
    "X, y = splitSequence(data, n_steps)"
   ]
  },
  {
   "cell_type": "code",
   "execution_count": 5,
   "id": "7b0fe549",
   "metadata": {},
   "outputs": [
    {
     "name": "stdout",
     "output_type": "stream",
     "text": [
      "(2127, 500) (2127,)\n"
     ]
    }
   ],
   "source": [
    "print(X.shape,y.shape)"
   ]
  },
  {
   "cell_type": "code",
   "execution_count": 6,
   "id": "0ae68c39",
   "metadata": {},
   "outputs": [
    {
     "name": "stdout",
     "output_type": "stream",
     "text": [
      "[0 0 0 0 0 0 0 0 0 0 0 0 0 0 0 1 0 0 0 0 0 0 1 0 0 0 0 0 0 0 1 0 0 0 0 0 0\n",
      " 0 0 0 0 0 0 1 0 0 0 1 0 0 0 0 0 0 0 0 1 0 0 0 0 0 0 0 0 0 0 0 0 0 0 0 0 0\n",
      " 0 0 0 0 0 1 0 0 0 0 0 0 0 0 1 0 0 0 1 0 0 0 0 0 0 0 0 0 0 0 0 0 1 0 0 0 0\n",
      " 0 0 0 0 0 0 0 0 0 0 0 0 0 0 0 0 0 0 0 1 0 1 1 0 0 0 0 0 0 0 0 1 0 0 0 1 0\n",
      " 0 0 0 0 0 0 0 0 0 0 0 0 0 0 0 0 1 0 0 1 1 0 0 0 0 0 0 0 0 0 0 0 1 0 0 0 0\n",
      " 0 0 0 0 0 0 0 0 0 0 0 0 0 0 0 1 0 0 0 0 0 0 0 0 0 0 0 0 1 0 0 0 0 0 0 0 0\n",
      " 0 0 0 0 0 0 0 1 0 0 0 1 0 0 0 0 0 0 0 0 0 0 0 0 0 0 0 0 0 0 0 0 0 0 0 0 0\n",
      " 0 0 0 1 1 1 0 0 0 0 0 1 0 0 0 0 0 0 0 1 0 0 0 0 0 0 0 0 0 0 0 0 0 0 0 0 0\n",
      " 0 0 0 0 0 0 0 0 0 1 0 0 1 0 0 0 0 0 0 1 0 0 0 0 0 0 0 0 0 0 0 0 0 1 1 0 0\n",
      " 0 1 0 0 1 0 0 0 0 0 1 0 0 0 0 0 0 0 0 0 0 1 0 0 0 0 0 0 0 0 0 0 0 0 0 0 0\n",
      " 0 0 0 0 0 0 0 1 0 0 0 0 1 0 0 0 0 0 0 0 0 1 1 0 0 0 0 0 0 0 0 0 0 0 0 1 0\n",
      " 0 1 0 0 0 1 1 0 0 0 0 0 0 0 0 1 0 0 0 0 0 0 0 0 0 0 0 0 0 0 0 0 0 0 0 0 0\n",
      " 0 1 0 0 0 0 0 0 1 0 1 0 0 1 0 1 0 0 0 1 0 0 0 1 0 0 0 1 0 0 0 0 0 0 0 0 0\n",
      " 0 0 0 0 1 0 0 0 0 0 0 0 1 0 0 0 0 1 0] [0 0 0 ... 0 0 0]\n"
     ]
    }
   ],
   "source": [
    "print(X[0],y)"
   ]
  },
  {
   "cell_type": "code",
   "execution_count": 7,
   "id": "61474bb2",
   "metadata": {},
   "outputs": [
    {
     "name": "stdout",
     "output_type": "stream",
     "text": [
      "(2127,)\n"
     ]
    }
   ],
   "source": [
    "n_features = 1\n",
    "print(y.shape)"
   ]
  },
  {
   "cell_type": "code",
   "execution_count": 8,
   "id": "8ee725b3",
   "metadata": {},
   "outputs": [],
   "source": [
    "import tensorflow as tf\n",
    "from tensorflow import keras\n",
    "from tensorflow.keras import layers"
   ]
  },
  {
   "cell_type": "code",
   "execution_count": 9,
   "id": "90daac99",
   "metadata": {},
   "outputs": [],
   "source": [
    "mod1 = tf.keras.Sequential()\n",
    "mod1.add(layers.Dense(50, activation='sigmoid'))\n",
    "mod1.add(layers.Dropout(0.2))\n",
    "mod1.add(layers.Dense(100,activation='softmax'))\n",
    "mod1.add(layers.Dense(1))"
   ]
  },
  {
   "cell_type": "code",
   "execution_count": 10,
   "id": "fcaeb6e5",
   "metadata": {},
   "outputs": [
    {
     "data": {
      "text/plain": [
       "[<keras.layers.core.Dense at 0x20a628b3250>,\n",
       " <keras.layers.core.Dropout at 0x20a628b3310>,\n",
       " <keras.layers.core.Dense at 0x20a68ac6160>,\n",
       " <keras.layers.core.Dense at 0x20a68ac61c0>]"
      ]
     },
     "execution_count": 10,
     "metadata": {},
     "output_type": "execute_result"
    }
   ],
   "source": [
    "mod1.layers\n"
   ]
  },
  {
   "cell_type": "code",
   "execution_count": 11,
   "id": "28630538",
   "metadata": {},
   "outputs": [],
   "source": [
    "mod1.compile(optimizer=tf.keras.optimizers.Adam(0.001), loss=tf.keras.losses.MeanSquaredError(), metrics=['accuracy'])\n"
   ]
  },
  {
   "cell_type": "code",
   "execution_count": 12,
   "id": "fc67fec4",
   "metadata": {},
   "outputs": [
    {
     "name": "stdout",
     "output_type": "stream",
     "text": [
      "Epoch 1/50\n",
      "67/67 [==============================] - 1s 2ms/step - loss: 0.0915 - accuracy: 0.8999\n",
      "Epoch 2/50\n",
      "67/67 [==============================] - 0s 2ms/step - loss: 0.0898 - accuracy: 0.8999\n",
      "Epoch 3/50\n",
      "67/67 [==============================] - 0s 2ms/step - loss: 0.0892 - accuracy: 0.8999\n",
      "Epoch 4/50\n",
      "67/67 [==============================] - 0s 2ms/step - loss: 0.0883 - accuracy: 0.8999\n",
      "Epoch 5/50\n",
      "67/67 [==============================] - 0s 2ms/step - loss: 0.0857 - accuracy: 0.8999\n",
      "Epoch 6/50\n",
      "67/67 [==============================] - 0s 1ms/step - loss: 0.0830 - accuracy: 0.8999\n",
      "Epoch 7/50\n",
      "67/67 [==============================] - 0s 2ms/step - loss: 0.0798 - accuracy: 0.8999\n",
      "Epoch 8/50\n",
      "67/67 [==============================] - 0s 1ms/step - loss: 0.0786 - accuracy: 0.8999\n",
      "Epoch 9/50\n",
      "67/67 [==============================] - 0s 2ms/step - loss: 0.0764 - accuracy: 0.8999\n",
      "Epoch 10/50\n",
      "67/67 [==============================] - 0s 1ms/step - loss: 0.0754 - accuracy: 0.8999\n",
      "Epoch 11/50\n",
      "67/67 [==============================] - 0s 2ms/step - loss: 0.0738 - accuracy: 0.8999\n",
      "Epoch 12/50\n",
      "67/67 [==============================] - 0s 2ms/step - loss: 0.0720 - accuracy: 0.8999\n",
      "Epoch 13/50\n",
      "67/67 [==============================] - 0s 2ms/step - loss: 0.0727 - accuracy: 0.8999\n",
      "Epoch 14/50\n",
      "67/67 [==============================] - 0s 2ms/step - loss: 0.0700 - accuracy: 0.8994\n",
      "Epoch 15/50\n",
      "67/67 [==============================] - 0s 2ms/step - loss: 0.0691 - accuracy: 0.9013\n",
      "Epoch 16/50\n",
      "67/67 [==============================] - 0s 2ms/step - loss: 0.0685 - accuracy: 0.9022\n",
      "Epoch 17/50\n",
      "67/67 [==============================] - 0s 2ms/step - loss: 0.0678 - accuracy: 0.9027\n",
      "Epoch 18/50\n",
      "67/67 [==============================] - 0s 2ms/step - loss: 0.0662 - accuracy: 0.9036\n",
      "Epoch 19/50\n",
      "67/67 [==============================] - 0s 2ms/step - loss: 0.0661 - accuracy: 0.9055\n",
      "Epoch 20/50\n",
      "67/67 [==============================] - 0s 2ms/step - loss: 0.0639 - accuracy: 0.9055\n",
      "Epoch 21/50\n",
      "67/67 [==============================] - 0s 2ms/step - loss: 0.0626 - accuracy: 0.9079\n",
      "Epoch 22/50\n",
      "67/67 [==============================] - 0s 2ms/step - loss: 0.0623 - accuracy: 0.9111\n",
      "Epoch 23/50\n",
      "67/67 [==============================] - 0s 2ms/step - loss: 0.0619 - accuracy: 0.9126\n",
      "Epoch 24/50\n",
      "67/67 [==============================] - 0s 2ms/step - loss: 0.0609 - accuracy: 0.9126\n",
      "Epoch 25/50\n",
      "67/67 [==============================] - 0s 1ms/step - loss: 0.0598 - accuracy: 0.9196\n",
      "Epoch 26/50\n",
      "67/67 [==============================] - 0s 2ms/step - loss: 0.0588 - accuracy: 0.9182\n",
      "Epoch 27/50\n",
      "67/67 [==============================] - 0s 2ms/step - loss: 0.0568 - accuracy: 0.9285\n",
      "Epoch 28/50\n",
      "67/67 [==============================] - 0s 2ms/step - loss: 0.0541 - accuracy: 0.9281\n",
      "Epoch 29/50\n",
      "67/67 [==============================] - 0s 2ms/step - loss: 0.0550 - accuracy: 0.9267\n",
      "Epoch 30/50\n",
      "67/67 [==============================] - 0s 2ms/step - loss: 0.0521 - accuracy: 0.9271\n",
      "Epoch 31/50\n",
      "67/67 [==============================] - 0s 2ms/step - loss: 0.0519 - accuracy: 0.9342\n",
      "Epoch 32/50\n",
      "67/67 [==============================] - 0s 2ms/step - loss: 0.0495 - accuracy: 0.9314\n",
      "Epoch 33/50\n",
      "67/67 [==============================] - 0s 2ms/step - loss: 0.0466 - accuracy: 0.9426\n",
      "Epoch 34/50\n",
      "67/67 [==============================] - 0s 2ms/step - loss: 0.0466 - accuracy: 0.9417\n",
      "Epoch 35/50\n",
      "67/67 [==============================] - 0s 2ms/step - loss: 0.0464 - accuracy: 0.9384\n",
      "Epoch 36/50\n",
      "67/67 [==============================] - 0s 2ms/step - loss: 0.0451 - accuracy: 0.9426\n",
      "Epoch 37/50\n",
      "67/67 [==============================] - 0s 1ms/step - loss: 0.0431 - accuracy: 0.9455\n",
      "Epoch 38/50\n",
      "67/67 [==============================] - 0s 2ms/step - loss: 0.0404 - accuracy: 0.9478\n",
      "Epoch 39/50\n",
      "67/67 [==============================] - 0s 2ms/step - loss: 0.0393 - accuracy: 0.9488\n",
      "Epoch 40/50\n",
      "67/67 [==============================] - 0s 2ms/step - loss: 0.0380 - accuracy: 0.9520\n",
      "Epoch 41/50\n",
      "67/67 [==============================] - 0s 2ms/step - loss: 0.0367 - accuracy: 0.9563\n",
      "Epoch 42/50\n",
      "67/67 [==============================] - 0s 2ms/step - loss: 0.0326 - accuracy: 0.9614\n",
      "Epoch 43/50\n",
      "67/67 [==============================] - 0s 2ms/step - loss: 0.0343 - accuracy: 0.9582\n",
      "Epoch 44/50\n",
      "67/67 [==============================] - 0s 2ms/step - loss: 0.0318 - accuracy: 0.9624\n",
      "Epoch 45/50\n",
      "67/67 [==============================] - 0s 2ms/step - loss: 0.0289 - accuracy: 0.9657\n",
      "Epoch 46/50\n",
      "67/67 [==============================] - 0s 2ms/step - loss: 0.0302 - accuracy: 0.9671\n",
      "Epoch 47/50\n",
      "67/67 [==============================] - 0s 2ms/step - loss: 0.0269 - accuracy: 0.9756\n",
      "Epoch 48/50\n",
      "67/67 [==============================] - 0s 2ms/step - loss: 0.0265 - accuracy: 0.9723\n",
      "Epoch 49/50\n",
      "67/67 [==============================] - 0s 2ms/step - loss: 0.0234 - accuracy: 0.9784\n",
      "Epoch 50/50\n",
      "67/67 [==============================] - 0s 1ms/step - loss: 0.0230 - accuracy: 0.9803\n"
     ]
    },
    {
     "data": {
      "text/plain": [
       "<keras.callbacks.History at 0x20a68bc1fd0>"
      ]
     },
     "execution_count": 12,
     "metadata": {},
     "output_type": "execute_result"
    }
   ],
   "source": [
    "mod1.fit(X, y, epochs=50, verbose=1)\n"
   ]
  },
  {
   "cell_type": "code",
   "execution_count": 14,
   "id": "0dfae35a",
   "metadata": {},
   "outputs": [
    {
     "data": {
      "image/png": "[encoded data removed]",
      "text/plain": [
       "<Figure size 432x288 with 1 Axes>"
      ]
     },
     "metadata": {
      "needs_background": "light"
     },
     "output_type": "display_data"
    }
   ],
   "source": [
    "import numpy as np\n",
    "import matplotlib.pyplot as plt\n",
    "xaxis = np.arange(0, 50)\n",
    "res = np.array([0.8999,0.8999,0.8999,0.8999,0.8999,0.8999,0.8999,0.8999,0.8999,0.8999,0.8999,0.8999,0.8999,0.8994,0.9013,0.9022\n",
    ",0.9027, 0.9036,0.9055,0.9055,0.9079,0.9111,0.9126,0.9126,0.9196,0.9182,0.9285,0.9281,0.9267,0.9271,0.9342,0.9314,0.9426,0.9417\n",
    ",0.9384,0.9426,0.9455,0.9478,0.9488,0.9520,0.9563,0.9614,0.9582,0.9624,0.9657,0.9671,0.9756,0.9723,0.9784,0.9803])\n",
    "plt.title(\"Region3 - DNN\")\n",
    "plt.xlabel(\"Epochs\")\n",
    "plt.ylabel(\"Accuracy\")\n",
    "plt.plot(xaxis, res, color =\"green\")\n",
    "plt.show()"
   ]
  },
  {
   "cell_type": "code",
   "execution_count": 21,
   "id": "8df6379c",
   "metadata": {},
   "outputs": [
    {
     "name": "stdout",
     "output_type": "stream",
     "text": [
      "[[0 0 0 ... 0 1 0]\n",
      " [0 0 0 ... 1 0 0]\n",
      " [0 0 0 ... 0 0 0]\n",
      " ...\n",
      " [0 0 0 ... 0 0 0]\n",
      " [0 0 0 ... 0 0 0]\n",
      " [0 0 0 ... 0 0 0]]\n"
     ]
    }
   ],
   "source": [
    "test_data = X[0:100]\n",
    "print(test_data)"
   ]
  }
 ],
 "metadata": {
  "kernelspec": {
   "display_name": "Python 3",
   "language": "python",
   "name": "python3"
  },
  "language_info": {
   "codemirror_mode": {
    "name": "ipython",
    "version": 3
   },
   "file_extension": ".py",
   "mimetype": "text/x-python",
   "name": "python",
   "nbconvert_exporter": "python",
   "pygments_lexer": "ipython3",
   "version": "3.8.8"
  }
 },
 "nbformat": 4,
 "nbformat_minor": 5
}
