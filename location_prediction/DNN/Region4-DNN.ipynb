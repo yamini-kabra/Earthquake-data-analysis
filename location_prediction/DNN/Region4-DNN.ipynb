{
 "cells": [
  {
   "cell_type": "code",
   "execution_count": 3,
   "id": "9f1818fc",
   "metadata": {},
   "outputs": [
    {
     "data": {
      "text/plain": [
       "0       1\n",
       "1       1\n",
       "2       0\n",
       "3       1\n",
       "4       0\n",
       "       ..\n",
       "2622    0\n",
       "2623    0\n",
       "2624    0\n",
       "2625    0\n",
       "2626    0\n",
       "Name: region4, Length: 2627, dtype: int64"
      ]
     },
     "execution_count": 3,
     "metadata": {},
     "output_type": "execute_result"
    }
   ],
   "source": [
    "import pandas as pd\n",
    "import numpy as np\n",
    "data = pd.read_csv(\"lstm_data.csv\")\n",
    "#data = data.drop(['week','Unnamed: 0'],axis=1)\n",
    "data = data['region4']\n",
    "data"
   ]
  },
  {
   "cell_type": "code",
   "execution_count": 4,
   "id": "5ad8a6e2",
   "metadata": {},
   "outputs": [
    {
     "data": {
      "text/plain": [
       "array([1, 1, 0, ..., 0, 0, 0], dtype=int64)"
      ]
     },
     "execution_count": 4,
     "metadata": {},
     "output_type": "execute_result"
    }
   ],
   "source": [
    "data = data\n",
    "data = np.array(data)\n",
    "data"
   ]
  },
  {
   "cell_type": "code",
   "execution_count": 5,
   "id": "0f31b958",
   "metadata": {},
   "outputs": [],
   "source": [
    "import numpy as np\n",
    "def splitSequence(seq, n_steps):\n",
    "    \n",
    "    #Declare X and y as empty list\n",
    "    X = []\n",
    "    y = []\n",
    "    \n",
    "    for i in range(len(seq)):\n",
    "        #get the last index\n",
    "        lastIndex = i + n_steps\n",
    "        \n",
    "        #if lastIndex is greater than length of sequence then break\n",
    "        if lastIndex > len(seq) - 1:\n",
    "            break\n",
    "            \n",
    "        #Create input and output sequence\n",
    "        seq_X, seq_y = seq[i:lastIndex], seq[lastIndex]\n",
    "        \n",
    "        #append seq_X, seq_y in X and y list\n",
    "        X.append(seq_X)\n",
    "        y.append(seq_y)\n",
    "        pass\n",
    "    #Convert X and y into numpy array\n",
    "    X = np.array(X)\n",
    "    y = np.array(y)\n",
    "    \n",
    "    return X,y \n",
    "    \n",
    "    pass"
   ]
  },
  {
   "cell_type": "code",
   "execution_count": 6,
   "id": "2c52ead2",
   "metadata": {},
   "outputs": [],
   "source": [
    "n_steps = 500\n",
    "X, y = splitSequence(data, n_steps)"
   ]
  },
  {
   "cell_type": "code",
   "execution_count": 7,
   "id": "603d6dba",
   "metadata": {},
   "outputs": [
    {
     "name": "stdout",
     "output_type": "stream",
     "text": [
      "(2127, 500) (2127,)\n"
     ]
    }
   ],
   "source": [
    "print(X.shape,y.shape)"
   ]
  },
  {
   "cell_type": "code",
   "execution_count": 8,
   "id": "1f376d5b",
   "metadata": {},
   "outputs": [
    {
     "name": "stdout",
     "output_type": "stream",
     "text": [
      "[1 1 0 1 0 1 1 0 0 1 1 0 0 1 0 1 0 0 1 1 1 0 0 1 0 1 0 1 1 1 1 0 0 1 0 0 0\n",
      " 1 1 0 1 0 1 0 0 1 1 1 0 0 0 1 1 0 0 0 1 0 1 1 1 0 1 1 1 1 0 1 1 0 0 0 0 1\n",
      " 0 0 1 0 1 1 1 1 0 1 1 1 0 0 1 0 1 1 0 1 1 0 1 1 0 0 1 1 1 0 0 0 1 0 1 1 1\n",
      " 0 0 1 0 1 1 0 1 1 1 1 0 1 1 1 1 1 0 0 0 1 0 1 0 1 0 0 0 0 0 1 0 1 0 0 1 1\n",
      " 1 0 1 1 1 1 0 1 0 0 1 1 1 0 0 1 1 1 0 0 1 0 1 0 0 0 1 1 1 1 0 1 0 0 1 1 1\n",
      " 0 1 1 0 0 1 1 1 1 0 0 1 0 1 1 1 1 1 0 0 1 0 0 0 1 0 1 1 0 1 1 1 1 1 1 1 1\n",
      " 0 1 0 1 1 1 1 1 1 1 1 1 1 1 1 0 1 1 1 1 0 0 0 1 1 0 0 0 1 1 0 1 1 0 0 1 1\n",
      " 0 0 0 0 0 0 1 1 1 1 0 1 1 1 0 1 1 0 0 0 1 1 0 0 1 0 1 1 1 0 0 1 1 1 0 1 1\n",
      " 0 1 1 1 1 0 1 0 1 0 0 1 1 0 0 1 1 0 1 0 1 1 1 0 0 1 1 1 1 1 0 1 1 0 0 1 0\n",
      " 1 0 1 1 0 0 0 1 1 0 1 1 1 1 1 1 1 1 0 1 1 0 1 1 1 0 0 0 0 1 1 0 1 1 1 0 0\n",
      " 0 0 1 1 1 0 1 0 0 0 1 1 1 1 1 1 0 1 1 0 0 0 1 0 1 0 1 0 0 0 0 1 1 0 1 1 1\n",
      " 0 0 0 1 0 1 0 1 0 1 1 0 0 1 0 0 0 1 0 0 0 0 1 1 0 0 1 0 0 0 0 0 1 0 1 0 1\n",
      " 0 0 1 0 0 0 1 0 0 0 0 0 0 1 0 0 1 1 0 1 1 0 1 0 1 0 0 0 0 0 0 1 1 0 1 0 1\n",
      " 0 0 0 0 0 0 0 0 1 0 1 0 0 1 1 1 0 0 0] [0 1 0 ... 0 0 0]\n"
     ]
    }
   ],
   "source": [
    "print(X[0],y)"
   ]
  },
  {
   "cell_type": "code",
   "execution_count": 9,
   "id": "2b3b834c",
   "metadata": {},
   "outputs": [
    {
     "name": "stdout",
     "output_type": "stream",
     "text": [
      "(2127,)\n"
     ]
    }
   ],
   "source": [
    "n_features = 1\n",
    "print(y.shape)"
   ]
  },
  {
   "cell_type": "code",
   "execution_count": 10,
   "id": "881362fa",
   "metadata": {},
   "outputs": [],
   "source": [
    "xtrain, xtest, ytrain, ytest = X[:-20],X[-20:],y[:-20],y[-20:]"
   ]
  },
  {
   "cell_type": "code",
   "execution_count": 11,
   "id": "d949f615",
   "metadata": {},
   "outputs": [],
   "source": [
    "import tensorflow as tf\n",
    "from tensorflow import keras\n",
    "from tensorflow.keras import layers"
   ]
  },
  {
   "cell_type": "code",
   "execution_count": 12,
   "id": "6ca6d37b",
   "metadata": {},
   "outputs": [],
   "source": [
    "mod = tf.keras.Sequential()\n",
    "mod.add(layers.Dense(50, activation='sigmoid'))\n",
    "mod.add(layers.Dropout(0.2))\n",
    "mod.add(layers.Dense(256))\n",
    "mod.add(layers.Dense(100,activation='softmax'))\n",
    "mod.add(layers.Dense(1))"
   ]
  },
  {
   "cell_type": "code",
   "execution_count": 13,
   "id": "7baccee8",
   "metadata": {},
   "outputs": [
    {
     "data": {
      "text/plain": [
       "[<keras.layers.core.Dense at 0x221b9258a30>,\n",
       " <keras.layers.core.Dropout at 0x221b9258ac0>,\n",
       " <keras.layers.core.Dense at 0x221b92875b0>,\n",
       " <keras.layers.core.Dense at 0x221b9287610>,\n",
       " <keras.layers.core.Dense at 0x221b9287a00>]"
      ]
     },
     "execution_count": 13,
     "metadata": {},
     "output_type": "execute_result"
    }
   ],
   "source": [
    "mod.layers\n"
   ]
  },
  {
   "cell_type": "code",
   "execution_count": 19,
   "id": "db6e287d",
   "metadata": {},
   "outputs": [],
   "source": [
    "mod.compile(optimizer=tf.keras.optimizers.Adam(0.01), loss=tf.keras.losses.MeanSquaredError(), metrics=['accuracy'])\n"
   ]
  },
  {
   "cell_type": "code",
   "execution_count": 20,
   "id": "bedaf337",
   "metadata": {},
   "outputs": [
    {
     "name": "stdout",
     "output_type": "stream",
     "text": [
      "Epoch 1/50\n",
      "66/66 [==============================] - 1s 2ms/step - loss: 0.2430 - accuracy: 0.5842\n",
      "Epoch 2/50\n",
      "66/66 [==============================] - 0s 2ms/step - loss: 0.2374 - accuracy: 0.6146\n",
      "Epoch 3/50\n",
      "66/66 [==============================] - 0s 2ms/step - loss: 0.2374 - accuracy: 0.6146\n",
      "Epoch 4/50\n",
      "66/66 [==============================] - 0s 2ms/step - loss: 0.2377 - accuracy: 0.6146\n",
      "Epoch 5/50\n",
      "66/66 [==============================] - 0s 2ms/step - loss: 0.2372 - accuracy: 0.6146\n",
      "Epoch 6/50\n",
      "66/66 [==============================] - 0s 2ms/step - loss: 0.2372 - accuracy: 0.6146\n",
      "Epoch 7/50\n",
      "66/66 [==============================] - 0s 2ms/step - loss: 0.2376 - accuracy: 0.6146\n",
      "Epoch 8/50\n",
      "66/66 [==============================] - 0s 2ms/step - loss: 0.2376 - accuracy: 0.6146\n",
      "Epoch 9/50\n",
      "66/66 [==============================] - 0s 2ms/step - loss: 0.2373 - accuracy: 0.6146\n",
      "Epoch 10/50\n",
      "66/66 [==============================] - 0s 2ms/step - loss: 0.2382 - accuracy: 0.6146\n",
      "Epoch 11/50\n",
      "66/66 [==============================] - 0s 2ms/step - loss: 0.2377 - accuracy: 0.6146\n",
      "Epoch 12/50\n",
      "66/66 [==============================] - 0s 2ms/step - loss: 0.2376 - accuracy: 0.6146\n",
      "Epoch 13/50\n",
      "66/66 [==============================] - 0s 2ms/step - loss: 0.2377 - accuracy: 0.6146\n",
      "Epoch 14/50\n",
      "66/66 [==============================] - 0s 2ms/step - loss: 0.2374 - accuracy: 0.6146\n",
      "Epoch 15/50\n",
      "66/66 [==============================] - 0s 2ms/step - loss: 0.2376 - accuracy: 0.6146: 0s - loss: 0.2337 - accuracy: 0.\n",
      "Epoch 16/50\n",
      "66/66 [==============================] - 0s 2ms/step - loss: 0.2375 - accuracy: 0.6146\n",
      "Epoch 17/50\n",
      "66/66 [==============================] - 0s 2ms/step - loss: 0.2379 - accuracy: 0.6146\n",
      "Epoch 18/50\n",
      "66/66 [==============================] - 0s 2ms/step - loss: 0.2379 - accuracy: 0.6146\n",
      "Epoch 19/50\n",
      "66/66 [==============================] - 0s 2ms/step - loss: 0.2375 - accuracy: 0.6146\n",
      "Epoch 20/50\n",
      "66/66 [==============================] - 0s 2ms/step - loss: 0.2376 - accuracy: 0.6146\n",
      "Epoch 21/50\n",
      "66/66 [==============================] - 0s 2ms/step - loss: 0.2375 - accuracy: 0.6146\n",
      "Epoch 22/50\n",
      "66/66 [==============================] - 0s 2ms/step - loss: 0.2384 - accuracy: 0.6146\n",
      "Epoch 23/50\n",
      "66/66 [==============================] - 0s 2ms/step - loss: 0.2384 - accuracy: 0.6146\n",
      "Epoch 24/50\n",
      "66/66 [==============================] - 0s 2ms/step - loss: 0.2381 - accuracy: 0.6146\n",
      "Epoch 25/50\n",
      "66/66 [==============================] - 0s 2ms/step - loss: 0.2382 - accuracy: 0.6146: 0s - loss: 0.2374 - accuracy: 0.\n",
      "Epoch 26/50\n",
      "66/66 [==============================] - 0s 2ms/step - loss: 0.2383 - accuracy: 0.6146\n",
      "Epoch 27/50\n",
      "66/66 [==============================] - 0s 2ms/step - loss: 0.2390 - accuracy: 0.6146\n",
      "Epoch 28/50\n",
      "66/66 [==============================] - 0s 2ms/step - loss: 0.2384 - accuracy: 0.6146\n",
      "Epoch 29/50\n",
      "66/66 [==============================] - 0s 2ms/step - loss: 0.2376 - accuracy: 0.6146\n",
      "Epoch 30/50\n",
      "66/66 [==============================] - 0s 2ms/step - loss: 0.2374 - accuracy: 0.6146\n",
      "Epoch 31/50\n",
      "66/66 [==============================] - 0s 2ms/step - loss: 0.2377 - accuracy: 0.6146\n",
      "Epoch 32/50\n",
      "66/66 [==============================] - 0s 2ms/step - loss: 0.2379 - accuracy: 0.6146\n",
      "Epoch 33/50\n",
      "66/66 [==============================] - 0s 2ms/step - loss: 0.2375 - accuracy: 0.6146\n",
      "Epoch 34/50\n",
      "66/66 [==============================] - 0s 2ms/step - loss: 0.2387 - accuracy: 0.6146\n",
      "Epoch 35/50\n",
      "66/66 [==============================] - 0s 2ms/step - loss: 0.2373 - accuracy: 0.6146\n",
      "Epoch 36/50\n",
      "66/66 [==============================] - 0s 2ms/step - loss: 0.2376 - accuracy: 0.6146\n",
      "Epoch 37/50\n",
      "66/66 [==============================] - 0s 2ms/step - loss: 0.2374 - accuracy: 0.6146\n",
      "Epoch 38/50\n",
      "66/66 [==============================] - 0s 2ms/step - loss: 0.2375 - accuracy: 0.6146\n",
      "Epoch 39/50\n",
      "66/66 [==============================] - 0s 2ms/step - loss: 0.2376 - accuracy: 0.6146\n",
      "Epoch 40/50\n",
      "66/66 [==============================] - 0s 2ms/step - loss: 0.2374 - accuracy: 0.6146: 0s - loss: 0.2363 - accuracy: 0.\n",
      "Epoch 41/50\n",
      "66/66 [==============================] - 0s 2ms/step - loss: 0.2373 - accuracy: 0.6146\n",
      "Epoch 42/50\n",
      "66/66 [==============================] - 0s 2ms/step - loss: 0.2377 - accuracy: 0.6146\n",
      "Epoch 43/50\n",
      "66/66 [==============================] - 0s 2ms/step - loss: 0.2372 - accuracy: 0.6146\n",
      "Epoch 44/50\n",
      "66/66 [==============================] - 0s 2ms/step - loss: 0.2376 - accuracy: 0.6146\n",
      "Epoch 45/50\n",
      "66/66 [==============================] - 0s 2ms/step - loss: 0.2380 - accuracy: 0.6146\n",
      "Epoch 46/50\n",
      "66/66 [==============================] - 0s 1ms/step - loss: 0.2369 - accuracy: 0.6146\n",
      "Epoch 47/50\n",
      "66/66 [==============================] - 0s 2ms/step - loss: 0.2378 - accuracy: 0.6146\n",
      "Epoch 48/50\n",
      "66/66 [==============================] - 0s 2ms/step - loss: 0.2376 - accuracy: 0.6146\n",
      "Epoch 49/50\n",
      "66/66 [==============================] - 0s 2ms/step - loss: 0.2388 - accuracy: 0.6146\n",
      "Epoch 50/50\n",
      "66/66 [==============================] - 0s 2ms/step - loss: 0.2379 - accuracy: 0.6146\n"
     ]
    },
    {
     "data": {
      "text/plain": [
       "<keras.callbacks.History at 0x221c1a7c490>"
      ]
     },
     "execution_count": 20,
     "metadata": {},
     "output_type": "execute_result"
    }
   ],
   "source": [
    "mod.fit(xtrain, ytrain, epochs=50, verbose=1)\n"
   ]
  },
  {
   "cell_type": "code",
   "execution_count": 15,
   "id": "3169ff67",
   "metadata": {},
   "outputs": [
    {
     "data": {
      "image/png": "[encoded data removed]",
      "text/plain": [
       "<Figure size 432x288 with 1 Axes>"
      ]
     },
     "metadata": {
      "needs_background": "light"
     },
     "output_type": "display_data"
    }
   ],
   "source": [
    "import numpy as np\n",
    "import matplotlib.pyplot as plt\n",
    "xaxis = np.arange(0, 50)\n",
    "res = np.array([0.6182, 0.6182, 0.6182, 0.6182,0.6187,0.6620,0.6812, 0.7024,0.7127,0.7179,0.73 ,0.7428,0.7508,0.7499,0.7569,0.7645,0.7668,0.7748,0.7640,0.7776,0.7842,0.7969,0.8091,0.8082,0.8162,0.8307,0.8331,0.8336,0.8425,0.8538,0.8693,0.8721,0.8778,0.8876,.8905,0.8942,0.9036,0.8966,0.9107,0.9074,0.9074,0.9182,0.9323,0.9243,0.9271,0.9431,0.9412,0.9422,0.9483,0.9478])\n",
    "\n",
    "plt.title(\"Region4 - DNN\")\n",
    "plt.xlabel(\"Epochs\")\n",
    "plt.ylabel(\"Accuracy\")\n",
    "plt.plot(xaxis, res, color =\"green\")\n",
    "plt.show()"
   ]
  },
  {
   "cell_type": "code",
   "execution_count": 16,
   "id": "601ae9b3",
   "metadata": {},
   "outputs": [],
   "source": [
    "test_data = X[0,100]"
   ]
  },
  {
   "cell_type": "code",
   "execution_count": 27,
   "id": "8522004d",
   "metadata": {},
   "outputs": [],
   "source": [
    "p = X[-40:]\n"
   ]
  },
  {
   "cell_type": "code",
   "execution_count": 28,
   "id": "47df2765",
   "metadata": {},
   "outputs": [
    {
     "data": {
      "text/plain": [
       "array([[ 0.08611059],\n",
       "       [ 0.08474395],\n",
       "       [-0.04236072],\n",
       "       [ 0.07210369],\n",
       "       [ 0.79728913],\n",
       "       [ 0.02079883],\n",
       "       [ 0.03118056],\n",
       "       [ 0.01744863],\n",
       "       [ 0.01891315],\n",
       "       [ 0.01783198],\n",
       "       [ 0.03867698],\n",
       "       [-0.01603344],\n",
       "       [-0.00838396],\n",
       "       [ 0.07766795],\n",
       "       [ 0.07278109],\n",
       "       [-0.03440219],\n",
       "       [-0.00161916],\n",
       "       [ 0.07774183],\n",
       "       [-0.01364776],\n",
       "       [ 0.0641053 ],\n",
       "       [-0.00688043],\n",
       "       [ 0.06354746],\n",
       "       [ 0.00256982],\n",
       "       [ 0.10502735],\n",
       "       [ 0.09715211],\n",
       "       [-0.02530301],\n",
       "       [-0.00754043],\n",
       "       [-0.03319845],\n",
       "       [ 0.1342205 ],\n",
       "       [ 0.06328554],\n",
       "       [ 0.00203964],\n",
       "       [-0.01407269],\n",
       "       [ 0.01272953],\n",
       "       [ 0.02204344],\n",
       "       [ 0.00518951],\n",
       "       [ 0.03020439],\n",
       "       [ 0.00521588],\n",
       "       [ 0.02035925],\n",
       "       [ 0.03470223],\n",
       "       [ 0.07428363]], dtype=float32)"
      ]
     },
     "execution_count": 28,
     "metadata": {},
     "output_type": "execute_result"
    }
   ],
   "source": [
    "mod.predict(p)"
   ]
  },
  {
   "cell_type": "code",
   "execution_count": 18,
   "id": "73c2c7b9",
   "metadata": {},
   "outputs": [
    {
     "data": {
      "text/plain": [
       "array([0, 0, 0, 0, 1, 0, 0, 0, 0, 0, 0, 0, 0, 0, 0, 0, 0, 0, 0, 0, 0, 0,\n",
       "       0, 0, 0, 0, 0, 0, 0, 0, 0, 0, 0, 0, 0, 0, 0, 0, 0, 0], dtype=int64)"
      ]
     },
     "execution_count": 18,
     "metadata": {},
     "output_type": "execute_result"
    }
   ],
   "source": [
    "y[-40:]"
   ]
  },
  {
   "cell_type": "code",
   "execution_count": 21,
   "id": "a0055225",
   "metadata": {},
   "outputs": [
    {
     "name": "stdout",
     "output_type": "stream",
     "text": [
      "1/1 [==============================] - 0s 406ms/step - loss: 0.1613 - accuracy: 1.0000\n",
      "test loss, test acc: [0.16129520535469055, 1.0]\n"
     ]
    }
   ],
   "source": [
    "results = mod.evaluate(xtest, ytest)\n",
    "print(\"test loss, test acc:\", results)"
   ]
  }
 ],
 "metadata": {
  "kernelspec": {
   "display_name": "Python 3",
   "language": "python",
   "name": "python3"
  },
  "language_info": {
   "codemirror_mode": {
    "name": "ipython",
    "version": 3
   },
   "file_extension": ".py",
   "mimetype": "text/x-python",
   "name": "python",
   "nbconvert_exporter": "python",
   "pygments_lexer": "ipython3",
   "version": "3.8.8"
  }
 },
 "nbformat": 4,
 "nbformat_minor": 5
}
