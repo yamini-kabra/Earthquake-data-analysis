{
 "cells": [
  {
   "cell_type": "code",
<<<<<<< HEAD
   "execution_count": 37,
   "id": "81f97d5b",
=======
   "execution_count": 1,
>>>>>>> 9710182b0edf64b56fb49da53790ad2ff5966818
   "metadata": {},
   "outputs": [
    {
     "ename": "FileNotFoundError",
     "evalue": "[Errno 2] No such file or directory: 'lstm_paper1_7_days_data.csv'",
     "output_type": "error",
     "traceback": [
      "\u001b[1;31m---------------------------------------------------------------------------\u001b[0m",
      "\u001b[1;31mFileNotFoundError\u001b[0m                         Traceback (most recent call last)",
      "\u001b[1;32m<ipython-input-37-a17fe4a1e421>\u001b[0m in \u001b[0;36m<module>\u001b[1;34m\u001b[0m\n\u001b[0;32m      2\u001b[0m \u001b[1;32mimport\u001b[0m \u001b[0mnumpy\u001b[0m \u001b[1;32mas\u001b[0m \u001b[0mnp\u001b[0m\u001b[1;33m\u001b[0m\u001b[1;33m\u001b[0m\u001b[0m\n\u001b[0;32m      3\u001b[0m \u001b[1;31m#data = pd.read_csv(\"lstm_data.csv\")\u001b[0m\u001b[1;33m\u001b[0m\u001b[1;33m\u001b[0m\u001b[1;33m\u001b[0m\u001b[0m\n\u001b[1;32m----> 4\u001b[1;33m \u001b[0mdata\u001b[0m \u001b[1;33m=\u001b[0m \u001b[0mpd\u001b[0m\u001b[1;33m.\u001b[0m\u001b[0mread_csv\u001b[0m\u001b[1;33m(\u001b[0m\u001b[1;34m\"lstm_paper1_7_days_data.csv\"\u001b[0m\u001b[1;33m)\u001b[0m\u001b[1;33m\u001b[0m\u001b[1;33m\u001b[0m\u001b[0m\n\u001b[0m\u001b[0;32m      5\u001b[0m \u001b[1;33m\u001b[0m\u001b[0m\n\u001b[0;32m      6\u001b[0m \u001b[0mdata\u001b[0m \u001b[1;33m=\u001b[0m \u001b[0mdata\u001b[0m\u001b[1;33m.\u001b[0m\u001b[0mdrop\u001b[0m\u001b[1;33m(\u001b[0m\u001b[1;33m[\u001b[0m\u001b[1;34m'week'\u001b[0m\u001b[1;33m,\u001b[0m\u001b[1;34m'Unnamed: 0'\u001b[0m\u001b[1;33m]\u001b[0m\u001b[1;33m,\u001b[0m\u001b[0maxis\u001b[0m\u001b[1;33m=\u001b[0m\u001b[1;36m1\u001b[0m\u001b[1;33m)\u001b[0m\u001b[1;33m\u001b[0m\u001b[1;33m\u001b[0m\u001b[0m\n",
      "\u001b[1;32m~\\anaconda3\\lib\\site-packages\\pandas\\io\\parsers.py\u001b[0m in \u001b[0;36mread_csv\u001b[1;34m(filepath_or_buffer, sep, delimiter, header, names, index_col, usecols, squeeze, prefix, mangle_dupe_cols, dtype, engine, converters, true_values, false_values, skipinitialspace, skiprows, skipfooter, nrows, na_values, keep_default_na, na_filter, verbose, skip_blank_lines, parse_dates, infer_datetime_format, keep_date_col, date_parser, dayfirst, cache_dates, iterator, chunksize, compression, thousands, decimal, lineterminator, quotechar, quoting, doublequote, escapechar, comment, encoding, dialect, error_bad_lines, warn_bad_lines, delim_whitespace, low_memory, memory_map, float_precision, storage_options)\u001b[0m\n\u001b[0;32m    608\u001b[0m     \u001b[0mkwds\u001b[0m\u001b[1;33m.\u001b[0m\u001b[0mupdate\u001b[0m\u001b[1;33m(\u001b[0m\u001b[0mkwds_defaults\u001b[0m\u001b[1;33m)\u001b[0m\u001b[1;33m\u001b[0m\u001b[1;33m\u001b[0m\u001b[0m\n\u001b[0;32m    609\u001b[0m \u001b[1;33m\u001b[0m\u001b[0m\n\u001b[1;32m--> 610\u001b[1;33m     \u001b[1;32mreturn\u001b[0m \u001b[0m_read\u001b[0m\u001b[1;33m(\u001b[0m\u001b[0mfilepath_or_buffer\u001b[0m\u001b[1;33m,\u001b[0m \u001b[0mkwds\u001b[0m\u001b[1;33m)\u001b[0m\u001b[1;33m\u001b[0m\u001b[1;33m\u001b[0m\u001b[0m\n\u001b[0m\u001b[0;32m    611\u001b[0m \u001b[1;33m\u001b[0m\u001b[0m\n\u001b[0;32m    612\u001b[0m \u001b[1;33m\u001b[0m\u001b[0m\n",
      "\u001b[1;32m~\\anaconda3\\lib\\site-packages\\pandas\\io\\parsers.py\u001b[0m in \u001b[0;36m_read\u001b[1;34m(filepath_or_buffer, kwds)\u001b[0m\n\u001b[0;32m    460\u001b[0m \u001b[1;33m\u001b[0m\u001b[0m\n\u001b[0;32m    461\u001b[0m     \u001b[1;31m# Create the parser.\u001b[0m\u001b[1;33m\u001b[0m\u001b[1;33m\u001b[0m\u001b[1;33m\u001b[0m\u001b[0m\n\u001b[1;32m--> 462\u001b[1;33m     \u001b[0mparser\u001b[0m \u001b[1;33m=\u001b[0m \u001b[0mTextFileReader\u001b[0m\u001b[1;33m(\u001b[0m\u001b[0mfilepath_or_buffer\u001b[0m\u001b[1;33m,\u001b[0m \u001b[1;33m**\u001b[0m\u001b[0mkwds\u001b[0m\u001b[1;33m)\u001b[0m\u001b[1;33m\u001b[0m\u001b[1;33m\u001b[0m\u001b[0m\n\u001b[0m\u001b[0;32m    463\u001b[0m \u001b[1;33m\u001b[0m\u001b[0m\n\u001b[0;32m    464\u001b[0m     \u001b[1;32mif\u001b[0m \u001b[0mchunksize\u001b[0m \u001b[1;32mor\u001b[0m \u001b[0miterator\u001b[0m\u001b[1;33m:\u001b[0m\u001b[1;33m\u001b[0m\u001b[1;33m\u001b[0m\u001b[0m\n",
      "\u001b[1;32m~\\anaconda3\\lib\\site-packages\\pandas\\io\\parsers.py\u001b[0m in \u001b[0;36m__init__\u001b[1;34m(self, f, engine, **kwds)\u001b[0m\n\u001b[0;32m    817\u001b[0m             \u001b[0mself\u001b[0m\u001b[1;33m.\u001b[0m\u001b[0moptions\u001b[0m\u001b[1;33m[\u001b[0m\u001b[1;34m\"has_index_names\"\u001b[0m\u001b[1;33m]\u001b[0m \u001b[1;33m=\u001b[0m \u001b[0mkwds\u001b[0m\u001b[1;33m[\u001b[0m\u001b[1;34m\"has_index_names\"\u001b[0m\u001b[1;33m]\u001b[0m\u001b[1;33m\u001b[0m\u001b[1;33m\u001b[0m\u001b[0m\n\u001b[0;32m    818\u001b[0m \u001b[1;33m\u001b[0m\u001b[0m\n\u001b[1;32m--> 819\u001b[1;33m         \u001b[0mself\u001b[0m\u001b[1;33m.\u001b[0m\u001b[0m_engine\u001b[0m \u001b[1;33m=\u001b[0m \u001b[0mself\u001b[0m\u001b[1;33m.\u001b[0m\u001b[0m_make_engine\u001b[0m\u001b[1;33m(\u001b[0m\u001b[0mself\u001b[0m\u001b[1;33m.\u001b[0m\u001b[0mengine\u001b[0m\u001b[1;33m)\u001b[0m\u001b[1;33m\u001b[0m\u001b[1;33m\u001b[0m\u001b[0m\n\u001b[0m\u001b[0;32m    820\u001b[0m \u001b[1;33m\u001b[0m\u001b[0m\n\u001b[0;32m    821\u001b[0m     \u001b[1;32mdef\u001b[0m \u001b[0mclose\u001b[0m\u001b[1;33m(\u001b[0m\u001b[0mself\u001b[0m\u001b[1;33m)\u001b[0m\u001b[1;33m:\u001b[0m\u001b[1;33m\u001b[0m\u001b[1;33m\u001b[0m\u001b[0m\n",
      "\u001b[1;32m~\\anaconda3\\lib\\site-packages\\pandas\\io\\parsers.py\u001b[0m in \u001b[0;36m_make_engine\u001b[1;34m(self, engine)\u001b[0m\n\u001b[0;32m   1048\u001b[0m             )\n\u001b[0;32m   1049\u001b[0m         \u001b[1;31m# error: Too many arguments for \"ParserBase\"\u001b[0m\u001b[1;33m\u001b[0m\u001b[1;33m\u001b[0m\u001b[1;33m\u001b[0m\u001b[0m\n\u001b[1;32m-> 1050\u001b[1;33m         \u001b[1;32mreturn\u001b[0m \u001b[0mmapping\u001b[0m\u001b[1;33m[\u001b[0m\u001b[0mengine\u001b[0m\u001b[1;33m]\u001b[0m\u001b[1;33m(\u001b[0m\u001b[0mself\u001b[0m\u001b[1;33m.\u001b[0m\u001b[0mf\u001b[0m\u001b[1;33m,\u001b[0m \u001b[1;33m**\u001b[0m\u001b[0mself\u001b[0m\u001b[1;33m.\u001b[0m\u001b[0moptions\u001b[0m\u001b[1;33m)\u001b[0m  \u001b[1;31m# type: ignore[call-arg]\u001b[0m\u001b[1;33m\u001b[0m\u001b[1;33m\u001b[0m\u001b[0m\n\u001b[0m\u001b[0;32m   1051\u001b[0m \u001b[1;33m\u001b[0m\u001b[0m\n\u001b[0;32m   1052\u001b[0m     \u001b[1;32mdef\u001b[0m \u001b[0m_failover_to_python\u001b[0m\u001b[1;33m(\u001b[0m\u001b[0mself\u001b[0m\u001b[1;33m)\u001b[0m\u001b[1;33m:\u001b[0m\u001b[1;33m\u001b[0m\u001b[1;33m\u001b[0m\u001b[0m\n",
      "\u001b[1;32m~\\anaconda3\\lib\\site-packages\\pandas\\io\\parsers.py\u001b[0m in \u001b[0;36m__init__\u001b[1;34m(self, src, **kwds)\u001b[0m\n\u001b[0;32m   1865\u001b[0m \u001b[1;33m\u001b[0m\u001b[0m\n\u001b[0;32m   1866\u001b[0m         \u001b[1;31m# open handles\u001b[0m\u001b[1;33m\u001b[0m\u001b[1;33m\u001b[0m\u001b[1;33m\u001b[0m\u001b[0m\n\u001b[1;32m-> 1867\u001b[1;33m         \u001b[0mself\u001b[0m\u001b[1;33m.\u001b[0m\u001b[0m_open_handles\u001b[0m\u001b[1;33m(\u001b[0m\u001b[0msrc\u001b[0m\u001b[1;33m,\u001b[0m \u001b[0mkwds\u001b[0m\u001b[1;33m)\u001b[0m\u001b[1;33m\u001b[0m\u001b[1;33m\u001b[0m\u001b[0m\n\u001b[0m\u001b[0;32m   1868\u001b[0m         \u001b[1;32massert\u001b[0m \u001b[0mself\u001b[0m\u001b[1;33m.\u001b[0m\u001b[0mhandles\u001b[0m \u001b[1;32mis\u001b[0m \u001b[1;32mnot\u001b[0m \u001b[1;32mNone\u001b[0m\u001b[1;33m\u001b[0m\u001b[1;33m\u001b[0m\u001b[0m\n\u001b[0;32m   1869\u001b[0m         \u001b[1;32mfor\u001b[0m \u001b[0mkey\u001b[0m \u001b[1;32min\u001b[0m \u001b[1;33m(\u001b[0m\u001b[1;34m\"storage_options\"\u001b[0m\u001b[1;33m,\u001b[0m \u001b[1;34m\"encoding\"\u001b[0m\u001b[1;33m,\u001b[0m \u001b[1;34m\"memory_map\"\u001b[0m\u001b[1;33m,\u001b[0m \u001b[1;34m\"compression\"\u001b[0m\u001b[1;33m)\u001b[0m\u001b[1;33m:\u001b[0m\u001b[1;33m\u001b[0m\u001b[1;33m\u001b[0m\u001b[0m\n",
      "\u001b[1;32m~\\anaconda3\\lib\\site-packages\\pandas\\io\\parsers.py\u001b[0m in \u001b[0;36m_open_handles\u001b[1;34m(self, src, kwds)\u001b[0m\n\u001b[0;32m   1360\u001b[0m         \u001b[0mLet\u001b[0m \u001b[0mthe\u001b[0m \u001b[0mreaders\u001b[0m \u001b[0mopen\u001b[0m \u001b[0mIOHanldes\u001b[0m \u001b[0mafter\u001b[0m \u001b[0mthey\u001b[0m \u001b[0mare\u001b[0m \u001b[0mdone\u001b[0m \u001b[1;32mwith\u001b[0m \u001b[0mtheir\u001b[0m \u001b[0mpotential\u001b[0m \u001b[0mraises\u001b[0m\u001b[1;33m.\u001b[0m\u001b[1;33m\u001b[0m\u001b[1;33m\u001b[0m\u001b[0m\n\u001b[0;32m   1361\u001b[0m         \"\"\"\n\u001b[1;32m-> 1362\u001b[1;33m         self.handles = get_handle(\n\u001b[0m\u001b[0;32m   1363\u001b[0m             \u001b[0msrc\u001b[0m\u001b[1;33m,\u001b[0m\u001b[1;33m\u001b[0m\u001b[1;33m\u001b[0m\u001b[0m\n\u001b[0;32m   1364\u001b[0m             \u001b[1;34m\"r\"\u001b[0m\u001b[1;33m,\u001b[0m\u001b[1;33m\u001b[0m\u001b[1;33m\u001b[0m\u001b[0m\n",
      "\u001b[1;32m~\\anaconda3\\lib\\site-packages\\pandas\\io\\common.py\u001b[0m in \u001b[0;36mget_handle\u001b[1;34m(path_or_buf, mode, encoding, compression, memory_map, is_text, errors, storage_options)\u001b[0m\n\u001b[0;32m    640\u001b[0m                 \u001b[0merrors\u001b[0m \u001b[1;33m=\u001b[0m \u001b[1;34m\"replace\"\u001b[0m\u001b[1;33m\u001b[0m\u001b[1;33m\u001b[0m\u001b[0m\n\u001b[0;32m    641\u001b[0m             \u001b[1;31m# Encoding\u001b[0m\u001b[1;33m\u001b[0m\u001b[1;33m\u001b[0m\u001b[1;33m\u001b[0m\u001b[0m\n\u001b[1;32m--> 642\u001b[1;33m             handle = open(\n\u001b[0m\u001b[0;32m    643\u001b[0m                 \u001b[0mhandle\u001b[0m\u001b[1;33m,\u001b[0m\u001b[1;33m\u001b[0m\u001b[1;33m\u001b[0m\u001b[0m\n\u001b[0;32m    644\u001b[0m                 \u001b[0mioargs\u001b[0m\u001b[1;33m.\u001b[0m\u001b[0mmode\u001b[0m\u001b[1;33m,\u001b[0m\u001b[1;33m\u001b[0m\u001b[1;33m\u001b[0m\u001b[0m\n",
      "\u001b[1;31mFileNotFoundError\u001b[0m: [Errno 2] No such file or directory: 'lstm_paper1_7_days_data.csv'"
     ]
    }
   ],
   "source": [
    "import pandas as pd\n",
    "import numpy as np\n",
    "#data = pd.read_csv(\"lstm_data.csv\")\n",
    "data = pd.read_csv(\"lstm_paper1_7_days_data.csv\")\n",
    "\n",
    "data = data.drop(['week','Unnamed: 0'],axis=1)\n",
    "#data = data['region1']\n",
    "data"
   ]
  },
  {
   "cell_type": "code",
   "execution_count": 2,
   "metadata": {},
   "outputs": [
    {
     "data": {
      "text/plain": [
       "array([[0, 0, 0, 1],\n",
       "       [0, 0, 0, 1],\n",
       "       [1, 0, 0, 0],\n",
       "       ...,\n",
       "       [0, 0, 0, 0],\n",
       "       [0, 0, 0, 0],\n",
       "       [0, 0, 0, 0]], dtype=int64)"
      ]
     },
     "execution_count": 2,
     "metadata": {},
     "output_type": "execute_result"
    }
   ],
   "source": [
    "data = data\n",
    "data = np.array(data)\n",
    "data"
   ]
  },
  {
   "cell_type": "code",
   "execution_count": 3,
   "metadata": {},
   "outputs": [
    {
     "data": {
      "text/plain": [
       "array([[0, 0, 0, 0],\n",
       "       [0, 0, 0, 0],\n",
       "       [0, 0, 0, 0],\n",
       "       ...,\n",
       "       [1, 0, 0, 0],\n",
       "       [0, 0, 0, 1],\n",
       "       [0, 0, 0, 1]], dtype=int64)"
      ]
     },
     "execution_count": 3,
     "metadata": {},
     "output_type": "execute_result"
    }
   ],
   "source": [
    "data = data[::-1]\n",
    "data"
   ]
  },
  {
   "cell_type": "code",
   "execution_count": 4,
   "metadata": {},
   "outputs": [],
   "source": [
    "import numpy as np\n",
    "def splitSequence(seq, n_steps):\n",
    "    \n",
    "    #Declare X and y as empty list\n",
    "    X = []\n",
    "    y = []\n",
    "    \n",
    "    for i in range(len(seq)):\n",
    "        #get the last index\n",
    "        lastIndex = i + n_steps\n",
    "        \n",
    "        #if lastIndex is greater than length of sequence then break\n",
    "        if lastIndex > len(seq) - 1:\n",
    "            break\n",
    "            \n",
    "        #Create input and output sequence\n",
    "        seq_X, seq_y = seq[i:lastIndex], seq[lastIndex]\n",
    "        \n",
    "        #append seq_X, seq_y in X and y list\n",
    "        X.append(seq_X)\n",
    "        y.append(seq_y)\n",
    "        pass\n",
    "    #Convert X and y into numpy array\n",
    "    X = np.array(X)\n",
    "    y = np.array(y)\n",
    "    \n",
    "    return X,y \n",
    "    \n",
    "    pass"
   ]
  },
  {
   "cell_type": "code",
   "execution_count": 5,
   "metadata": {},
   "outputs": [],
   "source": [
    "n_steps = 12\n",
    "X, y = splitSequence(data, n_steps)"
   ]
  },
  {
   "cell_type": "code",
   "execution_count": 6,
   "metadata": {},
   "outputs": [
    {
     "data": {
      "text/plain": [
       "(2615, 12, 4)"
      ]
     },
     "execution_count": 6,
     "metadata": {},
     "output_type": "execute_result"
    }
   ],
   "source": [
    "X.shape"
   ]
  },
  {
   "cell_type": "code",
   "execution_count": 7,
   "metadata": {},
   "outputs": [
    {
     "name": "stdout",
     "output_type": "stream",
     "text": [
      "(2615, 12, 4) (2615, 4)\n"
     ]
    }
   ],
   "source": [
    "print(X.shape,y.shape)"
   ]
  },
  {
   "cell_type": "code",
   "execution_count": 8,
<<<<<<< HEAD
=======
   "id": "e52bfa1a",
   "metadata": {},
   "outputs": [
    {
     "data": {
      "text/plain": [
       "2595"
      ]
     },
     "execution_count": 8,
     "metadata": {},
     "output_type": "execute_result"
    }
   ],
   "source": [
    "len(X[:-20])"
   ]
  },
  {
   "cell_type": "code",
   "execution_count": 17,
   "id": "fb0578cc",
>>>>>>> 8ac200ae0038fcd4e079ee36d6c0b94aa18df6bd
   "metadata": {},
   "outputs": [],
   "source": [
    "xtrain, xtest, ytrain, ytest = X[:-20],X[-20:],y[:-20],y[-20:]"
   ]
  },
  {
   "cell_type": "code",
   "execution_count": 19,
   "id": "b7c1d9c1",
   "metadata": {},
   "outputs": [
    {
     "name": "stdout",
     "output_type": "stream",
     "text": [
      "float32\n",
      "float32\n",
      "float32\n",
      "float32\n"
     ]
    }
   ],
   "source": [
    "xtrain = xtrain.astype('float32')\n",
    "print(xtrain.dtype)\n",
    "xtest = xtest.astype('float32')\n",
    "print(xtest.dtype)\n",
    "ytrain = ytrain.astype('float32')\n",
    "print(ytrain.dtype)\n",
    "ytest = ytest.astype('float32')\n",
    "print(ytest.dtype)"
   ]
  },
  {
   "cell_type": "code",
<<<<<<< HEAD
   "execution_count": 20,
=======
<<<<<<< HEAD
   "execution_count": 9,
=======
   "execution_count": 10,
>>>>>>> 9710182b0edf64b56fb49da53790ad2ff5966818
   "id": "24bcb406",
>>>>>>> 8ac200ae0038fcd4e079ee36d6c0b94aa18df6bd
   "metadata": {},
   "outputs": [
    {
     "name": "stdout",
     "output_type": "stream",
     "text": [
      "(2615, 12, 4)\n"
     ]
    }
   ],
   "source": [
    "#n_features = 1\n",
    "print(X.shape)"
   ]
  },
  {
   "cell_type": "code",
<<<<<<< HEAD
   "execution_count": 21,
=======
<<<<<<< HEAD
   "execution_count": 10,
=======
   "execution_count": 11,
>>>>>>> 9710182b0edf64b56fb49da53790ad2ff5966818
   "id": "a16e0dac",
>>>>>>> 8ac200ae0038fcd4e079ee36d6c0b94aa18df6bd
   "metadata": {},
   "outputs": [],
   "source": [
    "import tensorflow as tf\n",
    "from tensorflow import keras\n",
    "from tensorflow.keras import layers"
   ]
  },
  {
   "cell_type": "code",
<<<<<<< HEAD
   "execution_count": 22,
=======
<<<<<<< HEAD
   "execution_count": 11,
=======
   "execution_count": 13,
>>>>>>> 9710182b0edf64b56fb49da53790ad2ff5966818
   "id": "0fb5e4d2",
>>>>>>> 8ac200ae0038fcd4e079ee36d6c0b94aa18df6bd
   "metadata": {},
   "outputs": [],
   "source": [
    "mod1 = tf.keras.Sequential()\n",
    "mod1.add(layers.LSTM(128,input_shape=(12,4)))\n",
    "mod1.add(layers.Dropout(0.2))\n",
    "mod1.add(layers.Dense(256))\n",
    "mod1.add(layers.Dense(64))\n",
    "mod1.add(layers.Dense(4,activation='softmax'))"
   ]
  },
  {
   "cell_type": "code",
   "execution_count": 23,
   "id": "5d6774e2",
   "metadata": {},
   "outputs": [],
   "source": [
    "## CNN combined with LSTM Model \n",
    "#i = (1000, 12)\n",
    "model = tf.keras.Sequential ()\n",
    "##1st model\n",
    "model.add(layers.Conv1D(5, 3))\n",
    "model.add(layers.MaxPooling1D(2))\n",
    "model.add(layers.LSTM(50,  return_sequences=True))\n",
    "model.add(layers.LSTM(10))\n",
    "model.add(layers.Dense(240))\n",
    "model.add(layers.Dense(120))\n",
    "model.add(layers.Dense(60))\n",
    "model.add(layers.Dense(30))\n",
    "model.add(layers.Dense(4,activation=\"softmax\"))\n"
   ]
  },
  {
   "cell_type": "code",
<<<<<<< HEAD
   "execution_count": 25,
=======
<<<<<<< HEAD
   "execution_count": 12,
=======
   "execution_count": 69,
>>>>>>> 9710182b0edf64b56fb49da53790ad2ff5966818
   "id": "597fd390",
   "metadata": {},
   "outputs": [
    {
     "name": "stdout",
     "output_type": "stream",
     "text": [
      "Epoch 1/25\n",
      "82/82 [==============================] - 8s 15ms/step - loss: 0.3887 - accuracy: 0.2778\n",
      "Epoch 2/25\n",
      "82/82 [==============================] - 1s 15ms/step - loss: 0.3769 - accuracy: 0.3079\n",
      "Epoch 3/25\n",
      "82/82 [==============================] - 1s 15ms/step - loss: 0.3740 - accuracy: 0.2863\n",
      "Epoch 4/25\n",
      "82/82 [==============================] - 1s 15ms/step - loss: 0.3626 - accuracy: 0.2960\n",
      "Epoch 5/25\n",
      "82/82 [==============================] - 1s 15ms/step - loss: 0.3563 - accuracy: 0.3094\n",
      "Epoch 6/25\n",
      "82/82 [==============================] - 1s 15ms/step - loss: 0.3516 - accuracy: 0.3002\n",
      "Epoch 7/25\n",
      "82/82 [==============================] - 1s 16ms/step - loss: 0.3442 - accuracy: 0.3310\n",
      "Epoch 8/25\n",
      "82/82 [==============================] - 1s 17ms/step - loss: 0.3368 - accuracy: 0.3337\n",
      "Epoch 9/25\n",
      "82/82 [==============================] - 1s 17ms/step - loss: 0.3293 - accuracy: 0.3364\n",
      "Epoch 10/25\n",
      "82/82 [==============================] - 1s 15ms/step - loss: 0.3234 - accuracy: 0.3557\n",
      "Epoch 11/25\n",
      "82/82 [==============================] - 1s 15ms/step - loss: 0.3192 - accuracy: 0.3391\n",
      "Epoch 12/25\n",
      "82/82 [==============================] - 1s 15ms/step - loss: 0.3156 - accuracy: 0.3399\n",
      "Epoch 13/25\n",
      "82/82 [==============================] - 1s 15ms/step - loss: 0.3086 - accuracy: 0.3599\n",
      "Epoch 14/25\n",
      "82/82 [==============================] - 1s 15ms/step - loss: 0.3091 - accuracy: 0.3626\n",
      "Epoch 15/25\n",
      "82/82 [==============================] - 1s 15ms/step - loss: 0.3045 - accuracy: 0.3592\n",
      "Epoch 16/25\n",
      "82/82 [==============================] - 1s 15ms/step - loss: 0.2971 - accuracy: 0.3599\n",
      "Epoch 17/25\n",
      "82/82 [==============================] - 1s 15ms/step - loss: 0.2945 - accuracy: 0.3726\n",
      "Epoch 18/25\n",
      "82/82 [==============================] - 1s 16ms/step - loss: 0.2924 - accuracy: 0.3642\n",
      "Epoch 19/25\n",
      "82/82 [==============================] - 1s 16ms/step - loss: 0.2850 - accuracy: 0.3734\n",
      "Epoch 20/25\n",
      "82/82 [==============================] - 1s 17ms/step - loss: 0.2892 - accuracy: 0.3626\n",
      "Epoch 21/25\n",
      "82/82 [==============================] - 1s 15ms/step - loss: 0.2835 - accuracy: 0.3738\n",
      "Epoch 22/25\n",
      "82/82 [==============================] - 1s 15ms/step - loss: 0.2873 - accuracy: 0.3638\n",
      "Epoch 23/25\n",
      "82/82 [==============================] - 1s 15ms/step - loss: 0.2781 - accuracy: 0.3696\n",
      "Epoch 24/25\n",
      "82/82 [==============================] - 1s 15ms/step - loss: 0.2851 - accuracy: 0.3780\n",
      "Epoch 25/25\n",
      "82/82 [==============================] - 1s 15ms/step - loss: 0.2800 - accuracy: 0.3838\n",
      "Training time: 0:00:38.798681\n"
     ]
    }
   ],
   "source": [
    "import tensorflow as tf\n",
    "from tensorflow import keras\n",
    "from keras import optimizers\n",
    "opt=keras.optimizers.RMSprop(learning_rate=0.01)\n",
    "import datetime\n",
    "\n",
    "#from keras.optimizers import RMSprop\n",
    "#opt = optimizers.RMSprop(lr=.005)\n",
    "\n",
    "#model.compile(loss=\"mae\",\n",
    "#              optimizer=opt, #metrics=['mean_absolute_error'],\n",
    "#              metrics=['accuracy'])\n",
    "\n",
    "model.compile(loss=tf.keras.losses.BinaryCrossentropy(),optimizer=tf.keras.optimizers.RMSprop(learning_rate=0.01), metrics=['accuracy'])\n",
    "\n",
    "batch_size = 128 # mini-batch with 32 examples\n",
    "epochs = 25\n",
    "now = datetime.datetime.now\n",
    "\n",
    "t=now()\n",
    "history = model.fit(xtrain, ytrain,epochs=epochs,verbose=1)\n",
    "print('Training time: %s' % (now() - t))"
   ]
  },
  {
   "cell_type": "code",
   "execution_count": 29,
   "id": "4c8bda31",
>>>>>>> 8ac200ae0038fcd4e079ee36d6c0b94aa18df6bd
   "metadata": {},
   "outputs": [
    {
     "data": {
      "text/plain": [
       "[<keras.layers.recurrent_v2.LSTM at 0x1cad693ccd0>,\n",
       " <keras.layers.core.Dropout at 0x1cac7f8a1c0>,\n",
       " <keras.layers.core.Dense at 0x1cacf8244f0>,\n",
       " <keras.layers.core.Dense at 0x1cac7f997c0>,\n",
       " <keras.layers.core.Dense at 0x1cad6f64190>]"
      ]
     },
     "execution_count": 29,
     "metadata": {},
     "output_type": "execute_result"
    }
   ],
   "source": [
    "mod1.layers\n"
   ]
  },
  {
   "cell_type": "code",
<<<<<<< HEAD
   "execution_count": 30,
=======
<<<<<<< HEAD
   "execution_count": 13,
=======
   "execution_count": 121,
>>>>>>> 9710182b0edf64b56fb49da53790ad2ff5966818
   "id": "7e89068a",
>>>>>>> 8ac200ae0038fcd4e079ee36d6c0b94aa18df6bd
   "metadata": {},
   "outputs": [],
   "source": [
    "mod1.compile(loss=tf.keras.losses.BinaryCrossentropy(),optimizer=tf.keras.optimizers.RMSprop(learning_rate=0.01), metrics=['accuracy'])\n"
   ]
  },
  {
   "cell_type": "code",
<<<<<<< HEAD
   "execution_count": 16,
=======
<<<<<<< HEAD
   "execution_count": 14,
=======
   "execution_count": 122,
>>>>>>> 9710182b0edf64b56fb49da53790ad2ff5966818
   "id": "d0682689",
>>>>>>> 8ac200ae0038fcd4e079ee36d6c0b94aa18df6bd
   "metadata": {},
   "outputs": [
    {
     "name": "stdout",
     "output_type": "stream",
     "text": [
      "float32\n"
     ]
    }
   ],
   "source": [
    "X = X.astype('float32')\n",
    "print(X.dtype)\n"
   ]
  },
  {
   "cell_type": "code",
<<<<<<< HEAD
   "execution_count": 31,
=======
<<<<<<< HEAD
   "execution_count": 15,
=======
   "execution_count": 123,
>>>>>>> 9710182b0edf64b56fb49da53790ad2ff5966818
   "id": "e666248c",
>>>>>>> 8ac200ae0038fcd4e079ee36d6c0b94aa18df6bd
   "metadata": {},
   "outputs": [
    {
     "name": "stdout",
     "output_type": "stream",
     "text": [
      "Epoch 1/50\n",
      "82/82 [==============================] - 4s 20ms/step - loss: 0.5196 - accuracy: 0.2555\n",
      "Epoch 2/50\n",
      "82/82 [==============================] - 2s 23ms/step - loss: 0.4451 - accuracy: 0.2617\n",
      "Epoch 3/50\n",
      "82/82 [==============================] - 2s 23ms/step - loss: 0.4407 - accuracy: 0.2547\n",
      "Epoch 4/50\n",
      "82/82 [==============================] - 2s 23ms/step - loss: 0.4326 - accuracy: 0.2578\n",
      "Epoch 5/50\n",
      "82/82 [==============================] - 2s 23ms/step - loss: 0.4310 - accuracy: 0.2586\n",
      "Epoch 6/50\n",
      "82/82 [==============================] - 2s 23ms/step - loss: 0.4329 - accuracy: 0.2570\n",
      "Epoch 7/50\n",
      "82/82 [==============================] - 2s 23ms/step - loss: 0.4296 - accuracy: 0.2578\n",
      "Epoch 8/50\n",
      "82/82 [==============================] - 2s 25ms/step - loss: 0.4287 - accuracy: 0.2590\n",
      "Epoch 9/50\n",
      "82/82 [==============================] - 2s 21ms/step - loss: 0.4287 - accuracy: 0.2578\n",
      "Epoch 10/50\n",
      "82/82 [==============================] - 2s 24ms/step - loss: 0.4273 - accuracy: 0.2574\n",
      "Epoch 11/50\n",
      "82/82 [==============================] - 2s 24ms/step - loss: 0.4279 - accuracy: 0.2563\n",
      "Epoch 12/50\n",
      "82/82 [==============================] - 2s 22ms/step - loss: 0.4261 - accuracy: 0.2597\n",
      "Epoch 13/50\n",
      "82/82 [==============================] - 2s 23ms/step - loss: 0.4254 - accuracy: 0.2636\n",
      "Epoch 14/50\n",
      "82/82 [==============================] - 2s 24ms/step - loss: 0.4259 - accuracy: 0.2574\n",
      "Epoch 15/50\n",
      "82/82 [==============================] - 2s 24ms/step - loss: 0.4245 - accuracy: 0.2586\n",
      "Epoch 16/50\n",
      "82/82 [==============================] - 2s 25ms/step - loss: 0.4245 - accuracy: 0.2586\n",
      "Epoch 17/50\n",
      "82/82 [==============================] - 2s 25ms/step - loss: 0.4222 - accuracy: 0.2578\n",
      "Epoch 18/50\n",
      "82/82 [==============================] - 2s 23ms/step - loss: 0.4224 - accuracy: 0.2586\n",
      "Epoch 19/50\n",
      "82/82 [==============================] - 2s 24ms/step - loss: 0.4220 - accuracy: 0.2605\n",
      "Epoch 20/50\n",
      "82/82 [==============================] - 2s 23ms/step - loss: 0.4196 - accuracy: 0.2582\n",
      "Epoch 21/50\n",
      "82/82 [==============================] - 2s 24ms/step - loss: 0.4196 - accuracy: 0.2617\n",
      "Epoch 22/50\n",
      "82/82 [==============================] - 2s 23ms/step - loss: 0.4186 - accuracy: 0.2628\n",
      "Epoch 23/50\n",
      "82/82 [==============================] - 2s 22ms/step - loss: 0.4174 - accuracy: 0.2628\n",
      "Epoch 24/50\n",
      "82/82 [==============================] - 2s 22ms/step - loss: 0.4173 - accuracy: 0.2647\n",
      "Epoch 25/50\n",
      "82/82 [==============================] - 2s 23ms/step - loss: 0.4159 - accuracy: 0.2659\n",
      "Epoch 26/50\n",
      "82/82 [==============================] - 2s 23ms/step - loss: 0.4139 - accuracy: 0.2640\n",
      "Epoch 27/50\n",
      "82/82 [==============================] - 2s 20ms/step - loss: 0.4129 - accuracy: 0.2651\n",
      "Epoch 28/50\n",
      "82/82 [==============================] - 2s 23ms/step - loss: 0.4112 - accuracy: 0.2674\n",
      "Epoch 29/50\n",
      "82/82 [==============================] - 2s 23ms/step - loss: 0.4106 - accuracy: 0.2667\n",
      "Epoch 30/50\n",
      "82/82 [==============================] - 2s 23ms/step - loss: 0.4088 - accuracy: 0.2751\n",
      "Epoch 31/50\n",
      "82/82 [==============================] - 2s 22ms/step - loss: 0.4028 - accuracy: 0.2713\n",
      "Epoch 32/50\n",
      "82/82 [==============================] - 2s 23ms/step - loss: 0.3984 - accuracy: 0.2767\n",
      "Epoch 33/50\n",
      "82/82 [==============================] - 2s 23ms/step - loss: 0.4006 - accuracy: 0.2836\n",
      "Epoch 34/50\n",
      "82/82 [==============================] - 2s 23ms/step - loss: 0.3952 - accuracy: 0.2875\n",
      "Epoch 35/50\n",
      "82/82 [==============================] - 2s 23ms/step - loss: 0.3939 - accuracy: 0.2802\n",
      "Epoch 36/50\n",
      "82/82 [==============================] - 2s 23ms/step - loss: 0.3856 - accuracy: 0.2871\n",
      "Epoch 37/50\n",
      "82/82 [==============================] - 2s 23ms/step - loss: 0.3822 - accuracy: 0.2906\n",
      "Epoch 38/50\n",
      "82/82 [==============================] - 2s 24ms/step - loss: 0.3776 - accuracy: 0.2929\n",
      "Epoch 39/50\n",
      "82/82 [==============================] - 2s 23ms/step - loss: 0.3738 - accuracy: 0.2948\n",
      "Epoch 40/50\n",
      "82/82 [==============================] - 2s 22ms/step - loss: 0.3662 - accuracy: 0.3148\n",
      "Epoch 41/50\n",
      "82/82 [==============================] - 2s 22ms/step - loss: 0.3646 - accuracy: 0.3114\n",
      "Epoch 42/50\n",
      "82/82 [==============================] - 2s 23ms/step - loss: 0.3547 - accuracy: 0.3141\n",
      "Epoch 43/50\n",
      "82/82 [==============================] - 2s 21ms/step - loss: 0.3603 - accuracy: 0.3118\n",
      "Epoch 44/50\n",
      "82/82 [==============================] - 2s 25ms/step - loss: 0.3469 - accuracy: 0.3206\n",
      "Epoch 45/50\n",
      "82/82 [==============================] - 2s 21ms/step - loss: 0.3406 - accuracy: 0.3314\n",
      "Epoch 46/50\n",
      "82/82 [==============================] - 2s 19ms/step - loss: 0.3319 - accuracy: 0.3407\n",
      "Epoch 47/50\n",
      "82/82 [==============================] - 2s 20ms/step - loss: 0.3245 - accuracy: 0.3445\n",
      "Epoch 48/50\n",
      "82/82 [==============================] - 2s 22ms/step - loss: 0.3191 - accuracy: 0.3364\n",
      "Epoch 49/50\n",
      "82/82 [==============================] - 2s 22ms/step - loss: 0.3131 - accuracy: 0.3445\n",
      "Epoch 50/50\n",
      "82/82 [==============================] - 2s 23ms/step - loss: 0.3061 - accuracy: 0.3618\n"
     ]
    },
    {
     "data": {
      "text/plain": [
       "<keras.callbacks.History at 0x1cae526c760>"
      ]
     },
     "execution_count": 31,
     "metadata": {},
     "output_type": "execute_result"
    }
   ],
   "source": [
    "mod1.fit(xtrain, ytrain, epochs=50)\n"
   ]
  },
  {
   "cell_type": "code",
<<<<<<< HEAD
   "execution_count": 32,
=======
<<<<<<< HEAD
   "execution_count": 16,
=======
   "execution_count": 15,
>>>>>>> 9710182b0edf64b56fb49da53790ad2ff5966818
   "id": "e61b5aaf",
>>>>>>> 8ac200ae0038fcd4e079ee36d6c0b94aa18df6bd
   "metadata": {},
   "outputs": [],
   "source": [
    "p = X[-20:]\n",
    "\n"
   ]
  },
  {
   "cell_type": "code",
<<<<<<< HEAD
   "execution_count": 33,
=======
<<<<<<< HEAD
   "execution_count": 17,
=======
   "execution_count": 57,
>>>>>>> 9710182b0edf64b56fb49da53790ad2ff5966818
   "id": "a1c8f182",
>>>>>>> 8ac200ae0038fcd4e079ee36d6c0b94aa18df6bd
   "metadata": {},
   "outputs": [],
   "source": [
    "ypred = mod1.predict(xtest)"
   ]
  },
  {
   "cell_type": "code",
   "execution_count": 26,
   "id": "03746080",
   "metadata": {},
   "outputs": [],
   "source": [
    "yprednew = model.predict(xtest)"
   ]
  },
  {
   "cell_type": "code",
   "execution_count": 27,
   "id": "95b7594a",
   "metadata": {},
   "outputs": [
    {
     "data": {
      "text/plain": [
       "array([[False, False,  True, False],\n",
       "       [False, False, False,  True],\n",
       "       [False, False, False,  True],\n",
       "       [False, False, False,  True],\n",
       "       [False, False, False,  True],\n",
       "       [False, False, False,  True],\n",
       "       [False, False, False,  True],\n",
       "       [False, False, False,  True],\n",
       "       [False, False, False,  True],\n",
       "       [False, False,  True, False],\n",
       "       [False, False, False,  True],\n",
       "       [False, False,  True, False],\n",
       "       [False, False,  True, False],\n",
       "       [False, False,  True, False],\n",
       "       [False, False, False,  True],\n",
       "       [False, False,  True, False],\n",
       "       [False, False, False,  True],\n",
       "       [False, False, False,  True],\n",
       "       [False, False,  True, False],\n",
       "       [False, False, False,  True]])"
      ]
     },
     "execution_count": 27,
     "metadata": {},
     "output_type": "execute_result"
    }
   ],
   "source": [
    "yprednew = (yprednew>0.3)\n",
    "yprednew"
   ]
  },
  {
   "cell_type": "code",
<<<<<<< HEAD
   "execution_count": 34,
=======
<<<<<<< HEAD
   "execution_count": 67,
=======
   "execution_count": 60,
>>>>>>> 9710182b0edf64b56fb49da53790ad2ff5966818
   "id": "24fba3e2",
   "metadata": {},
   "outputs": [
    {
     "data": {
      "text/plain": [
       "array([[False, False, False,  True],\n",
       "       [False, False, False,  True],\n",
       "       [False, False, False,  True],\n",
       "       [False, False, False,  True],\n",
       "       [False, False, False,  True],\n",
       "       [False, False, False,  True],\n",
       "       [False, False, False,  True],\n",
       "       [False, False,  True,  True],\n",
       "       [False, False, False,  True],\n",
       "       [False, False, False,  True],\n",
       "       [False,  True, False, False],\n",
       "       [False, False, False,  True],\n",
       "       [False, False, False,  True],\n",
       "       [False, False, False,  True],\n",
       "       [False, False, False,  True],\n",
       "       [False, False, False,  True],\n",
       "       [False, False, False,  True],\n",
       "       [False, False, False,  True],\n",
       "       [ True, False, False,  True],\n",
       "       [False, False, False,  True]])"
      ]
     },
     "execution_count": 34,
     "metadata": {},
     "output_type": "execute_result"
    }
   ],
   "source": [
    "ypred = (ypred>0.3)\n",
    "ypred"
   ]
  },
  {
   "cell_type": "code",
   "execution_count": 61,
   "id": "1e41f845",
   "metadata": {},
   "outputs": [
    {
     "data": {
      "text/plain": [
       "array([[0., 0., 0., 1.],\n",
       "       [0., 0., 0., 1.],\n",
       "       [0., 0., 0., 0.],\n",
       "       [0., 0., 1., 0.],\n",
       "       [1., 1., 0., 1.],\n",
       "       [0., 0., 0., 0.],\n",
       "       [0., 0., 0., 1.],\n",
       "       [0., 0., 1., 0.],\n",
       "       [0., 0., 1., 0.],\n",
       "       [0., 0., 0., 1.],\n",
       "       [0., 0., 0., 1.],\n",
       "       [0., 0., 0., 0.],\n",
       "       [0., 0., 0., 0.],\n",
       "       [0., 0., 0., 1.],\n",
       "       [0., 0., 0., 1.],\n",
       "       [0., 0., 0., 0.],\n",
       "       [0., 0., 1., 1.],\n",
       "       [1., 0., 0., 0.],\n",
       "       [0., 0., 0., 1.],\n",
       "       [0., 0., 0., 1.]], dtype=float32)"
      ]
     },
     "execution_count": 61,
     "metadata": {},
     "output_type": "execute_result"
    }
   ],
   "source": [
    "ytest"
   ]
  },
  {
   "cell_type": "code",
   "execution_count": 28,
   "id": "04bc94b8",
>>>>>>> 8ac200ae0038fcd4e079ee36d6c0b94aa18df6bd
   "metadata": {},
   "outputs": [
    {
     "name": "stdout",
     "output_type": "stream",
     "text": [
      "1/1 [==============================] - 2s 2s/step - loss: 0.9929 - accuracy: 0.2500\n",
      "test loss, test acc: [0.9929141998291016, 0.25]\n"
     ]
    }
   ],
   "source": [
    "results = model.evaluate(xtest, ytest)\n",
    "print(\"test loss, test acc:\", results)"
   ]
  },
  {
   "cell_type": "code",
<<<<<<< HEAD
   "execution_count": 35,
=======
<<<<<<< HEAD
   "execution_count": 65,
=======
   "execution_count": null,
>>>>>>> 9710182b0edf64b56fb49da53790ad2ff5966818
   "id": "be63103d",
   "metadata": {},
   "outputs": [
    {
     "name": "stdout",
     "output_type": "stream",
     "text": [
      "1/1 [==============================] - 1s 1s/step - loss: 0.4561 - accuracy: 0.4500\n",
      "test loss, test acc: [0.4561118185520172, 0.44999998807907104]\n"
     ]
    }
   ],
   "source": [
    "results = mod1.evaluate(xtest, ytest)\n",
    "print(\"test loss, test acc:\", results)"
   ]
  },
  {
   "cell_type": "code",
   "execution_count": 24,
   "id": "a8af5af7",
>>>>>>> 8ac200ae0038fcd4e079ee36d6c0b94aa18df6bd
   "metadata": {},
   "outputs": [
    {
     "name": "stdout",
     "output_type": "stream",
     "text": [
      "(2, 12, 4)\n"
     ]
    }
   ],
   "source": [
    "print(p.shape)"
   ]
  },
  {
   "cell_type": "code",
   "execution_count": null,
   "id": "a6e302ac",
   "metadata": {},
   "outputs": [],
   "source": []
  }
 ],
 "metadata": {
  "kernelspec": {
   "display_name": "Python 3",
   "language": "python",
   "name": "python3"
  },
  "language_info": {
   "codemirror_mode": {
    "name": "ipython",
    "version": 3
   },
   "file_extension": ".py",
   "mimetype": "text/x-python",
   "name": "python",
   "nbconvert_exporter": "python",
   "pygments_lexer": "ipython3",
   "version": "3.6.7"
  }
 },
 "nbformat": 4,
 "nbformat_minor": 5
}
