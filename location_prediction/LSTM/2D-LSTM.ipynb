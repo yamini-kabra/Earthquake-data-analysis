{
 "cells": [
  {
   "cell_type": "code",
   "execution_count": 1,
   "metadata": {},
   "outputs": [
    {
     "data": {
      "text/html": [
       "<div>\n",
       "<style scoped>\n",
       "    .dataframe tbody tr th:only-of-type {\n",
       "        vertical-align: middle;\n",
       "    }\n",
       "\n",
       "    .dataframe tbody tr th {\n",
       "        vertical-align: top;\n",
       "    }\n",
       "\n",
       "    .dataframe thead th {\n",
       "        text-align: right;\n",
       "    }\n",
       "</style>\n",
       "<table border=\"1\" class=\"dataframe\">\n",
       "  <thead>\n",
       "    <tr style=\"text-align: right;\">\n",
       "      <th></th>\n",
       "      <th>region1</th>\n",
       "      <th>region2</th>\n",
       "      <th>region3</th>\n",
       "      <th>region4</th>\n",
       "    </tr>\n",
       "  </thead>\n",
       "  <tbody>\n",
       "    <tr>\n",
       "      <th>0</th>\n",
       "      <td>0</td>\n",
       "      <td>0</td>\n",
       "      <td>0</td>\n",
       "      <td>1</td>\n",
       "    </tr>\n",
       "    <tr>\n",
       "      <th>1</th>\n",
       "      <td>0</td>\n",
       "      <td>0</td>\n",
       "      <td>0</td>\n",
       "      <td>1</td>\n",
       "    </tr>\n",
       "    <tr>\n",
       "      <th>2</th>\n",
       "      <td>1</td>\n",
       "      <td>0</td>\n",
       "      <td>0</td>\n",
       "      <td>0</td>\n",
       "    </tr>\n",
       "    <tr>\n",
       "      <th>3</th>\n",
       "      <td>0</td>\n",
       "      <td>0</td>\n",
       "      <td>1</td>\n",
       "      <td>1</td>\n",
       "    </tr>\n",
       "    <tr>\n",
       "      <th>4</th>\n",
       "      <td>0</td>\n",
       "      <td>0</td>\n",
       "      <td>0</td>\n",
       "      <td>0</td>\n",
       "    </tr>\n",
       "    <tr>\n",
       "      <th>...</th>\n",
       "      <td>...</td>\n",
       "      <td>...</td>\n",
       "      <td>...</td>\n",
       "      <td>...</td>\n",
       "    </tr>\n",
       "    <tr>\n",
       "      <th>2622</th>\n",
       "      <td>0</td>\n",
       "      <td>0</td>\n",
       "      <td>0</td>\n",
       "      <td>0</td>\n",
       "    </tr>\n",
       "    <tr>\n",
       "      <th>2623</th>\n",
       "      <td>0</td>\n",
       "      <td>0</td>\n",
       "      <td>0</td>\n",
       "      <td>0</td>\n",
       "    </tr>\n",
       "    <tr>\n",
       "      <th>2624</th>\n",
       "      <td>0</td>\n",
       "      <td>0</td>\n",
       "      <td>0</td>\n",
       "      <td>0</td>\n",
       "    </tr>\n",
       "    <tr>\n",
       "      <th>2625</th>\n",
       "      <td>0</td>\n",
       "      <td>0</td>\n",
       "      <td>0</td>\n",
       "      <td>0</td>\n",
       "    </tr>\n",
       "    <tr>\n",
       "      <th>2626</th>\n",
       "      <td>0</td>\n",
       "      <td>0</td>\n",
       "      <td>0</td>\n",
       "      <td>0</td>\n",
       "    </tr>\n",
       "  </tbody>\n",
       "</table>\n",
       "<p>2627 rows × 4 columns</p>\n",
       "</div>"
      ],
      "text/plain": [
       "      region1  region2  region3  region4\n",
       "0           0        0        0        1\n",
       "1           0        0        0        1\n",
       "2           1        0        0        0\n",
       "3           0        0        1        1\n",
       "4           0        0        0        0\n",
       "...       ...      ...      ...      ...\n",
       "2622        0        0        0        0\n",
       "2623        0        0        0        0\n",
       "2624        0        0        0        0\n",
       "2625        0        0        0        0\n",
       "2626        0        0        0        0\n",
       "\n",
       "[2627 rows x 4 columns]"
      ]
     },
     "execution_count": 1,
     "metadata": {},
     "output_type": "execute_result"
    }
   ],
   "source": [
    "import pandas as pd\n",
    "import numpy as np\n",
    "#data = pd.read_csv(\"lstm_data.csv\")\n",
    "data = pd.read_csv(\"lstm_data.csv\")\n",
    "\n",
    "data = data.drop(['week','Unnamed: 0'],axis=1)\n",
    "#data = data['region1']\n",
    "data"
   ]
  },
  {
   "cell_type": "code",
   "execution_count": 2,
   "metadata": {},
   "outputs": [
    {
     "data": {
      "text/plain": [
       "array([[0, 0, 0, 1],\n",
       "       [0, 0, 0, 1],\n",
       "       [1, 0, 0, 0],\n",
       "       ...,\n",
       "       [0, 0, 0, 0],\n",
       "       [0, 0, 0, 0],\n",
       "       [0, 0, 0, 0]], dtype=int64)"
      ]
     },
     "execution_count": 2,
     "metadata": {},
     "output_type": "execute_result"
    }
   ],
   "source": [
    "data = data\n",
    "data = np.array(data)\n",
    "data"
   ]
  },
  {
   "cell_type": "code",
   "execution_count": 3,
   "metadata": {},
   "outputs": [
    {
     "data": {
      "text/plain": [
       "array([[0, 0, 0, 0],\n",
       "       [0, 0, 0, 0],\n",
       "       [0, 0, 0, 0],\n",
       "       ...,\n",
       "       [1, 0, 0, 0],\n",
       "       [0, 0, 0, 1],\n",
       "       [0, 0, 0, 1]], dtype=int64)"
      ]
     },
     "execution_count": 3,
     "metadata": {},
     "output_type": "execute_result"
    }
   ],
   "source": [
    "data = data[::-1]\n",
    "data"
   ]
  },
  {
   "cell_type": "code",
   "execution_count": 4,
   "metadata": {},
   "outputs": [],
   "source": [
    "import numpy as np\n",
    "def splitSequence(seq, n_steps):\n",
    "    \n",
    "    #Declare X and y as empty list\n",
    "    X = []\n",
    "    y = []\n",
    "    \n",
    "    for i in range(len(seq)):\n",
    "        #get the last index\n",
    "        lastIndex = i + n_steps\n",
    "        \n",
    "        #if lastIndex is greater than length of sequence then break\n",
    "        if lastIndex > len(seq) - 1:\n",
    "            break\n",
    "            \n",
    "        #Create input and output sequence\n",
    "        seq_X, seq_y = seq[i:lastIndex], seq[lastIndex]\n",
    "        \n",
    "        #append seq_X, seq_y in X and y list\n",
    "        X.append(seq_X)\n",
    "        y.append(seq_y)\n",
    "        pass\n",
    "    #Convert X and y into numpy array\n",
    "    X = np.array(X)\n",
    "    y = np.array(y)\n",
    "    \n",
    "    return X,y \n",
    "    \n",
    "    pass"
   ]
  },
  {
   "cell_type": "code",
   "execution_count": 5,
   "metadata": {},
   "outputs": [],
   "source": [
    "n_steps = 12\n",
    "X, y = splitSequence(data, n_steps)"
   ]
  },
  {
   "cell_type": "code",
   "execution_count": 6,
   "metadata": {},
   "outputs": [
    {
     "data": {
      "text/plain": [
       "(2615, 12, 4)"
      ]
     },
     "execution_count": 6,
     "metadata": {},
     "output_type": "execute_result"
    }
   ],
   "source": [
    "X.shape"
   ]
  },
  {
   "cell_type": "code",
   "execution_count": 7,
   "metadata": {},
   "outputs": [
    {
     "name": "stdout",
     "output_type": "stream",
     "text": [
      "(2615, 12, 4) (2615, 4)\n"
     ]
    }
   ],
   "source": [
    "print(X.shape,y.shape)"
   ]
  },
  {
   "cell_type": "code",
   "execution_count": 8,
<<<<<<< HEAD
=======
   "id": "e52bfa1a",
   "metadata": {},
   "outputs": [
    {
     "data": {
      "text/plain": [
       "2595"
      ]
     },
     "execution_count": 8,
     "metadata": {},
     "output_type": "execute_result"
    }
   ],
   "source": [
    "len(X[:-20])"
   ]
  },
  {
   "cell_type": "code",
   "execution_count": 9,
   "id": "fb0578cc",
>>>>>>> 8ac200ae0038fcd4e079ee36d6c0b94aa18df6bd
   "metadata": {},
   "outputs": [],
   "source": [
    "xtrain, xtest, ytrain, ytest = X[:-20],X[-20:],y[:-20],y[-20:]"
   ]
  },
  {
   "cell_type": "code",
   "execution_count": 50,
   "id": "b7c1d9c1",
   "metadata": {},
   "outputs": [
    {
     "name": "stdout",
     "output_type": "stream",
     "text": [
      "float32\n"
     ]
    }
   ],
   "source": [
    "xtest = xtest.astype('float32')\n",
    "print(xtest.dtype)"
   ]
  },
  {
   "cell_type": "code",
<<<<<<< HEAD
   "execution_count": 9,
=======
   "execution_count": 10,
   "id": "24bcb406",
>>>>>>> 8ac200ae0038fcd4e079ee36d6c0b94aa18df6bd
   "metadata": {},
   "outputs": [
    {
     "name": "stdout",
     "output_type": "stream",
     "text": [
      "(2615, 12, 4)\n"
     ]
    }
   ],
   "source": [
    "#n_features = 1\n",
    "print(X.shape)"
   ]
  },
  {
   "cell_type": "code",
<<<<<<< HEAD
   "execution_count": 10,
=======
   "execution_count": 11,
   "id": "a16e0dac",
>>>>>>> 8ac200ae0038fcd4e079ee36d6c0b94aa18df6bd
   "metadata": {},
   "outputs": [],
   "source": [
    "import tensorflow as tf\n",
    "from tensorflow import keras\n",
    "from tensorflow.keras import layers"
   ]
  },
  {
   "cell_type": "code",
<<<<<<< HEAD
   "execution_count": 11,
=======
   "execution_count": 13,
   "id": "0fb5e4d2",
>>>>>>> 8ac200ae0038fcd4e079ee36d6c0b94aa18df6bd
   "metadata": {},
   "outputs": [],
   "source": [
    "mod1 = tf.keras.Sequential()\n",
    "mod1.add(layers.LSTM(128,input_shape=(12,4)))\n",
    "mod1.add(layers.Dropout(0.2))\n",
    "mod1.add(layers.Dense(256))\n",
    "mod1.add(layers.Dense(64))\n",
    "mod1.add(layers.Dense(4,activation='softmax'))"
   ]
  },
  {
   "cell_type": "code",
   "execution_count": 63,
   "id": "5d6774e2",
   "metadata": {},
   "outputs": [],
   "source": [
    "## CNN combined with LSTM Model \n",
    "#i = (1000, 12)\n",
    "model = tf.keras.Sequential ()\n",
    "##1st model\n",
    "model.add(layers.Conv1D(5, 3))\n",
    "model.add(layers.MaxPooling1D(2))\n",
    "model.add(layers.LSTM(50,  return_sequences=True))\n",
    "model.add(layers.LSTM(10))\n",
    "model.add(layers.Dense(240))\n",
    "model.add(layers.Dense(120))\n",
    "model.add(layers.Dense(60))\n",
    "model.add(layers.Dense(30))\n",
    "model.add(layers.Dense(4,activation=\"softmax\"))\n"
   ]
  },
  {
   "cell_type": "code",
<<<<<<< HEAD
   "execution_count": 12,
=======
   "execution_count": 69,
   "id": "597fd390",
   "metadata": {},
   "outputs": [
    {
     "name": "stdout",
     "output_type": "stream",
     "text": [
      "Epoch 1/25\n",
      "82/82 [==============================] - 8s 16ms/step - loss: 0.2756 - accuracy: 0.4301\n",
      "Epoch 2/25\n",
      "82/82 [==============================] - 1s 15ms/step - loss: 0.2398 - accuracy: 0.5214\n",
      "Epoch 3/25\n",
      "82/82 [==============================] - 2s 25ms/step - loss: 0.2364 - accuracy: 0.5468\n",
      "Epoch 4/25\n",
      "82/82 [==============================] - 2s 25ms/step - loss: 0.2318 - accuracy: 0.5245\n",
      "Epoch 5/25\n",
      "82/82 [==============================] - 1s 16ms/step - loss: 0.2335 - accuracy: 0.5198 0s - loss: 0.2268 - accuracy\n",
      "Epoch 6/25\n",
      "82/82 [==============================] - 1s 18ms/step - loss: 0.2237 - accuracy: 0.5422\n",
      "Epoch 7/25\n",
      "82/82 [==============================] - 2s 22ms/step - loss: 0.2290 - accuracy: 0.5418\n",
      "Epoch 8/25\n",
      "82/82 [==============================] - 2s 22ms/step - loss: 0.2236 - accuracy: 0.5684\n",
      "Epoch 9/25\n",
      "82/82 [==============================] - 2s 22ms/step - loss: 0.2146 - accuracy: 0.5491\n",
      "Epoch 10/25\n",
      "82/82 [==============================] - 2s 22ms/step - loss: 0.2200 - accuracy: 0.5291\n",
      "Epoch 11/25\n",
      "82/82 [==============================] - 2s 22ms/step - loss: 0.2133 - accuracy: 0.5337\n",
      "Epoch 12/25\n",
      "82/82 [==============================] - 2s 21ms/step - loss: 0.2098 - accuracy: 0.5480\n",
      "Epoch 13/25\n",
      "82/82 [==============================] - 2s 19ms/step - loss: 0.1987 - accuracy: 0.6019\n",
      "Epoch 14/25\n",
      "82/82 [==============================] - 1s 18ms/step - loss: 0.2023 - accuracy: 0.5445\n",
      "Epoch 15/25\n",
      "82/82 [==============================] - 1s 18ms/step - loss: 0.2063 - accuracy: 0.5434\n",
      "Epoch 16/25\n",
      "82/82 [==============================] - 1s 18ms/step - loss: 0.1981 - accuracy: 0.5723\n",
      "Epoch 17/25\n",
      "82/82 [==============================] - 2s 18ms/step - loss: 0.1878 - accuracy: 0.5387\n",
      "Epoch 18/25\n",
      "82/82 [==============================] - 2s 18ms/step - loss: 0.2083 - accuracy: 0.4906\n",
      "Epoch 19/25\n",
      "82/82 [==============================] - 2s 18ms/step - loss: 0.1945 - accuracy: 0.4840\n",
      "Epoch 20/25\n",
      "82/82 [==============================] - 2s 18ms/step - loss: 0.1929 - accuracy: 0.5518\n",
      "Epoch 21/25\n",
      "82/82 [==============================] - 2s 19ms/step - loss: 0.1898 - accuracy: 0.5040\n",
      "Epoch 22/25\n",
      "82/82 [==============================] - 2s 19ms/step - loss: 0.1852 - accuracy: 0.5507\n",
      "Epoch 23/25\n",
      "82/82 [==============================] - 2s 19ms/step - loss: 0.1884 - accuracy: 0.5349\n",
      "Epoch 24/25\n",
      "82/82 [==============================] - 1s 18ms/step - loss: 0.1806 - accuracy: 0.5461\n",
      "Epoch 25/25\n",
      "82/82 [==============================] - 1s 17ms/step - loss: 0.1881 - accuracy: 0.5329\n",
      "Training time: 0:00:47.215271\n"
     ]
    }
   ],
   "source": [
    "import tensorflow as tf\n",
    "from tensorflow import keras\n",
    "from keras import optimizers\n",
    "opt=keras.optimizers.RMSprop(learning_rate=0.01)\n",
    "import datetime\n",
    "\n",
    "#from keras.optimizers import RMSprop\n",
    "#opt = optimizers.RMSprop(lr=.005)\n",
    "\n",
    "#model.compile(loss=\"mae\",\n",
    "#              optimizer=opt, #metrics=['mean_absolute_error'],\n",
    "#              metrics=['accuracy'])\n",
    "\n",
    "model.compile(loss=tf.keras.losses.BinaryCrossentropy(),optimizer=tf.keras.optimizers.RMSprop(learning_rate=0.01), metrics=['accuracy'])\n",
    "\n",
    "batch_size = 128 # mini-batch with 32 examples\n",
    "epochs = 25\n",
    "now = datetime.datetime.now\n",
    "\n",
    "t=now()\n",
    "history = model.fit(xtrain, ytrain,epochs=epochs,verbose=1)\n",
    "print('Training time: %s' % (now() - t))"
   ]
  },
  {
   "cell_type": "code",
   "execution_count": 119,
   "id": "4c8bda31",
>>>>>>> 8ac200ae0038fcd4e079ee36d6c0b94aa18df6bd
   "metadata": {},
   "outputs": [
    {
     "data": {
      "text/plain": [
       "[<keras.layers.recurrent_v2.LSTM at 0x29223d16970>,\n",
       " <keras.layers.core.Dropout at 0x29223d128b0>,\n",
       " <keras.layers.core.Dense at 0x2922c45a880>,\n",
       " <keras.layers.core.Dense at 0x29223da1f10>,\n",
       " <keras.layers.core.Dense at 0x29223d27310>]"
      ]
     },
     "execution_count": 119,
     "metadata": {},
     "output_type": "execute_result"
    }
   ],
   "source": [
    "mod1.layers\n"
   ]
  },
  {
   "cell_type": "code",
<<<<<<< HEAD
   "execution_count": 13,
=======
   "execution_count": 121,
   "id": "7e89068a",
>>>>>>> 8ac200ae0038fcd4e079ee36d6c0b94aa18df6bd
   "metadata": {},
   "outputs": [],
   "source": [
    "mod1.compile(loss=tf.keras.losses.BinaryCrossentropy(),optimizer=tf.keras.optimizers.RMSprop(learning_rate=0.01), metrics=['accuracy'])\n"
   ]
  },
  {
   "cell_type": "code",
<<<<<<< HEAD
   "execution_count": 14,
=======
   "execution_count": 122,
   "id": "d0682689",
>>>>>>> 8ac200ae0038fcd4e079ee36d6c0b94aa18df6bd
   "metadata": {},
   "outputs": [
    {
     "name": "stdout",
     "output_type": "stream",
     "text": [
      "float32\n"
     ]
    }
   ],
   "source": [
    "X = X.astype('float32')\n",
    "print(X.dtype)\n"
   ]
  },
  {
   "cell_type": "code",
<<<<<<< HEAD
   "execution_count": 15,
=======
   "execution_count": 123,
   "id": "e666248c",
>>>>>>> 8ac200ae0038fcd4e079ee36d6c0b94aa18df6bd
   "metadata": {},
   "outputs": [
    {
     "name": "stdout",
     "output_type": "stream",
     "text": [
      "Epoch 1/50\n",
      "82/82 [==============================] - 7s 10ms/step - loss: 0.5146 - accuracy: 0.2486\n",
      "Epoch 2/50\n",
      "82/82 [==============================] - 1s 9ms/step - loss: 0.4479 - accuracy: 0.2590\n",
      "Epoch 3/50\n",
      "82/82 [==============================] - 1s 9ms/step - loss: 0.4566 - accuracy: 0.2555\n",
      "Epoch 4/50\n",
      "82/82 [==============================] - 1s 10ms/step - loss: 0.4352 - accuracy: 0.2605\n",
      "Epoch 5/50\n",
      "82/82 [==============================] - 1s 9ms/step - loss: 0.4327 - accuracy: 0.2593\n",
      "Epoch 6/50\n",
      "82/82 [==============================] - 1s 10ms/step - loss: 0.4289 - accuracy: 0.2566\n",
      "Epoch 7/50\n",
      "82/82 [==============================] - 1s 10ms/step - loss: 0.4294 - accuracy: 0.2555\n",
      "Epoch 8/50\n",
      "82/82 [==============================] - 1s 10ms/step - loss: 0.4289 - accuracy: 0.2586\n",
      "Epoch 9/50\n",
      "82/82 [==============================] - 1s 9ms/step - loss: 0.4274 - accuracy: 0.2578\n",
      "Epoch 10/50\n",
      "82/82 [==============================] - 1s 10ms/step - loss: 0.4275 - accuracy: 0.2582\n",
      "Epoch 11/50\n",
      "82/82 [==============================] - 1s 10ms/step - loss: 0.4273 - accuracy: 0.2555\n",
      "Epoch 12/50\n",
      "82/82 [==============================] - 1s 9ms/step - loss: 0.4258 - accuracy: 0.2586\n",
      "Epoch 13/50\n",
      "82/82 [==============================] - 1s 10ms/step - loss: 0.4249 - accuracy: 0.2593\n",
      "Epoch 14/50\n",
      "82/82 [==============================] - 1s 10ms/step - loss: 0.4246 - accuracy: 0.2570\n",
      "Epoch 15/50\n",
      "82/82 [==============================] - 1s 12ms/step - loss: 0.4246 - accuracy: 0.2609\n",
      "Epoch 16/50\n",
      "82/82 [==============================] - 1s 10ms/step - loss: 0.4216 - accuracy: 0.2605\n",
      "Epoch 17/50\n",
      "82/82 [==============================] - 1s 10ms/step - loss: 0.4229 - accuracy: 0.2624\n",
      "Epoch 18/50\n",
      "82/82 [==============================] - 1s 11ms/step - loss: 0.4219 - accuracy: 0.2578\n",
      "Epoch 19/50\n",
      "82/82 [==============================] - 1s 11ms/step - loss: 0.4209 - accuracy: 0.2597\n",
      "Epoch 20/50\n",
      "82/82 [==============================] - 1s 11ms/step - loss: 0.4201 - accuracy: 0.2601\n",
      "Epoch 21/50\n",
      "82/82 [==============================] - 1s 11ms/step - loss: 0.4190 - accuracy: 0.2624\n",
      "Epoch 22/50\n",
      "82/82 [==============================] - 1s 11ms/step - loss: 0.4181 - accuracy: 0.2624\n",
      "Epoch 23/50\n",
      "82/82 [==============================] - 1s 11ms/step - loss: 0.4178 - accuracy: 0.2586\n",
      "Epoch 24/50\n",
      "82/82 [==============================] - 1s 11ms/step - loss: 0.4165 - accuracy: 0.2640\n",
      "Epoch 25/50\n",
      "82/82 [==============================] - 1s 11ms/step - loss: 0.4139 - accuracy: 0.2651\n",
      "Epoch 26/50\n",
      "82/82 [==============================] - 1s 11ms/step - loss: 0.4123 - accuracy: 0.2590\n",
      "Epoch 27/50\n",
      "82/82 [==============================] - 1s 13ms/step - loss: 0.4117 - accuracy: 0.2728\n",
      "Epoch 28/50\n",
      "82/82 [==============================] - 1s 11ms/step - loss: 0.4098 - accuracy: 0.2678\n",
      "Epoch 29/50\n",
      "82/82 [==============================] - 1s 11ms/step - loss: 0.4049 - accuracy: 0.2736\n",
      "Epoch 30/50\n",
      "82/82 [==============================] - 1s 12ms/step - loss: 0.4019 - accuracy: 0.2701\n",
      "Epoch 31/50\n",
      "82/82 [==============================] - 1s 11ms/step - loss: 0.3988 - accuracy: 0.2832\n",
      "Epoch 32/50\n",
      "82/82 [==============================] - 1s 11ms/step - loss: 0.3971 - accuracy: 0.2805\n",
      "Epoch 33/50\n",
      "82/82 [==============================] - 1s 11ms/step - loss: 0.3936 - accuracy: 0.2829\n",
      "Epoch 34/50\n",
      "82/82 [==============================] - 1s 11ms/step - loss: 0.3850 - accuracy: 0.2886\n",
      "Epoch 35/50\n",
      "82/82 [==============================] - 2s 18ms/step - loss: 0.3840 - accuracy: 0.2909\n",
      "Epoch 36/50\n",
      "82/82 [==============================] - 1s 14ms/step - loss: 0.3774 - accuracy: 0.3029\n",
      "Epoch 37/50\n",
      "82/82 [==============================] - 1s 11ms/step - loss: 0.3727 - accuracy: 0.3079\n",
      "Epoch 38/50\n",
      "82/82 [==============================] - 1s 11ms/step - loss: 0.3668 - accuracy: 0.3268\n",
      "Epoch 39/50\n",
      "82/82 [==============================] - 1s 11ms/step - loss: 0.3600 - accuracy: 0.3272\n",
      "Epoch 40/50\n",
      "82/82 [==============================] - 1s 11ms/step - loss: 0.3531 - accuracy: 0.3291\n",
      "Epoch 41/50\n",
      "82/82 [==============================] - 1s 11ms/step - loss: 0.3451 - accuracy: 0.3337\n",
      "Epoch 42/50\n",
      "82/82 [==============================] - 1s 11ms/step - loss: 0.3381 - accuracy: 0.3403\n",
      "Epoch 43/50\n",
      "82/82 [==============================] - 1s 11ms/step - loss: 0.3345 - accuracy: 0.3484\n",
      "Epoch 44/50\n",
      "82/82 [==============================] - 1s 11ms/step - loss: 0.3282 - accuracy: 0.3545\n",
      "Epoch 45/50\n",
      "82/82 [==============================] - 1s 11ms/step - loss: 0.3178 - accuracy: 0.3572\n",
      "Epoch 46/50\n",
      "82/82 [==============================] - 1s 11ms/step - loss: 0.3086 - accuracy: 0.3750\n",
      "Epoch 47/50\n",
      "82/82 [==============================] - 1s 11ms/step - loss: 0.3008 - accuracy: 0.3915\n",
      "Epoch 48/50\n",
      "82/82 [==============================] - 1s 11ms/step - loss: 0.2879 - accuracy: 0.3961\n",
      "Epoch 49/50\n",
      "82/82 [==============================] - 1s 12ms/step - loss: 0.2844 - accuracy: 0.4004\n",
      "Epoch 50/50\n",
      "82/82 [==============================] - 1s 11ms/step - loss: 0.2758 - accuracy: 0.4119\n"
     ]
    },
    {
     "data": {
      "text/plain": [
       "<keras.callbacks.History at 0x2922c6cb970>"
      ]
     },
     "execution_count": 123,
     "metadata": {},
     "output_type": "execute_result"
    }
   ],
   "source": [
    "mod1.fit(xtrain, ytrain, epochs=50)\n"
   ]
  },
  {
   "cell_type": "code",
<<<<<<< HEAD
   "execution_count": 16,
=======
   "execution_count": 15,
   "id": "e61b5aaf",
>>>>>>> 8ac200ae0038fcd4e079ee36d6c0b94aa18df6bd
   "metadata": {},
   "outputs": [],
   "source": [
    "p = X[-20:]\n",
    "\n"
   ]
  },
  {
   "cell_type": "code",
<<<<<<< HEAD
   "execution_count": 17,
=======
   "execution_count": 57,
   "id": "a1c8f182",
>>>>>>> 8ac200ae0038fcd4e079ee36d6c0b94aa18df6bd
   "metadata": {},
   "outputs": [],
   "source": [
    "ypred = model.predict(xtest)"
   ]
  },
  {
   "cell_type": "code",
   "execution_count": 58,
   "id": "03746080",
   "metadata": {},
   "outputs": [],
   "source": [
    "yprednew = model.predict(xtest)"
   ]
  },
  {
   "cell_type": "code",
   "execution_count": 59,
   "id": "95b7594a",
   "metadata": {},
   "outputs": [
    {
     "data": {
      "text/plain": [
       "array([[False, False, False,  True],\n",
       "       [False, False, False,  True],\n",
       "       [False, False, False,  True],\n",
       "       [False, False,  True, False],\n",
       "       [False, False, False,  True],\n",
       "       [False, False,  True, False],\n",
       "       [False, False,  True, False],\n",
       "       [False, False, False,  True],\n",
       "       [False, False, False,  True],\n",
       "       [False, False, False,  True],\n",
       "       [False, False, False,  True],\n",
       "       [False, False,  True, False],\n",
       "       [False,  True,  True, False],\n",
       "       [ True, False, False,  True],\n",
       "       [ True, False, False, False],\n",
       "       [False, False,  True, False],\n",
       "       [ True, False, False, False],\n",
       "       [False, False,  True, False],\n",
       "       [ True, False, False, False],\n",
       "       [False, False,  True,  True]])"
      ]
     },
     "execution_count": 59,
     "metadata": {},
     "output_type": "execute_result"
    }
   ],
   "source": [
    "yprednew = (yprednew>0.3)\n",
    "yprednew"
   ]
  },
  {
   "cell_type": "code",
<<<<<<< HEAD
   "execution_count": 67,
=======
   "execution_count": 60,
   "id": "24fba3e2",
   "metadata": {},
   "outputs": [
    {
     "data": {
      "text/plain": [
       "array([[False, False, False,  True],\n",
       "       [False, False, False,  True],\n",
       "       [False, False, False,  True],\n",
       "       [False, False,  True, False],\n",
       "       [False, False, False,  True],\n",
       "       [False, False,  True, False],\n",
       "       [False, False,  True, False],\n",
       "       [False, False, False,  True],\n",
       "       [False, False, False,  True],\n",
       "       [False, False, False,  True],\n",
       "       [False, False, False,  True],\n",
       "       [False, False,  True, False],\n",
       "       [False,  True,  True, False],\n",
       "       [ True, False, False,  True],\n",
       "       [ True, False, False, False],\n",
       "       [False, False,  True, False],\n",
       "       [ True, False, False, False],\n",
       "       [False, False,  True, False],\n",
       "       [ True, False, False, False],\n",
       "       [False, False,  True,  True]])"
      ]
     },
     "execution_count": 60,
     "metadata": {},
     "output_type": "execute_result"
    }
   ],
   "source": [
    "ypred = (ypred>0.3)\n",
    "ypred"
   ]
  },
  {
   "cell_type": "code",
   "execution_count": 61,
   "id": "1e41f845",
   "metadata": {},
   "outputs": [
    {
     "data": {
      "text/plain": [
       "array([[0., 0., 0., 1.],\n",
       "       [0., 0., 0., 1.],\n",
       "       [0., 0., 0., 0.],\n",
       "       [0., 0., 1., 0.],\n",
       "       [1., 1., 0., 1.],\n",
       "       [0., 0., 0., 0.],\n",
       "       [0., 0., 0., 1.],\n",
       "       [0., 0., 1., 0.],\n",
       "       [0., 0., 1., 0.],\n",
       "       [0., 0., 0., 1.],\n",
       "       [0., 0., 0., 1.],\n",
       "       [0., 0., 0., 0.],\n",
       "       [0., 0., 0., 0.],\n",
       "       [0., 0., 0., 1.],\n",
       "       [0., 0., 0., 1.],\n",
       "       [0., 0., 0., 0.],\n",
       "       [0., 0., 1., 1.],\n",
       "       [1., 0., 0., 0.],\n",
       "       [0., 0., 0., 1.],\n",
       "       [0., 0., 0., 1.]], dtype=float32)"
      ]
     },
     "execution_count": 61,
     "metadata": {},
     "output_type": "execute_result"
    }
   ],
   "source": [
    "ytest"
   ]
  },
  {
   "cell_type": "code",
   "execution_count": 72,
   "id": "04bc94b8",
>>>>>>> 8ac200ae0038fcd4e079ee36d6c0b94aa18df6bd
   "metadata": {},
   "outputs": [
    {
     "name": "stdout",
     "output_type": "stream",
     "text": [
      "1/1 [==============================] - 1s 820ms/step - loss: 2.0726 - accuracy: 0.3000\n",
      "test loss, test acc: [0.7942690253257751, 0.58000001192092896] \n"
     ]
    }
   ],
   "source": [
    "results = model.evaluate(xtest, ytest)\n",
    "print(\"test loss, test acc:\", results)"
   ]
  },
  {
   "cell_type": "code",
<<<<<<< HEAD
   "execution_count": 65,
=======
   "execution_count": null,
   "id": "be63103d",
   "metadata": {},
   "outputs": [],
   "source": []
  },
  {
   "cell_type": "code",
   "execution_count": 24,
   "id": "a8af5af7",
>>>>>>> 8ac200ae0038fcd4e079ee36d6c0b94aa18df6bd
   "metadata": {},
   "outputs": [
    {
     "name": "stdout",
     "output_type": "stream",
     "text": [
      "(2, 12, 4)\n"
     ]
    }
   ],
   "source": [
    "print(p.shape)"
   ]
  }
 ],
 "metadata": {
  "kernelspec": {
   "display_name": "Python 3",
   "language": "python",
   "name": "python3"
  },
  "language_info": {
   "codemirror_mode": {
    "name": "ipython",
    "version": 3
   },
   "file_extension": ".py",
   "mimetype": "text/x-python",
   "name": "python",
   "nbconvert_exporter": "python",
   "pygments_lexer": "ipython3",
   "version": "3.6.7"
  }
 },
 "nbformat": 4,
 "nbformat_minor": 5
}
