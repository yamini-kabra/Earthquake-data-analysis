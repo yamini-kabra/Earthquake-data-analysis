{
 "cells": [
  {
   "cell_type": "code",
   "execution_count": 1,
   "id": "81f97d5b",
   "metadata": {},
   "outputs": [
    {
     "data": {
      "text/html": [
       "<div>\n",
       "<style scoped>\n",
       "    .dataframe tbody tr th:only-of-type {\n",
       "        vertical-align: middle;\n",
       "    }\n",
       "\n",
       "    .dataframe tbody tr th {\n",
       "        vertical-align: top;\n",
       "    }\n",
       "\n",
       "    .dataframe thead th {\n",
       "        text-align: right;\n",
       "    }\n",
       "</style>\n",
       "<table border=\"1\" class=\"dataframe\">\n",
       "  <thead>\n",
       "    <tr style=\"text-align: right;\">\n",
       "      <th></th>\n",
       "      <th>region1</th>\n",
       "      <th>region2</th>\n",
       "      <th>region3</th>\n",
       "      <th>region4</th>\n",
       "    </tr>\n",
       "  </thead>\n",
       "  <tbody>\n",
       "    <tr>\n",
       "      <th>0</th>\n",
       "      <td>0</td>\n",
       "      <td>0</td>\n",
       "      <td>0</td>\n",
       "      <td>1</td>\n",
       "    </tr>\n",
       "    <tr>\n",
       "      <th>1</th>\n",
       "      <td>0</td>\n",
       "      <td>0</td>\n",
       "      <td>0</td>\n",
       "      <td>1</td>\n",
       "    </tr>\n",
       "    <tr>\n",
       "      <th>2</th>\n",
       "      <td>1</td>\n",
       "      <td>0</td>\n",
       "      <td>0</td>\n",
       "      <td>0</td>\n",
       "    </tr>\n",
       "    <tr>\n",
       "      <th>3</th>\n",
       "      <td>0</td>\n",
       "      <td>0</td>\n",
       "      <td>1</td>\n",
       "      <td>1</td>\n",
       "    </tr>\n",
       "    <tr>\n",
       "      <th>4</th>\n",
       "      <td>0</td>\n",
       "      <td>0</td>\n",
       "      <td>0</td>\n",
       "      <td>0</td>\n",
       "    </tr>\n",
       "    <tr>\n",
       "      <th>...</th>\n",
       "      <td>...</td>\n",
       "      <td>...</td>\n",
       "      <td>...</td>\n",
       "      <td>...</td>\n",
       "    </tr>\n",
       "    <tr>\n",
       "      <th>2622</th>\n",
       "      <td>0</td>\n",
       "      <td>0</td>\n",
       "      <td>0</td>\n",
       "      <td>0</td>\n",
       "    </tr>\n",
       "    <tr>\n",
       "      <th>2623</th>\n",
       "      <td>0</td>\n",
       "      <td>0</td>\n",
       "      <td>0</td>\n",
       "      <td>0</td>\n",
       "    </tr>\n",
       "    <tr>\n",
       "      <th>2624</th>\n",
       "      <td>0</td>\n",
       "      <td>0</td>\n",
       "      <td>0</td>\n",
       "      <td>0</td>\n",
       "    </tr>\n",
       "    <tr>\n",
       "      <th>2625</th>\n",
       "      <td>0</td>\n",
       "      <td>0</td>\n",
       "      <td>0</td>\n",
       "      <td>0</td>\n",
       "    </tr>\n",
       "    <tr>\n",
       "      <th>2626</th>\n",
       "      <td>0</td>\n",
       "      <td>0</td>\n",
       "      <td>0</td>\n",
       "      <td>0</td>\n",
       "    </tr>\n",
       "  </tbody>\n",
       "</table>\n",
       "<p>2627 rows × 4 columns</p>\n",
       "</div>"
      ],
      "text/plain": [
       "      region1  region2  region3  region4\n",
       "0           0        0        0        1\n",
       "1           0        0        0        1\n",
       "2           1        0        0        0\n",
       "3           0        0        1        1\n",
       "4           0        0        0        0\n",
       "...       ...      ...      ...      ...\n",
       "2622        0        0        0        0\n",
       "2623        0        0        0        0\n",
       "2624        0        0        0        0\n",
       "2625        0        0        0        0\n",
       "2626        0        0        0        0\n",
       "\n",
       "[2627 rows x 4 columns]"
      ]
     },
     "execution_count": 1,
     "metadata": {},
     "output_type": "execute_result"
    }
   ],
   "source": [
    "import pandas as pd\n",
    "import numpy as np\n",
    "#data = pd.read_csv(\"lstm_data.csv\")\n",
    "data = pd.read_csv(\"lstm_data.csv\")\n",
    "\n",
    "data = data.drop(['week','Unnamed: 0'],axis=1)\n",
    "#data = data['region1']\n",
    "data"
   ]
  },
  {
   "cell_type": "code",
   "execution_count": 2,
   "id": "90bbc373",
   "metadata": {},
   "outputs": [
    {
     "data": {
      "text/plain": [
       "array([[0, 0, 0, 1],\n",
       "       [0, 0, 0, 1],\n",
       "       [1, 0, 0, 0],\n",
       "       ...,\n",
       "       [0, 0, 0, 0],\n",
       "       [0, 0, 0, 0],\n",
       "       [0, 0, 0, 0]], dtype=int64)"
      ]
     },
     "execution_count": 2,
     "metadata": {},
     "output_type": "execute_result"
    }
   ],
   "source": [
    "data = data\n",
    "data = np.array(data)\n",
    "data"
   ]
  },
  {
   "cell_type": "code",
   "execution_count": 3,
   "id": "59124203",
   "metadata": {},
   "outputs": [
    {
     "data": {
      "text/plain": [
       "array([[0, 0, 0, 0],\n",
       "       [0, 0, 0, 0],\n",
       "       [0, 0, 0, 0],\n",
       "       ...,\n",
       "       [1, 0, 0, 0],\n",
       "       [0, 0, 0, 1],\n",
       "       [0, 0, 0, 1]], dtype=int64)"
      ]
     },
     "execution_count": 3,
     "metadata": {},
     "output_type": "execute_result"
    }
   ],
   "source": [
    "data = data[::-1]\n",
    "data"
   ]
  },
  {
   "cell_type": "code",
   "execution_count": 4,
   "id": "cce9b85a",
   "metadata": {},
   "outputs": [],
   "source": [
    "import numpy as np\n",
    "def splitSequence(seq, n_steps):\n",
    "    \n",
    "    #Declare X and y as empty list\n",
    "    X = []\n",
    "    y = []\n",
    "    \n",
    "    for i in range(len(seq)):\n",
    "        #get the last index\n",
    "        lastIndex = i + n_steps\n",
    "        \n",
    "        #if lastIndex is greater than length of sequence then break\n",
    "        if lastIndex > len(seq) - 1:\n",
    "            break\n",
    "            \n",
    "        #Create input and output sequence\n",
    "        seq_X, seq_y = seq[i:lastIndex], seq[lastIndex]\n",
    "        \n",
    "        #append seq_X, seq_y in X and y list\n",
    "        X.append(seq_X)\n",
    "        y.append(seq_y)\n",
    "        pass\n",
    "    #Convert X and y into numpy array\n",
    "    X = np.array(X)\n",
    "    y = np.array(y)\n",
    "    \n",
    "    return X,y \n",
    "    \n",
    "    pass"
   ]
  },
  {
   "cell_type": "code",
   "execution_count": 5,
   "id": "c09c97fe",
   "metadata": {},
   "outputs": [],
   "source": [
    "n_steps = 12\n",
    "X, y = splitSequence(data, n_steps)"
   ]
  },
  {
   "cell_type": "code",
   "execution_count": 6,
   "id": "e2175eeb",
   "metadata": {},
   "outputs": [
    {
     "data": {
      "text/plain": [
       "(2615, 12, 4)"
      ]
     },
     "execution_count": 6,
     "metadata": {},
     "output_type": "execute_result"
    }
   ],
   "source": [
    "X.shape"
   ]
  },
  {
   "cell_type": "code",
   "execution_count": 7,
   "id": "24938c3c",
   "metadata": {},
   "outputs": [
    {
     "name": "stdout",
     "output_type": "stream",
     "text": [
      "(2615, 12, 4) (2615, 4)\n"
     ]
    }
   ],
   "source": [
    "print(X.shape,y.shape)"
   ]
  },
  {
   "cell_type": "code",
   "execution_count": 8,
   "id": "e52bfa1a",
   "metadata": {},
   "outputs": [
    {
     "data": {
      "text/plain": [
       "2595"
      ]
     },
     "execution_count": 8,
     "metadata": {},
     "output_type": "execute_result"
    }
   ],
   "source": [
    "len(X[:-20])"
   ]
  },
  {
   "cell_type": "code",
   "execution_count": 9,
   "id": "fb0578cc",
   "metadata": {},
   "outputs": [],
   "source": [
    "xtrain, xtest, ytrain, ytest = X[:-20],X[-20:],y[:-20],y[-20:]"
   ]
  },
  {
   "cell_type": "code",
   "execution_count": 10,
   "id": "b7c1d9c1",
   "metadata": {},
   "outputs": [
    {
     "name": "stdout",
     "output_type": "stream",
     "text": [
      "float32\n",
      "float32\n",
      "float32\n",
      "float32\n"
     ]
    }
   ],
   "source": [
    "xtrain = xtrain.astype('float32')\n",
    "print(xtrain.dtype)\n",
    "xtest = xtest.astype('float32')\n",
    "print(xtest.dtype)\n",
    "ytrain = ytrain.astype('float32')\n",
    "print(ytrain.dtype)\n",
    "ytest = ytest.astype('float32')\n",
    "print(ytest.dtype)"
   ]
  },
  {
   "cell_type": "code",
   "execution_count": 11,
   "id": "24bcb406",
   "metadata": {},
   "outputs": [
    {
     "name": "stdout",
     "output_type": "stream",
     "text": [
      "(2615, 12, 4)\n"
     ]
    }
   ],
   "source": [
    "#n_features = 1\n",
    "print(X.shape)"
   ]
  },
  {
   "cell_type": "code",
   "execution_count": 12,
   "id": "a16e0dac",
   "metadata": {},
   "outputs": [],
   "source": [
    "import tensorflow as tf\n",
    "from tensorflow import keras\n",
    "from tensorflow.keras import layers"
   ]
  },
  {
   "cell_type": "code",
   "execution_count": 31,
   "id": "0fb5e4d2",
   "metadata": {},
   "outputs": [],
   "source": [
    "mod1 = tf.keras.Sequential()\n",
    "mod1.add(layers.LSTM(128,input_shape=(12,4)))\n",
    "mod1.add(layers.Dropout(0.2))\n",
    "mod1.add(layers.Dense(256))\n",
    "mod1.add(layers.Dense(64))\n",
    "mod1.add(layers.Dense(4,activation='softmax'))"
   ]
  },
  {
   "cell_type": "code",
   "execution_count": 32,
   "id": "5d6774e2",
   "metadata": {},
   "outputs": [],
   "source": [
    "## CNN combined with LSTM Model \n",
    "#i = (1000, 12)\n",
    "model = tf.keras.Sequential ()\n",
    "##1st model\n",
    "model.add(layers.Conv1D(123, 3))\n",
    "model.add(layers.MaxPooling1D(2))\n",
    "model.add(layers.LSTM(256,  return_sequences=True))\n",
    "model.add(layers.LSTM(64))\n",
    "model.add(layers.Dense(240))\n",
    "model.add(layers.Dense(120))\n",
    "model.add(layers.Dense(60))\n",
    "model.add(layers.Dense(30))\n",
    "model.add(layers.Dense(4,activation=\"softmax\"))\n"
   ]
  },
  {
   "cell_type": "code",
   "execution_count": 46,
   "id": "597fd390",
   "metadata": {},
   "outputs": [
    {
     "name": "stdout",
     "output_type": "stream",
     "text": [
      "Epoch 1/25\n",
      "82/82 [==============================] - 4s 20ms/step - loss: 0.4456 - accuracy: 0.2570\n",
      "Epoch 2/25\n",
      "82/82 [==============================] - 2s 19ms/step - loss: 0.4410 - accuracy: 0.2574\n",
      "Epoch 3/25\n",
      "82/82 [==============================] - 2s 19ms/step - loss: 0.4419 - accuracy: 0.2574\n",
      "Epoch 4/25\n",
      "82/82 [==============================] - 2s 19ms/step - loss: 0.4404 - accuracy: 0.2566\n",
      "Epoch 5/25\n",
      "82/82 [==============================] - 2s 19ms/step - loss: 0.4413 - accuracy: 0.2566\n",
      "Epoch 6/25\n",
      "82/82 [==============================] - 2s 19ms/step - loss: 0.4408 - accuracy: 0.2574\n",
      "Epoch 7/25\n",
      "82/82 [==============================] - 2s 18ms/step - loss: 0.4410 - accuracy: 0.2547\n",
      "Epoch 8/25\n",
      "82/82 [==============================] - 2s 19ms/step - loss: 0.4445 - accuracy: 0.2578\n",
      "Epoch 9/25\n",
      "82/82 [==============================] - 2s 18ms/step - loss: 0.4401 - accuracy: 0.2574\n",
      "Epoch 10/25\n",
      "82/82 [==============================] - 2s 19ms/step - loss: 0.4407 - accuracy: 0.2574\n",
      "Epoch 11/25\n",
      "82/82 [==============================] - 2s 20ms/step - loss: 0.4568 - accuracy: 0.2574\n",
      "Epoch 12/25\n",
      "82/82 [==============================] - 2s 20ms/step - loss: 0.4402 - accuracy: 0.2574\n",
      "Epoch 13/25\n",
      "82/82 [==============================] - 2s 19ms/step - loss: 0.4405 - accuracy: 0.2574\n",
      "Epoch 14/25\n",
      "82/82 [==============================] - 2s 18ms/step - loss: 0.4406 - accuracy: 0.2574\n",
      "Epoch 15/25\n",
      "82/82 [==============================] - 2s 19ms/step - loss: 0.4413 - accuracy: 0.2574\n",
      "Epoch 16/25\n",
      "82/82 [==============================] - 2s 19ms/step - loss: 0.4439 - accuracy: 0.2570\n",
      "Epoch 17/25\n",
      "82/82 [==============================] - 2s 23ms/step - loss: 0.4403 - accuracy: 0.2574\n",
      "Epoch 18/25\n",
      "82/82 [==============================] - 2s 20ms/step - loss: 0.4399 - accuracy: 0.2574\n",
      "Epoch 19/25\n",
      "82/82 [==============================] - 2s 19ms/step - loss: 0.4405 - accuracy: 0.2574\n",
      "Epoch 20/25\n",
      "82/82 [==============================] - 2s 22ms/step - loss: 0.4431 - accuracy: 0.2574\n",
      "Epoch 21/25\n",
      "82/82 [==============================] - 2s 21ms/step - loss: 0.4400 - accuracy: 0.2574\n",
      "Epoch 22/25\n",
      "82/82 [==============================] - 2s 20ms/step - loss: 0.4403 - accuracy: 0.2574\n",
      "Epoch 23/25\n",
      "82/82 [==============================] - 2s 19ms/step - loss: 0.4406 - accuracy: 0.2574\n",
      "Epoch 24/25\n",
      "82/82 [==============================] - 2s 19ms/step - loss: 0.4458 - accuracy: 0.2559\n",
      "Epoch 25/25\n",
      "82/82 [==============================] - 2s 20ms/step - loss: 0.4446 - accuracy: 0.2574\n",
      "Training time: 0:00:42.948297\n"
     ]
    }
   ],
   "source": [
    "import tensorflow as tf\n",
    "from tensorflow import keras\n",
    "from keras import optimizers\n",
    "opt=keras.optimizers.RMSprop(learning_rate=0.01)\n",
    "import datetime\n",
    "\n",
    "#from keras.optimizers import RMSprop\n",
    "#opt = optimizers.RMSprop(lr=.005)\n",
    "\n",
    "#model.compile(loss=\"mae\",\n",
    "#              optimizer=opt, #metrics=['mean_absolute_error'],\n",
    "#              metrics=['accuracy'])\n",
    "\n",
    "model.compile(loss=tf.keras.losses.BinaryCrossentropy(),optimizer=tf.keras.optimizers.RMSprop(learning_rate=0.01), metrics=['accuracy'])\n",
    "\n",
    "batch_size = 128 # mini-batch with 32 examples\n",
    "epochs = 25\n",
    "now = datetime.datetime.now\n",
    "\n",
    "t=now()\n",
    "history = model.fit(xtrain, ytrain,epochs=epochs,verbose=1)\n",
    "print('Training time: %s' % (now() - t))"
   ]
  },
  {
   "cell_type": "code",
   "execution_count": 47,
   "id": "4c8bda31",
   "metadata": {},
   "outputs": [
    {
     "data": {
      "text/plain": [
       "[<keras.layers.recurrent_v2.LSTM at 0x28f4f070550>,\n",
       " <keras.layers.core.Dropout at 0x28f4f070280>,\n",
       " <keras.layers.core.Dense at 0x28f488d9100>,\n",
       " <keras.layers.core.Dense at 0x28f4f0b85b0>,\n",
       " <keras.layers.core.Dense at 0x28f4dff27f0>]"
      ]
     },
     "execution_count": 47,
     "metadata": {},
     "output_type": "execute_result"
    }
   ],
   "source": [
    "mod1.layers\n"
   ]
  },
  {
   "cell_type": "code",
   "execution_count": 48,
   "id": "7e89068a",
   "metadata": {},
   "outputs": [],
   "source": [
    "mod1.compile(loss=tf.keras.losses.BinaryCrossentropy(),optimizer=tf.keras.optimizers.RMSprop(learning_rate=0.01), metrics=['accuracy'])\n"
   ]
  },
  {
   "cell_type": "code",
   "execution_count": 49,
   "id": "d0682689",
   "metadata": {},
   "outputs": [
    {
     "name": "stdout",
     "output_type": "stream",
     "text": [
      "float32\n"
     ]
    }
   ],
   "source": [
    "X = X.astype('float32')\n",
    "print(X.dtype)\n"
   ]
  },
  {
   "cell_type": "code",
   "execution_count": 50,
   "id": "e666248c",
   "metadata": {},
   "outputs": [
    {
     "name": "stdout",
     "output_type": "stream",
     "text": [
      "Epoch 1/25\n",
      "82/82 [==============================] - 2s 10ms/step - loss: 0.4144 - accuracy: 0.2694\n",
      "Epoch 2/25\n",
      "82/82 [==============================] - 1s 11ms/step - loss: 0.4107 - accuracy: 0.2717\n",
      "Epoch 3/25\n",
      "82/82 [==============================] - 1s 11ms/step - loss: 0.4066 - accuracy: 0.2674\n",
      "Epoch 4/25\n",
      "82/82 [==============================] - 1s 11ms/step - loss: 0.4068 - accuracy: 0.2705\n",
      "Epoch 5/25\n",
      "82/82 [==============================] - 1s 11ms/step - loss: 0.4017 - accuracy: 0.2817\n",
      "Epoch 6/25\n",
      "82/82 [==============================] - 1s 12ms/step - loss: 0.3974 - accuracy: 0.2798\n",
      "Epoch 7/25\n",
      "82/82 [==============================] - 1s 11ms/step - loss: 0.3962 - accuracy: 0.2813\n",
      "Epoch 8/25\n",
      "82/82 [==============================] - 1s 11ms/step - loss: 0.3914 - accuracy: 0.2821\n",
      "Epoch 9/25\n",
      "82/82 [==============================] - 1s 12ms/step - loss: 0.3904 - accuracy: 0.2813\n",
      "Epoch 10/25\n",
      "82/82 [==============================] - 1s 11ms/step - loss: 0.3816 - accuracy: 0.2898\n",
      "Epoch 11/25\n",
      "82/82 [==============================] - 1s 12ms/step - loss: 0.3790 - accuracy: 0.2963\n",
      "Epoch 12/25\n",
      "82/82 [==============================] - 1s 11ms/step - loss: 0.3767 - accuracy: 0.3010\n",
      "Epoch 13/25\n",
      "82/82 [==============================] - 1s 11ms/step - loss: 0.3673 - accuracy: 0.3037\n",
      "Epoch 14/25\n",
      "82/82 [==============================] - 1s 11ms/step - loss: 0.3600 - accuracy: 0.3118\n",
      "Epoch 15/25\n",
      "82/82 [==============================] - 1s 11ms/step - loss: 0.3527 - accuracy: 0.3202\n",
      "Epoch 16/25\n",
      "82/82 [==============================] - 1s 11ms/step - loss: 0.3468 - accuracy: 0.3214\n",
      "Epoch 17/25\n",
      "82/82 [==============================] - 1s 11ms/step - loss: 0.3390 - accuracy: 0.3295\n",
      "Epoch 18/25\n",
      "82/82 [==============================] - 1s 12ms/step - loss: 0.3316 - accuracy: 0.3329\n",
      "Epoch 19/25\n",
      "82/82 [==============================] - 1s 13ms/step - loss: 0.3244 - accuracy: 0.3434\n",
      "Epoch 20/25\n",
      "82/82 [==============================] - 1s 11ms/step - loss: 0.3154 - accuracy: 0.3457\n",
      "Epoch 21/25\n",
      "82/82 [==============================] - 1s 12ms/step - loss: 0.3115 - accuracy: 0.3584\n",
      "Epoch 22/25\n",
      "82/82 [==============================] - 1s 12ms/step - loss: 0.3011 - accuracy: 0.3518\n",
      "Epoch 23/25\n",
      "82/82 [==============================] - 1s 12ms/step - loss: 0.3005 - accuracy: 0.3584\n",
      "Epoch 24/25\n",
      "82/82 [==============================] - 1s 11ms/step - loss: 0.2854 - accuracy: 0.3723\n",
      "Epoch 25/25\n",
      "82/82 [==============================] - 1s 12ms/step - loss: 0.2785 - accuracy: 0.3807\n"
     ]
    },
    {
     "data": {
      "text/plain": [
       "<keras.callbacks.History at 0x28f4428af70>"
      ]
     },
     "execution_count": 50,
     "metadata": {},
     "output_type": "execute_result"
    }
   ],
   "source": [
    "mod1.fit(xtrain, ytrain, epochs=25)\n"
   ]
  },
  {
   "cell_type": "code",
   "execution_count": 51,
   "id": "e61b5aaf",
   "metadata": {},
   "outputs": [],
   "source": [
    "p = X[-20:]\n",
    "\n"
   ]
  },
  {
   "cell_type": "code",
   "execution_count": 52,
   "id": "a1c8f182",
   "metadata": {},
   "outputs": [
    {
     "name": "stdout",
     "output_type": "stream",
     "text": [
      "WARNING:tensorflow:5 out of the last 5 calls to <function Model.make_predict_function.<locals>.predict_function at 0x0000028F4BD50D30> triggered tf.function retracing. Tracing is expensive and the excessive number of tracings could be due to (1) creating @tf.function repeatedly in a loop, (2) passing tensors with different shapes, (3) passing Python objects instead of tensors. For (1), please define your @tf.function outside of the loop. For (2), @tf.function has experimental_relax_shapes=True option that relaxes argument shapes that can avoid unnecessary retracing. For (3), please refer to https://www.tensorflow.org/guide/function#controlling_retracing and https://www.tensorflow.org/api_docs/python/tf/function for  more details.\n"
     ]
    }
   ],
   "source": [
    "ypred = mod1.predict(xtest)"
   ]
  },
  {
   "cell_type": "code",
   "execution_count": 53,
   "id": "03746080",
   "metadata": {},
   "outputs": [
    {
     "name": "stdout",
     "output_type": "stream",
     "text": [
      "WARNING:tensorflow:6 out of the last 6 calls to <function Model.make_predict_function.<locals>.predict_function at 0x0000028F5178C790> triggered tf.function retracing. Tracing is expensive and the excessive number of tracings could be due to (1) creating @tf.function repeatedly in a loop, (2) passing tensors with different shapes, (3) passing Python objects instead of tensors. For (1), please define your @tf.function outside of the loop. For (2), @tf.function has experimental_relax_shapes=True option that relaxes argument shapes that can avoid unnecessary retracing. For (3), please refer to https://www.tensorflow.org/guide/function#controlling_retracing and https://www.tensorflow.org/api_docs/python/tf/function for  more details.\n"
     ]
    }
   ],
   "source": [
    "yprednew = model.predict(xtest)"
   ]
  },
  {
   "cell_type": "code",
   "execution_count": 54,
   "id": "95b7594a",
   "metadata": {},
   "outputs": [
    {
     "data": {
      "text/plain": [
       "array([[False, False, False,  True],\n",
       "       [False, False, False,  True],\n",
       "       [False, False, False,  True],\n",
       "       [False, False, False,  True],\n",
       "       [False, False, False,  True],\n",
       "       [False, False, False,  True],\n",
       "       [False, False, False,  True],\n",
       "       [False, False, False,  True],\n",
       "       [False, False, False,  True],\n",
       "       [False, False, False,  True],\n",
       "       [False, False, False,  True],\n",
       "       [False, False, False,  True],\n",
       "       [False, False, False,  True],\n",
       "       [False, False, False,  True],\n",
       "       [False, False, False,  True],\n",
       "       [False, False, False,  True],\n",
       "       [False, False, False,  True],\n",
       "       [False, False, False,  True],\n",
       "       [False, False, False,  True],\n",
       "       [False, False, False,  True]])"
      ]
     },
     "execution_count": 54,
     "metadata": {},
     "output_type": "execute_result"
    }
   ],
   "source": [
    "yprednew = (yprednew>0.3)\n",
    "yprednew"
   ]
  },
  {
   "cell_type": "code",
   "execution_count": 55,
   "id": "24fba3e2",
   "metadata": {},
   "outputs": [
    {
     "data": {
      "text/plain": [
       "array([[False, False, False,  True],\n",
       "       [False, False, False,  True],\n",
       "       [False, False, False,  True],\n",
       "       [False, False, False,  True],\n",
       "       [False, False,  True,  True],\n",
       "       [False, False, False,  True],\n",
       "       [False, False, False,  True],\n",
       "       [False, False, False,  True],\n",
       "       [False,  True, False, False],\n",
       "       [False, False,  True,  True],\n",
       "       [False, False, False,  True],\n",
       "       [False, False, False,  True],\n",
       "       [False, False, False,  True],\n",
       "       [False,  True,  True, False],\n",
       "       [False, False, False,  True],\n",
       "       [False, False, False,  True],\n",
       "       [False, False, False,  True],\n",
       "       [False, False, False,  True],\n",
       "       [False, False, False,  True],\n",
       "       [False, False, False,  True]])"
      ]
     },
     "execution_count": 55,
     "metadata": {},
     "output_type": "execute_result"
    }
   ],
   "source": [
    "ypred = (ypred>0.3)\n",
    "ypred"
   ]
  },
  {
   "cell_type": "code",
   "execution_count": 56,
   "id": "1e41f845",
   "metadata": {},
   "outputs": [
    {
     "data": {
      "text/plain": [
       "array([[0., 0., 0., 1.],\n",
       "       [0., 0., 0., 1.],\n",
       "       [0., 0., 0., 0.],\n",
       "       [0., 0., 1., 0.],\n",
       "       [1., 1., 0., 1.],\n",
       "       [0., 0., 0., 0.],\n",
       "       [0., 0., 0., 1.],\n",
       "       [0., 0., 1., 0.],\n",
       "       [0., 0., 1., 0.],\n",
       "       [0., 0., 0., 1.],\n",
       "       [0., 0., 0., 1.],\n",
       "       [0., 0., 0., 0.],\n",
       "       [0., 0., 0., 0.],\n",
       "       [0., 0., 0., 1.],\n",
       "       [0., 0., 0., 1.],\n",
       "       [0., 0., 0., 0.],\n",
       "       [0., 0., 1., 1.],\n",
       "       [1., 0., 0., 0.],\n",
       "       [0., 0., 0., 1.],\n",
       "       [0., 0., 0., 1.]], dtype=float32)"
      ]
     },
     "execution_count": 56,
     "metadata": {},
     "output_type": "execute_result"
    }
   ],
   "source": [
    "ytest"
   ]
  },
  {
   "cell_type": "code",
   "execution_count": 57,
   "id": "04bc94b8",
   "metadata": {},
   "outputs": [
    {
     "name": "stdout",
     "output_type": "stream",
     "text": [
      "WARNING:tensorflow:5 out of the last 5 calls to <function Model.make_test_function.<locals>.test_function at 0x0000028F5B50F700> triggered tf.function retracing. Tracing is expensive and the excessive number of tracings could be due to (1) creating @tf.function repeatedly in a loop, (2) passing tensors with different shapes, (3) passing Python objects instead of tensors. For (1), please define your @tf.function outside of the loop. For (2), @tf.function has experimental_relax_shapes=True option that relaxes argument shapes that can avoid unnecessary retracing. For (3), please refer to https://www.tensorflow.org/guide/function#controlling_retracing and https://www.tensorflow.org/api_docs/python/tf/function for  more details.\n",
      "1/1 [==============================] - 1s 1s/step - loss: 0.4467 - accuracy: 0.4500\n",
      "test loss, test acc: [0.4466701149940491, 0.44999998807907104]\n"
     ]
    }
   ],
   "source": [
    "results = model.evaluate(xtest, ytest)\n",
    "print(\"test loss, test acc:\", results)"
   ]
  },
  {
   "cell_type": "code",
   "execution_count": 58,
   "id": "be63103d",
   "metadata": {},
   "outputs": [
    {
     "name": "stdout",
     "output_type": "stream",
     "text": [
      "WARNING:tensorflow:6 out of the last 6 calls to <function Model.make_test_function.<locals>.test_function at 0x0000028F4BD50B80> triggered tf.function retracing. Tracing is expensive and the excessive number of tracings could be due to (1) creating @tf.function repeatedly in a loop, (2) passing tensors with different shapes, (3) passing Python objects instead of tensors. For (1), please define your @tf.function outside of the loop. For (2), @tf.function has experimental_relax_shapes=True option that relaxes argument shapes that can avoid unnecessary retracing. For (3), please refer to https://www.tensorflow.org/guide/function#controlling_retracing and https://www.tensorflow.org/api_docs/python/tf/function for  more details.\n",
      "1/1 [==============================] - 1s 674ms/step - loss: 0.5330 - accuracy: 0.4000\n",
      "test loss, test acc: [0.5330023169517517, 0.4000000059604645]\n"
     ]
    }
   ],
   "source": [
    "results = mod1.evaluate(xtest, ytest)\n",
    "print(\"test loss, test acc:\", results)"
   ]
  },
  {
   "cell_type": "code",
   "execution_count": 59,
   "id": "a8af5af7",
   "metadata": {},
   "outputs": [
    {
     "name": "stdout",
     "output_type": "stream",
     "text": [
      "(20, 12, 4)\n"
     ]
    }
   ],
   "source": [
    "print(p.shape)"
   ]
  },
  {
   "cell_type": "code",
   "execution_count": null,
   "id": "2d486c45",
   "metadata": {},
   "outputs": [],
   "source": []
  }
 ],
 "metadata": {
  "kernelspec": {
   "display_name": "Python 3",
   "language": "python",
   "name": "python3"
  },
  "language_info": {
   "codemirror_mode": {
    "name": "ipython",
    "version": 3
   },
   "file_extension": ".py",
   "mimetype": "text/x-python",
   "name": "python",
   "nbconvert_exporter": "python",
   "pygments_lexer": "ipython3",
   "version": "3.8.8"
  }
 },
 "nbformat": 4,
 "nbformat_minor": 5
}
