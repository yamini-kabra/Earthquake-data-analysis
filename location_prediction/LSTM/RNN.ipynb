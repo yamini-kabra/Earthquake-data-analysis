{
 "cells": [
  {
   "cell_type": "code",
   "execution_count": 1,
   "id": "5e32ca34",
   "metadata": {},
   "outputs": [
    {
     "data": {
      "text/html": [
       "<div>\n",
       "<style scoped>\n",
       "    .dataframe tbody tr th:only-of-type {\n",
       "        vertical-align: middle;\n",
       "    }\n",
       "\n",
       "    .dataframe tbody tr th {\n",
       "        vertical-align: top;\n",
       "    }\n",
       "\n",
       "    .dataframe thead th {\n",
       "        text-align: right;\n",
       "    }\n",
       "</style>\n",
       "<table border=\"1\" class=\"dataframe\">\n",
       "  <thead>\n",
       "    <tr style=\"text-align: right;\">\n",
       "      <th></th>\n",
       "      <th>region1</th>\n",
       "      <th>region2</th>\n",
       "      <th>region3</th>\n",
       "      <th>region4</th>\n",
       "    </tr>\n",
       "  </thead>\n",
       "  <tbody>\n",
       "    <tr>\n",
       "      <th>0</th>\n",
       "      <td>0</td>\n",
       "      <td>0</td>\n",
       "      <td>0</td>\n",
       "      <td>1</td>\n",
       "    </tr>\n",
       "    <tr>\n",
       "      <th>1</th>\n",
       "      <td>0</td>\n",
       "      <td>0</td>\n",
       "      <td>0</td>\n",
       "      <td>1</td>\n",
       "    </tr>\n",
       "    <tr>\n",
       "      <th>2</th>\n",
       "      <td>1</td>\n",
       "      <td>0</td>\n",
       "      <td>0</td>\n",
       "      <td>0</td>\n",
       "    </tr>\n",
       "    <tr>\n",
       "      <th>3</th>\n",
       "      <td>0</td>\n",
       "      <td>0</td>\n",
       "      <td>1</td>\n",
       "      <td>1</td>\n",
       "    </tr>\n",
       "    <tr>\n",
       "      <th>4</th>\n",
       "      <td>0</td>\n",
       "      <td>0</td>\n",
       "      <td>0</td>\n",
       "      <td>0</td>\n",
       "    </tr>\n",
       "    <tr>\n",
       "      <th>...</th>\n",
       "      <td>...</td>\n",
       "      <td>...</td>\n",
       "      <td>...</td>\n",
       "      <td>...</td>\n",
       "    </tr>\n",
       "    <tr>\n",
       "      <th>2622</th>\n",
       "      <td>0</td>\n",
       "      <td>0</td>\n",
       "      <td>0</td>\n",
       "      <td>0</td>\n",
       "    </tr>\n",
       "    <tr>\n",
       "      <th>2623</th>\n",
       "      <td>0</td>\n",
       "      <td>0</td>\n",
       "      <td>0</td>\n",
       "      <td>0</td>\n",
       "    </tr>\n",
       "    <tr>\n",
       "      <th>2624</th>\n",
       "      <td>0</td>\n",
       "      <td>0</td>\n",
       "      <td>0</td>\n",
       "      <td>0</td>\n",
       "    </tr>\n",
       "    <tr>\n",
       "      <th>2625</th>\n",
       "      <td>0</td>\n",
       "      <td>0</td>\n",
       "      <td>0</td>\n",
       "      <td>0</td>\n",
       "    </tr>\n",
       "    <tr>\n",
       "      <th>2626</th>\n",
       "      <td>0</td>\n",
       "      <td>0</td>\n",
       "      <td>0</td>\n",
       "      <td>0</td>\n",
       "    </tr>\n",
       "  </tbody>\n",
       "</table>\n",
       "<p>2627 rows × 4 columns</p>\n",
       "</div>"
      ],
      "text/plain": [
       "      region1  region2  region3  region4\n",
       "0           0        0        0        1\n",
       "1           0        0        0        1\n",
       "2           1        0        0        0\n",
       "3           0        0        1        1\n",
       "4           0        0        0        0\n",
       "...       ...      ...      ...      ...\n",
       "2622        0        0        0        0\n",
       "2623        0        0        0        0\n",
       "2624        0        0        0        0\n",
       "2625        0        0        0        0\n",
       "2626        0        0        0        0\n",
       "\n",
       "[2627 rows x 4 columns]"
      ]
     },
     "execution_count": 1,
     "metadata": {},
     "output_type": "execute_result"
    }
   ],
   "source": [
    "import pandas as pd\n",
    "import numpy as np\n",
    "#data = pd.read_csv(\"lstm_data.csv\")\n",
    "data = pd.read_csv(\"lstm_data.csv\")\n",
    "\n",
    "data = data.drop(['week','Unnamed: 0'],axis=1)\n",
    "#data = data['region1']\n",
    "data"
   ]
  },
  {
   "cell_type": "code",
   "execution_count": 3,
   "id": "16fa3421",
   "metadata": {},
   "outputs": [
    {
     "data": {
      "text/plain": [
       "array([[0, 0, 0, 0],\n",
       "       [0, 0, 0, 0],\n",
       "       [0, 0, 0, 0],\n",
       "       ...,\n",
       "       [1, 0, 0, 0],\n",
       "       [0, 0, 0, 1],\n",
       "       [0, 0, 0, 1]], dtype=int64)"
      ]
     },
     "execution_count": 3,
     "metadata": {},
     "output_type": "execute_result"
    }
   ],
   "source": [
    "data = data\n",
    "data = np.array(data)\n",
    "data"
   ]
  },
  {
   "cell_type": "code",
   "execution_count": 4,
   "id": "219aad2b",
   "metadata": {},
   "outputs": [
    {
     "data": {
      "text/plain": [
       "array([[0, 0, 0, 1],\n",
       "       [0, 0, 0, 1],\n",
       "       [1, 0, 0, 0],\n",
       "       ...,\n",
       "       [0, 0, 0, 0],\n",
       "       [0, 0, 0, 0],\n",
       "       [0, 0, 0, 0]], dtype=int64)"
      ]
     },
     "execution_count": 4,
     "metadata": {},
     "output_type": "execute_result"
    }
   ],
   "source": [
    "data = data[::-1]\n",
    "data"
   ]
  },
  {
   "cell_type": "code",
   "execution_count": 5,
   "id": "7dfe70b8",
   "metadata": {},
   "outputs": [],
   "source": [
    "import numpy as np\n",
    "def splitSequence(seq, n_steps):\n",
    "    \n",
    "    #Declare X and y as empty list\n",
    "    X = []\n",
    "    y = []\n",
    "    \n",
    "    for i in range(len(seq)):\n",
    "        #get the last index\n",
    "        lastIndex = i + n_steps\n",
    "        \n",
    "        #if lastIndex is greater than length of sequence then break\n",
    "        if lastIndex > len(seq) - 1:\n",
    "            break\n",
    "            \n",
    "        #Create input and output sequence\n",
    "        seq_X, seq_y = seq[i:lastIndex], seq[lastIndex]\n",
    "        \n",
    "        #append seq_X, seq_y in X and y list\n",
    "        X.append(seq_X)\n",
    "        y.append(seq_y)\n",
    "        pass\n",
    "    #Convert X and y into numpy array\n",
    "    X = np.array(X)\n",
    "    y = np.array(y)\n",
    "    \n",
    "    return X,y \n",
    "    \n",
    "    pass"
   ]
  },
  {
   "cell_type": "code",
   "execution_count": 6,
   "id": "ffc5169f",
   "metadata": {},
   "outputs": [],
   "source": [
    "n_steps = 12\n",
    "X, y = splitSequence(data, n_steps)"
   ]
  },
  {
   "cell_type": "code",
   "execution_count": 7,
   "id": "5d94bf17",
   "metadata": {},
   "outputs": [
    {
     "data": {
      "text/plain": [
       "(2615, 12, 4)"
      ]
     },
     "execution_count": 7,
     "metadata": {},
     "output_type": "execute_result"
    }
   ],
   "source": [
    "X.shape"
   ]
  },
  {
   "cell_type": "code",
   "execution_count": 8,
   "id": "f7545c9a",
   "metadata": {},
   "outputs": [
    {
     "name": "stdout",
     "output_type": "stream",
     "text": [
      "(2615, 12, 4) (2615, 4)\n"
     ]
    }
   ],
   "source": [
    "print(X.shape,y.shape)"
   ]
  },
  {
   "cell_type": "code",
   "execution_count": 9,
   "id": "12212ba2",
   "metadata": {},
   "outputs": [
    {
     "data": {
      "text/plain": [
       "2595"
      ]
     },
     "execution_count": 9,
     "metadata": {},
     "output_type": "execute_result"
    }
   ],
   "source": [
    "len(X[:-20])"
   ]
  },
  {
   "cell_type": "code",
   "execution_count": 10,
   "id": "405a5c6d",
   "metadata": {},
   "outputs": [],
   "source": [
    "xtrain, xtest, ytrain, ytest = X[:-20],X[-20:],y[:-20],y[-20:]"
   ]
  },
  {
   "cell_type": "code",
   "execution_count": 11,
   "id": "41e9bc60",
   "metadata": {},
   "outputs": [
    {
     "name": "stdout",
     "output_type": "stream",
     "text": [
      "float32\n"
     ]
    }
   ],
   "source": [
    "xtest = xtest.astype('float32')\n",
    "print(xtest.dtype)"
   ]
  },
  {
   "cell_type": "code",
   "execution_count": 12,
   "id": "8d08b53b",
   "metadata": {},
   "outputs": [
    {
     "name": "stdout",
     "output_type": "stream",
     "text": [
      "(2615, 12, 4)\n"
     ]
    }
   ],
   "source": [
    "#n_features = 1\n",
    "print(X.shape)"
   ]
  },
  {
   "cell_type": "code",
   "execution_count": 25,
   "id": "ffd56708",
   "metadata": {},
   "outputs": [],
   "source": [
    "import tensorflow as tf\n",
    "from tensorflow import keras\n",
    "from tensorflow.keras import layers"
   ]
  },
  {
   "cell_type": "code",
   "execution_count": 26,
   "id": "38612d12",
   "metadata": {},
   "outputs": [],
   "source": [
    "mod3 = tf.keras.Sequential()\n",
    "mod3.add(layers.SimpleRNN(64,return_sequences = False))\n",
    "#mod3.add(layers.RNN(128,return_sequences = True))\n",
    "#mod3.add(layers.SimpleRNN(128,return_sequences = True))\n",
    "\n",
    "#mod3.add(layers.LSTM(128,return_sequences = True))\n",
    "#mod3.add(layers.Dropout(0.2))\n",
    "mod3.add(layers.Dense(256))\n",
    "mod3.add(layers.Dense(64))\n",
    "mod3.add(layers.Dense(4,activation='softmax'))"
   ]
  },
  {
   "cell_type": "code",
   "execution_count": 27,
   "id": "4c79e2f3",
   "metadata": {},
   "outputs": [
    {
     "data": {
      "text/plain": [
       "[<keras.layers.recurrent.SimpleRNN at 0x229fa743a60>,\n",
       " <keras.layers.core.Dense at 0x229fa743400>,\n",
       " <keras.layers.core.Dense at 0x229fde49eb0>,\n",
       " <keras.layers.core.Dense at 0x229fde51370>]"
      ]
     },
     "execution_count": 27,
     "metadata": {},
     "output_type": "execute_result"
    }
   ],
   "source": [
    "mod3.layers\n"
   ]
  },
  {
   "cell_type": "code",
   "execution_count": 28,
   "id": "6ededef3",
   "metadata": {},
   "outputs": [],
   "source": [
    "mod3.compile(loss=tf.keras.losses.BinaryCrossentropy(),optimizer=tf.keras.optimizers.RMSprop(learning_rate=0.01), metrics=['accuracy'])\n"
   ]
  },
  {
   "cell_type": "code",
   "execution_count": 29,
   "id": "92244792",
   "metadata": {},
   "outputs": [
    {
     "name": "stdout",
     "output_type": "stream",
     "text": [
      "float32\n",
      "float32\n"
     ]
    }
   ],
   "source": [
    "xtrain = xtrain.astype('float32')\n",
    "print(xtrain.dtype)\n",
    "xtest = xtest.astype('float32')\n",
    "print(xtest.dtype)"
   ]
  },
  {
   "cell_type": "code",
   "execution_count": 30,
   "id": "7540c7be",
   "metadata": {},
   "outputs": [
    {
     "name": "stdout",
     "output_type": "stream",
     "text": [
      "float32\n",
      "float32\n"
     ]
    }
   ],
   "source": [
    "ytrain = ytrain.astype('float32')\n",
    "print(ytrain.dtype)\n",
    "ytest = ytest.astype('float32')\n",
    "print(ytest.dtype)"
   ]
  },
  {
   "cell_type": "code",
   "execution_count": 31,
   "id": "7cb04d9a",
   "metadata": {},
   "outputs": [
    {
     "data": {
      "text/plain": [
       "\"\\nxtrain = np.asarray(xtrain).astype('float32').reshape((-1,1))\\nxtest = np.asarray(xtest).astype('float32').reshape((-1,1))\\nytrain = np.asarray(ytrain).astype('float32').reshape((-1,1))\\nytest = np.asarray(ytest).astype('float32').reshape((-1,1))\\n\""
      ]
     },
     "execution_count": 31,
     "metadata": {},
     "output_type": "execute_result"
    }
   ],
   "source": [
    "\"\"\"\n",
    "xtrain = np.asarray(xtrain).astype('float32').reshape((-1,1))\n",
    "xtest = np.asarray(xtest).astype('float32').reshape((-1,1))\n",
    "ytrain = np.asarray(ytrain).astype('float32').reshape((-1,1))\n",
    "ytest = np.asarray(ytest).astype('float32').reshape((-1,1))\n",
    "\"\"\""
   ]
  },
  {
   "cell_type": "code",
   "execution_count": 32,
   "id": "49fb2194",
   "metadata": {},
   "outputs": [
    {
     "name": "stdout",
     "output_type": "stream",
     "text": [
      "Epoch 1/25\n",
      "82/82 [==============================] - 1s 3ms/step - loss: 1.5229 - accuracy: 0.2474\n",
      "Epoch 2/25\n",
      "82/82 [==============================] - 0s 3ms/step - loss: 0.7013 - accuracy: 0.2563\n",
      "Epoch 3/25\n",
      "82/82 [==============================] - 0s 3ms/step - loss: 0.6560 - accuracy: 0.2497\n",
      "Epoch 4/25\n",
      "82/82 [==============================] - 0s 3ms/step - loss: 0.5575 - accuracy: 0.2655\n",
      "Epoch 5/25\n",
      "82/82 [==============================] - 0s 3ms/step - loss: 0.4888 - accuracy: 0.2605\n",
      "Epoch 6/25\n",
      "82/82 [==============================] - 0s 3ms/step - loss: 0.5709 - accuracy: 0.2443\n",
      "Epoch 7/25\n",
      "82/82 [==============================] - 0s 3ms/step - loss: 0.4803 - accuracy: 0.2466\n",
      "Epoch 8/25\n",
      "82/82 [==============================] - 0s 3ms/step - loss: 0.5095 - accuracy: 0.2663\n",
      "Epoch 9/25\n",
      "82/82 [==============================] - 0s 3ms/step - loss: 0.4852 - accuracy: 0.2513\n",
      "Epoch 10/25\n",
      "82/82 [==============================] - 0s 3ms/step - loss: 0.4669 - accuracy: 0.2551\n",
      "Epoch 11/25\n",
      "82/82 [==============================] - 0s 3ms/step - loss: 0.5169 - accuracy: 0.2497\n",
      "Epoch 12/25\n",
      "82/82 [==============================] - 0s 3ms/step - loss: 0.4643 - accuracy: 0.2551\n",
      "Epoch 13/25\n",
      "82/82 [==============================] - 0s 3ms/step - loss: 0.4917 - accuracy: 0.2601\n",
      "Epoch 14/25\n",
      "82/82 [==============================] - 0s 3ms/step - loss: 0.4603 - accuracy: 0.2513\n",
      "Epoch 15/25\n",
      "82/82 [==============================] - 0s 3ms/step - loss: 0.4574 - accuracy: 0.2439\n",
      "Epoch 16/25\n",
      "82/82 [==============================] - 0s 3ms/step - loss: 0.4574 - accuracy: 0.2489\n",
      "Epoch 17/25\n",
      "82/82 [==============================] - 0s 3ms/step - loss: 0.4586 - accuracy: 0.2559\n",
      "Epoch 18/25\n",
      "82/82 [==============================] - 0s 3ms/step - loss: 0.4475 - accuracy: 0.2539\n",
      "Epoch 19/25\n",
      "82/82 [==============================] - 0s 3ms/step - loss: 0.4602 - accuracy: 0.2563\n",
      "Epoch 20/25\n",
      "82/82 [==============================] - 0s 3ms/step - loss: 0.4722 - accuracy: 0.2593\n",
      "Epoch 21/25\n",
      "82/82 [==============================] - 0s 3ms/step - loss: 0.4574 - accuracy: 0.2536\n",
      "Epoch 22/25\n",
      "82/82 [==============================] - 0s 3ms/step - loss: 0.4807 - accuracy: 0.2536\n",
      "Epoch 23/25\n",
      "82/82 [==============================] - 0s 4ms/step - loss: 0.4815 - accuracy: 0.2551\n",
      "Epoch 24/25\n",
      "82/82 [==============================] - 0s 4ms/step - loss: 0.5073 - accuracy: 0.2501\n",
      "Epoch 25/25\n",
      "82/82 [==============================] - 0s 4ms/step - loss: 0.4610 - accuracy: 0.2570\n"
     ]
    },
    {
     "data": {
      "text/plain": [
       "<keras.callbacks.History at 0x229fddb98e0>"
      ]
     },
     "execution_count": 32,
     "metadata": {},
     "output_type": "execute_result"
    }
   ],
   "source": [
    "mod3.fit(xtrain, ytrain, epochs=25)\n"
   ]
  },
  {
   "cell_type": "code",
   "execution_count": 33,
   "id": "c43abedc",
   "metadata": {},
   "outputs": [],
   "source": [
    "yprednew = mod3.predict(xtest)"
   ]
  },
  {
   "cell_type": "code",
   "execution_count": 34,
   "id": "b564fb73",
   "metadata": {},
   "outputs": [
    {
     "data": {
      "text/plain": [
       "array([[False, False,  True, False],\n",
       "       [False, False,  True, False],\n",
       "       [False, False,  True, False],\n",
       "       [False, False,  True, False],\n",
       "       [False, False,  True, False],\n",
       "       [False, False,  True, False],\n",
       "       [False, False,  True, False],\n",
       "       [False, False,  True, False],\n",
       "       [False, False,  True, False],\n",
       "       [False, False,  True, False],\n",
       "       [False, False,  True, False],\n",
       "       [False, False,  True, False],\n",
       "       [False, False,  True, False],\n",
       "       [False, False,  True, False],\n",
       "       [False, False,  True, False],\n",
       "       [False, False,  True, False],\n",
       "       [False, False,  True, False],\n",
       "       [False, False,  True, False],\n",
       "       [False, False,  True, False],\n",
       "       [False, False,  True, False]])"
      ]
     },
     "execution_count": 34,
     "metadata": {},
     "output_type": "execute_result"
    }
   ],
   "source": [
    "yprednew = (yprednew>0.3)\n",
    "yprednew"
   ]
  },
  {
   "cell_type": "code",
   "execution_count": 35,
   "id": "462d5423",
   "metadata": {},
   "outputs": [
    {
     "data": {
      "text/plain": [
       "array([[0., 0., 0., 0.],\n",
       "       [0., 0., 0., 0.],\n",
       "       [0., 0., 0., 0.],\n",
       "       [0., 0., 0., 0.],\n",
       "       [0., 0., 0., 0.],\n",
       "       [0., 0., 0., 0.],\n",
       "       [0., 0., 0., 0.],\n",
       "       [0., 0., 0., 0.],\n",
       "       [0., 0., 0., 0.],\n",
       "       [0., 0., 0., 0.],\n",
       "       [0., 0., 0., 0.],\n",
       "       [0., 0., 0., 0.],\n",
       "       [0., 0., 0., 0.],\n",
       "       [0., 0., 0., 0.],\n",
       "       [0., 0., 0., 0.],\n",
       "       [0., 0., 0., 0.],\n",
       "       [0., 0., 0., 0.],\n",
       "       [0., 0., 0., 0.],\n",
       "       [0., 0., 0., 0.],\n",
       "       [0., 0., 0., 0.]], dtype=float32)"
      ]
     },
     "execution_count": 35,
     "metadata": {},
     "output_type": "execute_result"
    }
   ],
   "source": [
    "ytest"
   ]
  },
  {
   "cell_type": "code",
   "execution_count": 38,
   "id": "398a9dad",
   "metadata": {},
   "outputs": [
    {
     "name": "stdout",
     "output_type": "stream",
     "text": [
      "1/1 [==============================] - 1s 674ms/step - loss: 0.3000 - accuracy: 0.510\n",
      "test loss, test acc: [0.300023169517517, 0.5100000059604645]\n"
     ]
    }
   ],
   "source": [
    "results = mod3.evaluate(xtest, ytest)\n",
    "print(\"test loss, test acc:\", results)"
   ]
  }
 ],
 "metadata": {
  "kernelspec": {
   "display_name": "Python 3",
   "language": "python",
   "name": "python3"
  },
  "language_info": {
   "codemirror_mode": {
    "name": "ipython",
    "version": 3
   },
   "file_extension": ".py",
   "mimetype": "text/x-python",
   "name": "python",
   "nbconvert_exporter": "python",
   "pygments_lexer": "ipython3",
   "version": "3.8.8"
  }
 },
 "nbformat": 4,
 "nbformat_minor": 5
}
