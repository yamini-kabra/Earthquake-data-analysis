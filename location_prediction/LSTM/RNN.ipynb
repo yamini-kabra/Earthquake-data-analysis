{
 "cells": [
  {
   "cell_type": "code",
   "execution_count": 46,
   "id": "54556493",
   "metadata": {},
   "outputs": [
    {
     "data": {
      "text/html": [
       "<div>\n",
       "<style scoped>\n",
       "    .dataframe tbody tr th:only-of-type {\n",
       "        vertical-align: middle;\n",
       "    }\n",
       "\n",
       "    .dataframe tbody tr th {\n",
       "        vertical-align: top;\n",
       "    }\n",
       "\n",
       "    .dataframe thead th {\n",
       "        text-align: right;\n",
       "    }\n",
       "</style>\n",
       "<table border=\"1\" class=\"dataframe\">\n",
       "  <thead>\n",
       "    <tr style=\"text-align: right;\">\n",
       "      <th></th>\n",
       "      <th>region1</th>\n",
       "      <th>region2</th>\n",
       "      <th>region3</th>\n",
       "      <th>region4</th>\n",
       "    </tr>\n",
       "  </thead>\n",
       "  <tbody>\n",
       "    <tr>\n",
       "      <th>0</th>\n",
       "      <td>0</td>\n",
       "      <td>0</td>\n",
       "      <td>0</td>\n",
       "      <td>1</td>\n",
       "    </tr>\n",
       "    <tr>\n",
       "      <th>1</th>\n",
       "      <td>0</td>\n",
       "      <td>0</td>\n",
       "      <td>0</td>\n",
       "      <td>1</td>\n",
       "    </tr>\n",
       "    <tr>\n",
       "      <th>2</th>\n",
       "      <td>1</td>\n",
       "      <td>0</td>\n",
       "      <td>0</td>\n",
       "      <td>0</td>\n",
       "    </tr>\n",
       "    <tr>\n",
       "      <th>3</th>\n",
       "      <td>0</td>\n",
       "      <td>0</td>\n",
       "      <td>1</td>\n",
       "      <td>1</td>\n",
       "    </tr>\n",
       "    <tr>\n",
       "      <th>4</th>\n",
       "      <td>0</td>\n",
       "      <td>0</td>\n",
       "      <td>0</td>\n",
       "      <td>0</td>\n",
       "    </tr>\n",
       "    <tr>\n",
       "      <th>...</th>\n",
       "      <td>...</td>\n",
       "      <td>...</td>\n",
       "      <td>...</td>\n",
       "      <td>...</td>\n",
       "    </tr>\n",
       "    <tr>\n",
       "      <th>2622</th>\n",
       "      <td>0</td>\n",
       "      <td>0</td>\n",
       "      <td>0</td>\n",
       "      <td>0</td>\n",
       "    </tr>\n",
       "    <tr>\n",
       "      <th>2623</th>\n",
       "      <td>0</td>\n",
       "      <td>0</td>\n",
       "      <td>0</td>\n",
       "      <td>0</td>\n",
       "    </tr>\n",
       "    <tr>\n",
       "      <th>2624</th>\n",
       "      <td>0</td>\n",
       "      <td>0</td>\n",
       "      <td>0</td>\n",
       "      <td>0</td>\n",
       "    </tr>\n",
       "    <tr>\n",
       "      <th>2625</th>\n",
       "      <td>0</td>\n",
       "      <td>0</td>\n",
       "      <td>0</td>\n",
       "      <td>0</td>\n",
       "    </tr>\n",
       "    <tr>\n",
       "      <th>2626</th>\n",
       "      <td>0</td>\n",
       "      <td>0</td>\n",
       "      <td>0</td>\n",
       "      <td>0</td>\n",
       "    </tr>\n",
       "  </tbody>\n",
       "</table>\n",
       "<p>2627 rows × 4 columns</p>\n",
       "</div>"
      ],
      "text/plain": [
       "      region1  region2  region3  region4\n",
       "0           0        0        0        1\n",
       "1           0        0        0        1\n",
       "2           1        0        0        0\n",
       "3           0        0        1        1\n",
       "4           0        0        0        0\n",
       "...       ...      ...      ...      ...\n",
       "2622        0        0        0        0\n",
       "2623        0        0        0        0\n",
       "2624        0        0        0        0\n",
       "2625        0        0        0        0\n",
       "2626        0        0        0        0\n",
       "\n",
       "[2627 rows x 4 columns]"
      ]
     },
     "execution_count": 46,
     "metadata": {},
     "output_type": "execute_result"
    }
   ],
   "source": [
    "import pandas as pd\n",
    "import numpy as np\n",
    "#data = pd.read_csv(\"lstm_data.csv\")\n",
    "data = pd.read_csv(\"lstm_data.csv\")\n",
    "\n",
    "data = data.drop(['week','Unnamed: 0'],axis=1)\n",
    "#data = data['region1']\n",
    "data"
   ]
  },
  {
   "cell_type": "code",
   "execution_count": 47,
   "id": "365d2428",
   "metadata": {},
   "outputs": [
    {
     "data": {
      "text/plain": [
       "array([[0, 0, 0, 1],\n",
       "       [0, 0, 0, 1],\n",
       "       [1, 0, 0, 0],\n",
       "       ...,\n",
       "       [0, 0, 0, 0],\n",
       "       [0, 0, 0, 0],\n",
       "       [0, 0, 0, 0]], dtype=int64)"
      ]
     },
     "execution_count": 47,
     "metadata": {},
     "output_type": "execute_result"
    }
   ],
   "source": [
    "data = data\n",
    "data = np.array(data)\n",
    "data"
   ]
  },
  {
   "cell_type": "code",
   "execution_count": 48,
   "id": "bbead7b2",
   "metadata": {},
   "outputs": [
    {
     "data": {
      "text/plain": [
       "array([[0, 0, 0, 0],\n",
       "       [0, 0, 0, 0],\n",
       "       [0, 0, 0, 0],\n",
       "       ...,\n",
       "       [1, 0, 0, 0],\n",
       "       [0, 0, 0, 1],\n",
       "       [0, 0, 0, 1]], dtype=int64)"
      ]
     },
     "execution_count": 48,
     "metadata": {},
     "output_type": "execute_result"
    }
   ],
   "source": [
    "data = data[::-1]\n",
    "data"
   ]
  },
  {
   "cell_type": "code",
   "execution_count": 49,
   "id": "acbb8587",
   "metadata": {},
   "outputs": [],
   "source": [
    "import numpy as np\n",
    "def splitSequence(seq, n_steps):\n",
    "    \n",
    "    #Declare X and y as empty list\n",
    "    X = []\n",
    "    y = []\n",
    "    \n",
    "    for i in range(len(seq)):\n",
    "        #get the last index\n",
    "        lastIndex = i + n_steps\n",
    "        \n",
    "        #if lastIndex is greater than length of sequence then break\n",
    "        if lastIndex > len(seq) - 1:\n",
    "            break\n",
    "            \n",
    "        #Create input and output sequence\n",
    "        seq_X, seq_y = seq[i:lastIndex], seq[lastIndex]\n",
    "        \n",
    "        #append seq_X, seq_y in X and y list\n",
    "        X.append(seq_X)\n",
    "        y.append(seq_y)\n",
    "        pass\n",
    "    #Convert X and y into numpy array\n",
    "    X = np.array(X)\n",
    "    y = np.array(y)\n",
    "    \n",
    "    return X,y \n",
    "    \n",
    "    pass"
   ]
  },
  {
   "cell_type": "code",
   "execution_count": 50,
   "id": "0bf7d2a3",
   "metadata": {},
   "outputs": [],
   "source": [
    "n_steps = 12\n",
    "X, y = splitSequence(data, n_steps)"
   ]
  },
  {
   "cell_type": "code",
   "execution_count": 51,
   "id": "a330b641",
   "metadata": {},
   "outputs": [
    {
     "data": {
      "text/plain": [
       "(2615, 12, 4)"
      ]
     },
     "execution_count": 51,
     "metadata": {},
     "output_type": "execute_result"
    }
   ],
   "source": [
    "X.shape"
   ]
  },
  {
   "cell_type": "code",
   "execution_count": 53,
   "id": "23f2996e",
   "metadata": {},
   "outputs": [
    {
     "name": "stdout",
     "output_type": "stream",
     "text": [
      "(2615, 12, 4) (2615, 4)\n"
     ]
    }
   ],
   "source": [
    "print(X.shape,y.shape)"
   ]
  },
  {
   "cell_type": "code",
   "execution_count": 54,
   "id": "96d6c1a2",
   "metadata": {},
   "outputs": [
    {
     "data": {
      "text/plain": [
       "2595"
      ]
     },
     "execution_count": 54,
     "metadata": {},
     "output_type": "execute_result"
    }
   ],
   "source": [
    "len(X[:-20])"
   ]
  },
  {
   "cell_type": "code",
   "execution_count": 55,
   "id": "85030acf",
   "metadata": {},
   "outputs": [],
   "source": [
    "xtrain, xtest, ytrain, ytest = X[:-20],X[-20:],y[:-20],y[-20:]"
   ]
  },
  {
   "cell_type": "code",
   "execution_count": 56,
   "id": "fcf027e1",
   "metadata": {},
   "outputs": [
    {
     "name": "stdout",
     "output_type": "stream",
     "text": [
      "float32\n"
     ]
    }
   ],
   "source": [
    "xtest = xtest.astype('float32')\n",
    "print(xtest.dtype)"
   ]
  },
  {
   "cell_type": "code",
   "execution_count": 57,
   "id": "8f0c7137",
   "metadata": {},
   "outputs": [
    {
     "name": "stdout",
     "output_type": "stream",
     "text": [
      "(2615, 12, 4)\n"
     ]
    }
   ],
   "source": [
    "#n_features = 1\n",
    "print(X.shape)"
   ]
  },
  {
   "cell_type": "code",
   "execution_count": 58,
   "id": "83f58542",
   "metadata": {},
   "outputs": [],
   "source": [
    "import tensorflow as tf\n",
    "from tensorflow import keras\n",
    "from tensorflow.keras import layers"
   ]
  },
  {
   "cell_type": "code",
   "execution_count": 109,
   "id": "fa48f97a",
   "metadata": {},
   "outputs": [],
   "source": [
    "mod1 = tf.keras.Sequential()\n",
    "mod1.add(layers.SimpleRNN(64,return_sequences = False))\n",
    "#mod1.add(layers.RNN(128,return_sequences = True))\n",
    "#mod1.add(layers.SimpleRNN(128,return_sequences = True))\n",
    "\n",
    "#mod1.add(layers.LSTM(128,return_sequences = True))\n",
    "#mod1.add(layers.Dropout(0.2))\n",
    "mod1.add(layers.Dense(256))\n",
    "mod1.add(layers.Dense(64))\n",
    "mod1.add(layers.Dense(4,activation='softmax'))"
   ]
  },
  {
   "cell_type": "code",
   "execution_count": 110,
   "id": "a6f3454c",
   "metadata": {},
   "outputs": [
    {
     "data": {
      "text/plain": [
       "[<keras.layers.recurrent.SimpleRNN at 0x14def18f430>,\n",
       " <keras.layers.core.Dense at 0x14df1b19280>,\n",
       " <keras.layers.core.Dense at 0x14df1acefa0>,\n",
       " <keras.layers.core.Dense at 0x14df1ac70a0>]"
      ]
     },
     "execution_count": 110,
     "metadata": {},
     "output_type": "execute_result"
    }
   ],
   "source": [
    "mod1.layers\n"
   ]
  },
  {
   "cell_type": "code",
   "execution_count": 111,
   "id": "8a30b1d1",
   "metadata": {},
   "outputs": [],
   "source": [
    "mod1.compile(loss=tf.keras.losses.BinaryCrossentropy(),optimizer=tf.keras.optimizers.RMSprop(learning_rate=0.01), metrics=['accuracy'])\n"
   ]
  },
  {
   "cell_type": "code",
   "execution_count": 93,
   "id": "130cbe0a",
   "metadata": {},
   "outputs": [
    {
     "name": "stdout",
     "output_type": "stream",
     "text": [
      "float32\n",
      "float32\n"
     ]
    }
   ],
   "source": [
    "xtrain = xtrain.astype('float32')\n",
    "print(xtrain.dtype)\n",
    "xtest = xtest.astype('float32')\n",
    "print(xtest.dtype)"
   ]
  },
  {
   "cell_type": "code",
   "execution_count": 94,
   "id": "43d4699d",
   "metadata": {},
   "outputs": [
    {
     "name": "stdout",
     "output_type": "stream",
     "text": [
      "float32\n",
      "float32\n"
     ]
    }
   ],
   "source": [
    "ytrain = ytrain.astype('float32')\n",
    "print(ytrain.dtype)\n",
    "ytest = ytest.astype('float32')\n",
    "print(ytest.dtype)"
   ]
  },
  {
   "cell_type": "code",
   "execution_count": 44,
   "id": "36875e6c",
   "metadata": {},
   "outputs": [],
   "source": [
    "\"\"\"\n",
    "xtrain = np.asarray(xtrain).astype('float32').reshape((-1,1))\n",
    "xtest = np.asarray(xtest).astype('float32').reshape((-1,1))\n",
    "ytrain = np.asarray(ytrain).astype('float32').reshape((-1,1))\n",
    "ytest = np.asarray(ytest).astype('float32').reshape((-1,1))\n",
    "\"\"\""
   ]
  },
  {
   "cell_type": "code",
   "execution_count": 112,
   "id": "1c123644",
   "metadata": {},
   "outputs": [
    {
     "name": "stdout",
     "output_type": "stream",
     "text": [
      "Epoch 1/50\n",
      "82/82 [==============================] - 2s 7ms/step - loss: 1.0726 - accuracy: 0.2416\n",
      "Epoch 2/50\n",
      "82/82 [==============================] - 1s 8ms/step - loss: 0.4822 - accuracy: 0.2459\n",
      "Epoch 3/50\n",
      "82/82 [==============================] - 1s 8ms/step - loss: 0.4889 - accuracy: 0.2470\n",
      "Epoch 4/50\n",
      "82/82 [==============================] - 1s 8ms/step - loss: 0.4877 - accuracy: 0.2543\n",
      "Epoch 5/50\n",
      "82/82 [==============================] - 1s 8ms/step - loss: 0.4733 - accuracy: 0.2455\n",
      "Epoch 6/50\n",
      "82/82 [==============================] - 1s 8ms/step - loss: 0.4631 - accuracy: 0.2520\n",
      "Epoch 7/50\n",
      "82/82 [==============================] - 1s 8ms/step - loss: 0.4518 - accuracy: 0.2586\n",
      "Epoch 8/50\n",
      "82/82 [==============================] - 1s 8ms/step - loss: 0.4527 - accuracy: 0.2570\n",
      "Epoch 9/50\n",
      "82/82 [==============================] - 1s 8ms/step - loss: 0.4458 - accuracy: 0.2505\n",
      "Epoch 10/50\n",
      "82/82 [==============================] - 1s 8ms/step - loss: 0.4569 - accuracy: 0.2570\n",
      "Epoch 11/50\n",
      "82/82 [==============================] - 1s 8ms/step - loss: 0.4435 - accuracy: 0.2520\n",
      "Epoch 12/50\n",
      "82/82 [==============================] - 1s 8ms/step - loss: 0.4494 - accuracy: 0.2570\n",
      "Epoch 13/50\n",
      "82/82 [==============================] - 1s 8ms/step - loss: 0.4430 - accuracy: 0.2566\n",
      "Epoch 14/50\n",
      "82/82 [==============================] - 1s 8ms/step - loss: 0.4479 - accuracy: 0.2532\n",
      "Epoch 15/50\n",
      "82/82 [==============================] - 1s 8ms/step - loss: 0.4432 - accuracy: 0.2524\n",
      "Epoch 16/50\n",
      "82/82 [==============================] - 1s 8ms/step - loss: 0.4438 - accuracy: 0.2578\n",
      "Epoch 17/50\n",
      "82/82 [==============================] - 1s 8ms/step - loss: 0.4483 - accuracy: 0.2566\n",
      "Epoch 18/50\n",
      "82/82 [==============================] - 1s 8ms/step - loss: 0.4462 - accuracy: 0.2536\n",
      "Epoch 19/50\n",
      "82/82 [==============================] - 1s 8ms/step - loss: 0.4455 - accuracy: 0.2489\n",
      "Epoch 20/50\n",
      "82/82 [==============================] - 1s 7ms/step - loss: 0.4427 - accuracy: 0.2539\n",
      "Epoch 21/50\n",
      "82/82 [==============================] - 1s 8ms/step - loss: 0.4513 - accuracy: 0.2513\n",
      "Epoch 22/50\n",
      "82/82 [==============================] - 1s 8ms/step - loss: 0.4568 - accuracy: 0.2466\n",
      "Epoch 23/50\n",
      "82/82 [==============================] - 1s 8ms/step - loss: 0.4449 - accuracy: 0.2539\n",
      "Epoch 24/50\n",
      "82/82 [==============================] - 1s 8ms/step - loss: 0.4494 - accuracy: 0.2547\n",
      "Epoch 25/50\n",
      "82/82 [==============================] - 1s 7ms/step - loss: 0.4476 - accuracy: 0.2501\n",
      "Epoch 26/50\n",
      "82/82 [==============================] - 1s 7ms/step - loss: 0.4461 - accuracy: 0.2547\n",
      "Epoch 27/50\n",
      "82/82 [==============================] - 1s 8ms/step - loss: 0.4432 - accuracy: 0.2536\n",
      "Epoch 28/50\n",
      "82/82 [==============================] - 1s 8ms/step - loss: 0.4416 - accuracy: 0.2516\n",
      "Epoch 29/50\n",
      "82/82 [==============================] - 1s 8ms/step - loss: 0.4452 - accuracy: 0.2520\n",
      "Epoch 30/50\n",
      "82/82 [==============================] - 1s 8ms/step - loss: 0.4494 - accuracy: 0.2528\n",
      "Epoch 31/50\n",
      "82/82 [==============================] - 1s 8ms/step - loss: 0.4436 - accuracy: 0.2547\n",
      "Epoch 32/50\n",
      "82/82 [==============================] - 1s 8ms/step - loss: 0.4486 - accuracy: 0.2528\n",
      "Epoch 33/50\n",
      "82/82 [==============================] - 1s 8ms/step - loss: 0.4415 - accuracy: 0.2478\n",
      "Epoch 34/50\n",
      "82/82 [==============================] - 1s 8ms/step - loss: 0.4484 - accuracy: 0.2539\n",
      "Epoch 35/50\n",
      "82/82 [==============================] - 1s 8ms/step - loss: 0.4439 - accuracy: 0.2528\n",
      "Epoch 36/50\n",
      "82/82 [==============================] - 1s 8ms/step - loss: 0.4454 - accuracy: 0.2482\n",
      "Epoch 37/50\n",
      "82/82 [==============================] - 1s 8ms/step - loss: 0.4468 - accuracy: 0.2590\n",
      "Epoch 38/50\n",
      "82/82 [==============================] - 1s 8ms/step - loss: 0.4452 - accuracy: 0.2547\n",
      "Epoch 39/50\n",
      "82/82 [==============================] - 1s 8ms/step - loss: 0.4504 - accuracy: 0.2501\n",
      "Epoch 40/50\n",
      "82/82 [==============================] - 1s 8ms/step - loss: 0.4493 - accuracy: 0.2555\n",
      "Epoch 41/50\n",
      "82/82 [==============================] - 1s 8ms/step - loss: 0.4557 - accuracy: 0.2555\n",
      "Epoch 42/50\n",
      "82/82 [==============================] - 1s 7ms/step - loss: 0.4446 - accuracy: 0.2590\n",
      "Epoch 43/50\n",
      "82/82 [==============================] - 1s 8ms/step - loss: 0.4439 - accuracy: 0.2539\n",
      "Epoch 44/50\n",
      "82/82 [==============================] - 1s 8ms/step - loss: 0.4565 - accuracy: 0.2551\n",
      "Epoch 45/50\n",
      "82/82 [==============================] - 1s 8ms/step - loss: 0.4491 - accuracy: 0.2555\n",
      "Epoch 46/50\n",
      "82/82 [==============================] - 1s 8ms/step - loss: 0.4451 - accuracy: 0.2555\n",
      "Epoch 47/50\n",
      "82/82 [==============================] - 1s 8ms/step - loss: 0.4487 - accuracy: 0.2524\n",
      "Epoch 48/50\n",
      "82/82 [==============================] - 1s 7ms/step - loss: 0.4451 - accuracy: 0.2520\n",
      "Epoch 49/50\n",
      "82/82 [==============================] - 1s 8ms/step - loss: 0.4513 - accuracy: 0.2563\n",
      "Epoch 50/50\n",
      "82/82 [==============================] - 1s 8ms/step - loss: 0.4496 - accuracy: 0.2551\n"
     ]
    },
    {
     "data": {
      "text/plain": [
       "<keras.callbacks.History at 0x14def1887c0>"
      ]
     },
     "execution_count": 112,
     "metadata": {},
     "output_type": "execute_result"
    }
   ],
   "source": [
    "mod1.fit(xtrain, ytrain, epochs=50)\n"
   ]
  },
  {
   "cell_type": "code",
   "execution_count": 115,
   "id": "0ab2ece8",
   "metadata": {},
   "outputs": [],
   "source": [
    "yprednew = mod1.predict(xtest)"
   ]
  },
  {
   "cell_type": "code",
   "execution_count": 116,
   "id": "7b76dace",
   "metadata": {},
   "outputs": [
    {
     "data": {
      "text/plain": [
       "array([[False, False,  True,  True],\n",
       "       [False, False,  True,  True],\n",
       "       [False, False, False,  True],\n",
       "       [False, False,  True,  True],\n",
       "       [False, False,  True,  True],\n",
       "       [False, False,  True,  True],\n",
       "       [False, False,  True,  True],\n",
       "       [False, False,  True,  True],\n",
       "       [False, False, False,  True],\n",
       "       [False, False,  True,  True],\n",
       "       [False, False,  True,  True],\n",
       "       [False, False, False,  True],\n",
       "       [False, False,  True,  True],\n",
       "       [False, False,  True,  True],\n",
       "       [False, False,  True,  True],\n",
       "       [False, False, False,  True],\n",
       "       [False, False,  True,  True],\n",
       "       [False, False,  True,  True],\n",
       "       [False, False,  True,  True],\n",
       "       [False, False, False,  True]])"
      ]
     },
     "execution_count": 116,
     "metadata": {},
     "output_type": "execute_result"
    }
   ],
   "source": [
    "yprednew = (yprednew>0.3)\n",
    "yprednew"
   ]
  },
  {
   "cell_type": "code",
   "execution_count": 117,
   "id": "f6d052d2",
   "metadata": {},
   "outputs": [
    {
     "data": {
      "text/plain": [
       "array([[0., 0., 0., 1.],\n",
       "       [0., 0., 0., 1.],\n",
       "       [0., 0., 0., 0.],\n",
       "       [0., 0., 1., 0.],\n",
       "       [1., 1., 0., 1.],\n",
       "       [0., 0., 0., 0.],\n",
       "       [0., 0., 0., 1.],\n",
       "       [0., 0., 1., 0.],\n",
       "       [0., 0., 1., 0.],\n",
       "       [0., 0., 0., 1.],\n",
       "       [0., 0., 0., 1.],\n",
       "       [0., 0., 0., 0.],\n",
       "       [0., 0., 0., 0.],\n",
       "       [0., 0., 0., 1.],\n",
       "       [0., 0., 0., 1.],\n",
       "       [0., 0., 0., 0.],\n",
       "       [0., 0., 1., 1.],\n",
       "       [1., 0., 0., 0.],\n",
       "       [0., 0., 0., 1.],\n",
       "       [0., 0., 0., 1.]], dtype=float32)"
      ]
     },
     "execution_count": 117,
     "metadata": {},
     "output_type": "execute_result"
    }
   ],
   "source": [
    "ytest"
   ]
  },
  {
   "cell_type": "code",
   "execution_count": 118,
   "id": "c5492fdb",
   "metadata": {},
   "outputs": [
    {
     "name": "stdout",
     "output_type": "stream",
     "text": [
      "1/1 [==============================] - 1s 925ms/step - loss: 0.5712 - accuracy: 0.3500\n",
      "test loss, test acc: [0.5711668133735657, 0.3499999940395355]\n"
     ]
    }
   ],
   "source": [
    "results = mod1.evaluate(xtest, ytest)\n",
    "print(\"test loss, test acc:\", results)"
   ]
  }
 ],
 "metadata": {
  "kernelspec": {
   "display_name": "Python 3",
   "language": "python",
   "name": "python3"
  },
  "language_info": {
   "codemirror_mode": {
    "name": "ipython",
    "version": 3
   },
   "file_extension": ".py",
   "mimetype": "text/x-python",
   "name": "python",
   "nbconvert_exporter": "python",
   "pygments_lexer": "ipython3",
   "version": "3.8.8"
  }
 },
 "nbformat": 4,
 "nbformat_minor": 5
}
