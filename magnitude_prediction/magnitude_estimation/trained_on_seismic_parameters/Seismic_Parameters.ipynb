{
 "cells": [
  {
   "cell_type": "code",
   "execution_count": 1,
   "metadata": {},
   "outputs": [],
   "source": [
    "import pandas as pd\n",
    "import numpy as np\n",
    "import math\n",
    "import datetime"
   ]
  },
  {
   "cell_type": "code",
   "execution_count": null,
   "metadata": {},
   "outputs": [],
   "source": []
  },
  {
   "cell_type": "code",
   "execution_count": 2,
   "metadata": {},
   "outputs": [],
   "source": [
    "def time(df,n):\n",
    "    Time=[]\n",
    "    for i in range(len(df)-(n-1)):\n",
    "        Time.append((pd.to_datetime(df.time[i])-pd.to_datetime(df.time[i+(n-1)])).days)\n",
    "    return Time\n"
   ]
  },
  {
   "cell_type": "code",
   "execution_count": null,
   "metadata": {},
   "outputs": [],
   "source": []
  },
  {
   "cell_type": "code",
   "execution_count": 3,
   "metadata": {},
   "outputs": [],
   "source": [
    "def m_mean(df,n):\n",
    "    M_mean=[]\n",
    "    sum=0\n",
    "    for i in range(n):\n",
    "        sum=sum+df.mag[i]\n",
    "    M_mean.append(sum)\n",
    "    for i in range(len(df)-n):\n",
    "        sum=sum-df.mag[i]+df.mag[i+n]\n",
    "        M_mean.append(sum)\n",
    "    return M_mean"
   ]
  },
  {
   "cell_type": "code",
   "execution_count": null,
   "metadata": {},
   "outputs": [],
   "source": []
  },
  {
   "cell_type": "code",
   "execution_count": 4,
   "metadata": {},
   "outputs": [],
   "source": [
    "def e_mean(df,n):\n",
    "    Time = time(df,n)\n",
    "    E_mean=[]\n",
    "    E=0\n",
    "    for i in range(n):\n",
    "        E=E+(10**(11.8+1.5*df.mag[i]))**0.5\n",
    "    E_mean.append(E/Time[0])\n",
    "    for i in range(len(df)-n):\n",
    "        E=E-(10**(11.8+1.5*df.mag[i]))**0.5+(10**(11.8+1.5*df.mag[i+n]))**0.5\n",
    "        E_mean.append(E/Time[i+1])\n",
    "    return E_mean"
   ]
  },
  {
   "cell_type": "code",
   "execution_count": null,
   "metadata": {},
   "outputs": [],
   "source": []
  },
  {
   "cell_type": "code",
   "execution_count": 5,
   "metadata": {},
   "outputs": [],
   "source": [
    "def a_and_b(df,n):\n",
    "    b=[]\n",
    "    a=[]\n",
    "    for i in range(len(df)-(n-1)):\n",
    "        MN1=0\n",
    "        MN2=0\n",
    "        Mi=0\n",
    "        Mis=0\n",
    "        for j in range(i,i+n):\n",
    "            cnt=0\n",
    "            for k in range(i,i+n):\n",
    "                if df.mag[j]>=df.mag[k]:\n",
    "                    cnt=cnt+1\n",
    "            Mi=Mi+df.mag[j]\n",
    "            Mis=Mis+(df.mag[j]**2)\n",
    "            MN1=MN1+df.mag[j]*math.log10(cnt)\n",
    "            MN2=MN2+math.log10(cnt)\n",
    "        y=(n*MN1-Mi*MN2)/(Mi**2-n*Mis)\n",
    "        b.append(y*-1)\n",
    "        x=(MN2+y*df.mag[i])/n\n",
    "        a.append(x)\n",
    "    return a,b"
   ]
  },
  {
   "cell_type": "code",
   "execution_count": 11,
   "metadata": {},
   "outputs": [],
   "source": [
    "def Msd1(df,n,a,b):\n",
    "    msd=[]\n",
    "    for i in range(len(df)-(n-1)):\n",
    "        p=0\n",
    "        for j in range(i,i+n):\n",
    "            cnt=0\n",
    "            for k in range(i,i+n):\n",
    "                if df.mag[j]>=df.mag[k]:\n",
    "                    cnt=cnt+1\n",
    "            Ni=math.log10(cnt)\n",
    "        p=p+(Ni-(a[i]-b[i]*df.mag[i]))**2\n",
    "        msd.append(p/(n-1))\n",
    "    return msd"
   ]
  },
  {
   "cell_type": "code",
   "execution_count": 6,
   "metadata": {},
   "outputs": [],
   "source": [
    "def Msd(df,n,a,b):\n",
    "    msd=[]\n",
    "    for i in range(len(df)-(n-1)):\n",
    "        p=0\n",
    "        for j in range(i,i+n):\n",
    "            cnt=0\n",
    "            for k in range(i,i+n):\n",
    "                if df.mag[j]>=df.mag[k]:\n",
    "                    cnt=cnt+1\n",
    "            Ni=math.log10(cnt)\n",
    "        p=p+(Ni-(a[i]-b[i]*df.mag[i]))**2\n",
    "        msd.append(p/(n-1))\n",
    "    return msd"
   ]
  },
  {
   "cell_type": "code",
   "execution_count": null,
   "metadata": {},
   "outputs": [],
   "source": []
  },
  {
   "cell_type": "code",
   "execution_count": 7,
   "metadata": {},
   "outputs": [],
   "source": [
    "def md(df,n):\n",
    "    MD=[]\n",
    "    for i in range(len(df)-(n-1)):\n",
    "        mm=0\n",
    "        for j in range(i,i+n):\n",
    "            if df.mag[j]>mm:\n",
    "                mm=df.mag[j]\n",
    "        MD.append(mm-a[i]/b[i])\n",
    "    return MD"
   ]
  },
  {
   "cell_type": "code",
   "execution_count": null,
   "metadata": {},
   "outputs": [],
   "source": []
  },
  {
   "cell_type": "code",
   "execution_count": 8,
   "metadata": {},
   "outputs": [],
   "source": [
    "def low_and_high(df,n):\n",
    "    lowest_mag=100\n",
    "    highest_mag=0\n",
    "    for i in range(len(df)):\n",
    "        if df.mag[i]<lowest_mag:\n",
    "            lowest_mag=df.mag[i]\n",
    "        if df.mag[i]>highest_mag:\n",
    "            highest_mag=df.mag[i]\n",
    "    return lowest_mag,highest_mag"
   ]
  },
  {
   "cell_type": "code",
   "execution_count": null,
   "metadata": {},
   "outputs": [],
   "source": []
  },
  {
   "cell_type": "code",
   "execution_count": 12,
   "metadata": {},
   "outputs": [],
   "source": [
    "def ct_and_c(df,n):\n",
    "    \n",
    "    CT=[]\n",
    "    c=[]\n",
    "    for i in range(len(df)-(n-1)):\n",
    "        any_reference_date = pd.to_datetime(df.time[i+n-1])\n",
    "        cnt=0\n",
    "        ti=0\n",
    "        si=0\n",
    "        for j in range(i,i+n):\n",
    "            if df.mag[j]>=5.5:\n",
    "                cnt=cnt+1\n",
    "                ti=ti+(pd.to_datetime(df.time[j])-any_reference_date).days\n",
    "                si=si+((pd.to_datetime(df.time[j])-any_reference_date).days**2)\n",
    "        if cnt==0:\n",
    "            CT.append(0)\n",
    "            c.append(0)\n",
    "            continue\n",
    "        x=ti/cnt\n",
    "        y=si/cnt\n",
    "        if x==0:\n",
    "            c.append(si)\n",
    "        else:\n",
    "            c.append((si-x**2)/x)\n",
    "        CT.append(x)\n",
    "    return CT,c"
   ]
  },
  {
   "cell_type": "code",
   "execution_count": null,
   "metadata": {},
   "outputs": [],
   "source": []
  },
  {
   "cell_type": "code",
   "execution_count": null,
   "metadata": {},
   "outputs": [],
   "source": []
  },
  {
   "cell_type": "code",
   "execution_count": 10,
   "metadata": {},
   "outputs": [],
   "source": [
    "def yyy(df,n):\n",
    "    y=[]\n",
    "    for i in range(len(df)-(n)):\n",
    "        y.append(df.mag[i+n])\n",
    "    y.append(0)\n",
    "    return y"
   ]
  },
  {
   "cell_type": "code",
   "execution_count": null,
   "metadata": {},
   "outputs": [],
   "source": []
  },
  {
   "cell_type": "code",
   "execution_count": null,
   "metadata": {},
   "outputs": [],
   "source": []
  }
 ],
 "metadata": {
  "kernelspec": {
   "display_name": "Python 3",
   "language": "python",
   "name": "python3"
  },
  "language_info": {
   "codemirror_mode": {
    "name": "ipython",
    "version": 3
   },
   "file_extension": ".py",
   "mimetype": "text/x-python",
   "name": "python",
   "nbconvert_exporter": "python",
   "pygments_lexer": "ipython3",
   "version": "3.6.7"
  }
 },
 "nbformat": 4,
 "nbformat_minor": 2
}
